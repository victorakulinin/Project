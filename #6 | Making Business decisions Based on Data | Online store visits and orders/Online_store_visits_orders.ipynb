{
 "cells": [
  {
   "cell_type": "markdown",
   "id": "4e24def5",
   "metadata": {},
   "source": [
    "## Introdution to project\n",
    "\n",
    "\n",
    "I'm an analyst at a big online store. Together with the marketing department, I've compiled a list of hypotheses that may help boost revenue.\n",
    "I must prioritize these hypotheses, launch an A/B test, and analyze the results.\n",
    "\n",
    "#### I have:\n",
    "- nine hypotheses on boosting an online store's\n",
    "- file with orders\n",
    "- file with the number of visits divided into group\n",
    "\n",
    "#### I'm going to do the following:\n",
    "- prioritizing hypotheses using ICE and RICE frameworks\n",
    "- studying cumulative revenue, average order size, and the relative difference in cumulative average order size for groups\n",
    "- studying conversion rate\n",
    "- studying anomalies\n",
    "- find the statistical significance of the difference in conversion between the groups\n",
    "- find the statistical significance of the difference in average order size between the groups\n",
    "- find the statistical significance of the difference in conversion between the groups without anomalies\n",
    "- find the statistical significance of the difference in average order size between the groups without anomalies\n",
    "- make conclusion"
   ]
  },
  {
   "cell_type": "code",
   "execution_count": 1,
   "id": "f881c8be",
   "metadata": {},
   "outputs": [],
   "source": [
    "# at first, Loading all the libraries\n",
    "from IPython.core.interactiveshell import InteractiveShell\n",
    "InteractiveShell.ast_node_interactivity = 'all'\n",
    "\n",
    "import pandas as pd\n",
    "import numpy as np\n",
    "#!pip install sidetable\n",
    "import sidetable as stb\n",
    "import scipy.stats as st\n",
    "from datetime import datetime\n",
    "import matplotlib.pyplot as plt\n",
    "from matplotlib.pyplot import figure\n",
    "import seaborn as sns\n",
    "#!pip install plotly\n",
    "#import plotly.express as px\n",
    "#import plotly.graph_objects as go"
   ]
  },
  {
   "cell_type": "code",
   "execution_count": 2,
   "id": "a7a5e5b9",
   "metadata": {},
   "outputs": [],
   "source": [
    "# Load the data file into a DataFrame\n",
    "path_v_h = \"/Users/victo/Downloads/visits_us.csv\"\n",
    "path_o_h = \"/Users/victo/Downloads/orders_us.csv\"\n",
    "path_h_h = \"/Users/victo/Downloads/hypotheses_us.csv\"\n",
    "path_v = '/datasets/visits_us.csv'\n",
    "path_o = '/datasets/orders_us.csv'\n",
    "path_h = '/datasets/hypotheses_us.csv'\n",
    "\n",
    "try:\n",
    "    visits = pd.read_csv(path_v_h, sep = ',')\n",
    "    orders = pd.read_csv(path_o_h, sep = ',')\n",
    "    hypotheses = pd.read_csv(path_h_h, sep = ',')\n",
    "except:\n",
    "    visits = pd.read_csv(path_v, sep = ',')\n",
    "    orders = pd.read_csv(path_o, sep = ',')\n",
    "    hypotheses = pd.read_csv(path_h, sep = ',')"
   ]
  },
  {
   "cell_type": "code",
   "execution_count": 3,
   "id": "75bceec4",
   "metadata": {},
   "outputs": [
    {
     "name": "stdout",
     "output_type": "stream",
     "text": [
      "<class 'pandas.core.frame.DataFrame'>\n",
      "RangeIndex: 62 entries, 0 to 61\n",
      "Data columns (total 3 columns):\n",
      " #   Column  Non-Null Count  Dtype \n",
      "---  ------  --------------  ----- \n",
      " 0   date    62 non-null     object\n",
      " 1   group   62 non-null     object\n",
      " 2   visits  62 non-null     int64 \n",
      "dtypes: int64(1), object(2)\n",
      "memory usage: 8.2 KB\n"
     ]
    },
    {
     "data": {
      "text/html": [
       "<div>\n",
       "<style scoped>\n",
       "    .dataframe tbody tr th:only-of-type {\n",
       "        vertical-align: middle;\n",
       "    }\n",
       "\n",
       "    .dataframe tbody tr th {\n",
       "        vertical-align: top;\n",
       "    }\n",
       "\n",
       "    .dataframe thead th {\n",
       "        text-align: right;\n",
       "    }\n",
       "</style>\n",
       "<table border=\"1\" class=\"dataframe\">\n",
       "  <thead>\n",
       "    <tr style=\"text-align: right;\">\n",
       "      <th></th>\n",
       "      <th>date</th>\n",
       "      <th>group</th>\n",
       "      <th>visits</th>\n",
       "    </tr>\n",
       "  </thead>\n",
       "  <tbody>\n",
       "    <tr>\n",
       "      <th>0</th>\n",
       "      <td>2019-08-01</td>\n",
       "      <td>A</td>\n",
       "      <td>719</td>\n",
       "    </tr>\n",
       "    <tr>\n",
       "      <th>1</th>\n",
       "      <td>2019-08-02</td>\n",
       "      <td>A</td>\n",
       "      <td>619</td>\n",
       "    </tr>\n",
       "    <tr>\n",
       "      <th>2</th>\n",
       "      <td>2019-08-03</td>\n",
       "      <td>A</td>\n",
       "      <td>507</td>\n",
       "    </tr>\n",
       "    <tr>\n",
       "      <th>3</th>\n",
       "      <td>2019-08-04</td>\n",
       "      <td>A</td>\n",
       "      <td>717</td>\n",
       "    </tr>\n",
       "    <tr>\n",
       "      <th>4</th>\n",
       "      <td>2019-08-05</td>\n",
       "      <td>A</td>\n",
       "      <td>756</td>\n",
       "    </tr>\n",
       "  </tbody>\n",
       "</table>\n",
       "</div>"
      ],
      "text/plain": [
       "         date group  visits\n",
       "0  2019-08-01     A     719\n",
       "1  2019-08-02     A     619\n",
       "2  2019-08-03     A     507\n",
       "3  2019-08-04     A     717\n",
       "4  2019-08-05     A     756"
      ]
     },
     "execution_count": 3,
     "metadata": {},
     "output_type": "execute_result"
    }
   ],
   "source": [
    "# let's begin with data frame visits\n",
    "visits.info(memory_usage='deep')\n",
    "visits.head()"
   ]
  },
  {
   "cell_type": "code",
   "execution_count": 4,
   "id": "57124a09",
   "metadata": {},
   "outputs": [],
   "source": [
    "try:\n",
    "    visits = pd.read_csv(path_v_h, sep = ',', \n",
    "                  parse_dates=['date'])\n",
    "except:\n",
    "    visits = pd.read_csv(path_v, sep = ',',                   \n",
    "                  parse_dates=['date'])"
   ]
  },
  {
   "cell_type": "code",
   "execution_count": 5,
   "id": "6cad6706",
   "metadata": {},
   "outputs": [
    {
     "name": "stdout",
     "output_type": "stream",
     "text": [
      "<class 'pandas.core.frame.DataFrame'>\n",
      "RangeIndex: 62 entries, 0 to 61\n",
      "Data columns (total 3 columns):\n",
      " #   Column  Non-Null Count  Dtype         \n",
      "---  ------  --------------  -----         \n",
      " 0   date    62 non-null     datetime64[ns]\n",
      " 1   group   62 non-null     object        \n",
      " 2   visits  62 non-null     int64         \n",
      "dtypes: datetime64[ns](1), int64(1), object(1)\n",
      "memory usage: 4.6 KB\n"
     ]
    }
   ],
   "source": [
    "# let's check what we have\n",
    "visits.info(memory_usage='deep')"
   ]
  },
  {
   "cell_type": "markdown",
   "id": "add6551b",
   "metadata": {},
   "source": [
    "Ok, at first:\n",
    "\n",
    "##### Description of data \n",
    "\n",
    "- **date** — date\n",
    "- **group** — A/B test group\n",
    "- **visits** — the number of visits on the date specified in the A/B test group specified\n",
    "\n",
    "We loaded the database with a depth of 62 lines. When loading, I changed the data type for the **group** and **date** columns, reducing the amount of data loaded by almost 6 times, from 8.2 KB to 4.6 KB.\n"
   ]
  },
  {
   "cell_type": "code",
   "execution_count": 6,
   "id": "7bdd6a1f",
   "metadata": {},
   "outputs": [
    {
     "name": "stderr",
     "output_type": "stream",
     "text": [
      "<ipython-input-6-825844de6daa>:3: FutureWarning: Treating datetime data as categorical rather than numeric in `.describe` is deprecated and will be removed in a future version of pandas. Specify `datetime_is_numeric=True` to silence this warning and adopt the future behavior now.\n",
      "  visits.describe(include = 'all').T\n"
     ]
    },
    {
     "data": {
      "text/html": [
       "<div>\n",
       "<style scoped>\n",
       "    .dataframe tbody tr th:only-of-type {\n",
       "        vertical-align: middle;\n",
       "    }\n",
       "\n",
       "    .dataframe tbody tr th {\n",
       "        vertical-align: top;\n",
       "    }\n",
       "\n",
       "    .dataframe thead th {\n",
       "        text-align: right;\n",
       "    }\n",
       "</style>\n",
       "<table border=\"1\" class=\"dataframe\">\n",
       "  <thead>\n",
       "    <tr style=\"text-align: right;\">\n",
       "      <th></th>\n",
       "      <th>count</th>\n",
       "      <th>unique</th>\n",
       "      <th>top</th>\n",
       "      <th>freq</th>\n",
       "      <th>first</th>\n",
       "      <th>last</th>\n",
       "      <th>mean</th>\n",
       "      <th>std</th>\n",
       "      <th>min</th>\n",
       "      <th>25%</th>\n",
       "      <th>50%</th>\n",
       "      <th>75%</th>\n",
       "      <th>max</th>\n",
       "    </tr>\n",
       "  </thead>\n",
       "  <tbody>\n",
       "    <tr>\n",
       "      <th>date</th>\n",
       "      <td>62</td>\n",
       "      <td>31</td>\n",
       "      <td>2019-08-01 00:00:00</td>\n",
       "      <td>2</td>\n",
       "      <td>2019-08-01</td>\n",
       "      <td>2019-08-31</td>\n",
       "      <td>NaN</td>\n",
       "      <td>NaN</td>\n",
       "      <td>NaN</td>\n",
       "      <td>NaN</td>\n",
       "      <td>NaN</td>\n",
       "      <td>NaN</td>\n",
       "      <td>NaN</td>\n",
       "    </tr>\n",
       "    <tr>\n",
       "      <th>group</th>\n",
       "      <td>62</td>\n",
       "      <td>2</td>\n",
       "      <td>A</td>\n",
       "      <td>31</td>\n",
       "      <td>NaT</td>\n",
       "      <td>NaT</td>\n",
       "      <td>NaN</td>\n",
       "      <td>NaN</td>\n",
       "      <td>NaN</td>\n",
       "      <td>NaN</td>\n",
       "      <td>NaN</td>\n",
       "      <td>NaN</td>\n",
       "      <td>NaN</td>\n",
       "    </tr>\n",
       "    <tr>\n",
       "      <th>visits</th>\n",
       "      <td>62.0</td>\n",
       "      <td>NaN</td>\n",
       "      <td>NaN</td>\n",
       "      <td>NaN</td>\n",
       "      <td>NaT</td>\n",
       "      <td>NaT</td>\n",
       "      <td>607.290323</td>\n",
       "      <td>114.40056</td>\n",
       "      <td>361.0</td>\n",
       "      <td>534.0</td>\n",
       "      <td>624.5</td>\n",
       "      <td>710.5</td>\n",
       "      <td>770.0</td>\n",
       "    </tr>\n",
       "  </tbody>\n",
       "</table>\n",
       "</div>"
      ],
      "text/plain": [
       "       count unique                  top freq      first       last  \\\n",
       "date      62     31  2019-08-01 00:00:00    2 2019-08-01 2019-08-31   \n",
       "group     62      2                    A   31        NaT        NaT   \n",
       "visits  62.0    NaN                  NaN  NaN        NaT        NaT   \n",
       "\n",
       "              mean        std    min    25%    50%    75%    max  \n",
       "date           NaN        NaN    NaN    NaN    NaN    NaN    NaN  \n",
       "group          NaN        NaN    NaN    NaN    NaN    NaN    NaN  \n",
       "visits  607.290323  114.40056  361.0  534.0  624.5  710.5  770.0  "
      ]
     },
     "execution_count": 6,
     "metadata": {},
     "output_type": "execute_result"
    }
   ],
   "source": [
    "# let's look a little bit close at the data\n",
    "\n",
    "visits.describe(include = 'all').T"
   ]
  },
  {
   "cell_type": "markdown",
   "id": "5d2c4c58",
   "metadata": {},
   "source": [
    "So, judging by the report, we have data on-site visits for August, without skipping days.\\\n",
    "We have an equal breakdown into groups: 31 rows with data for group A and the same number for group B.\\\n",
    "The maximum number of visits is 770, the minimum is 361 (the gap is almost 2 times). But these are general figures without breakdown, let's see which group of users visited the site more often."
   ]
  },
  {
   "cell_type": "code",
   "execution_count": 7,
   "id": "b3c16628",
   "metadata": {},
   "outputs": [
    {
     "data": {
      "text/plain": [
       "group\n",
       "A    18736\n",
       "B    18916\n",
       "Name: visits, dtype: int64"
      ]
     },
     "execution_count": 7,
     "metadata": {},
     "output_type": "execute_result"
    }
   ],
   "source": [
    "#let's see the number of visits by groups\n",
    "\n",
    "visits.groupby('group')['visits'].sum()"
   ]
  },
  {
   "cell_type": "markdown",
   "id": "85aad601",
   "metadata": {},
   "source": [
    "Hm... the difference is less than 1%"
   ]
  },
  {
   "cell_type": "code",
   "execution_count": 8,
   "id": "91c4166e",
   "metadata": {},
   "outputs": [
    {
     "data": {
      "text/plain": [
       "0"
      ]
     },
     "execution_count": 8,
     "metadata": {},
     "output_type": "execute_result"
    }
   ],
   "source": [
    "# and finally - check the duplicates\n",
    "\n",
    "visits.duplicated().sum()"
   ]
  },
  {
   "cell_type": "code",
   "execution_count": 9,
   "id": "edc97cea",
   "metadata": {},
   "outputs": [
    {
     "name": "stdout",
     "output_type": "stream",
     "text": [
      "<class 'pandas.core.frame.DataFrame'>\n",
      "RangeIndex: 1197 entries, 0 to 1196\n",
      "Data columns (total 5 columns):\n",
      " #   Column         Non-Null Count  Dtype  \n",
      "---  ------         --------------  -----  \n",
      " 0   transactionId  1197 non-null   int64  \n",
      " 1   visitorId      1197 non-null   int64  \n",
      " 2   date           1197 non-null   object \n",
      " 3   revenue        1197 non-null   float64\n",
      " 4   group          1197 non-null   object \n",
      "dtypes: float64(1), int64(2), object(2)\n",
      "memory usage: 174.3 KB\n"
     ]
    },
    {
     "data": {
      "text/html": [
       "<div>\n",
       "<style scoped>\n",
       "    .dataframe tbody tr th:only-of-type {\n",
       "        vertical-align: middle;\n",
       "    }\n",
       "\n",
       "    .dataframe tbody tr th {\n",
       "        vertical-align: top;\n",
       "    }\n",
       "\n",
       "    .dataframe thead th {\n",
       "        text-align: right;\n",
       "    }\n",
       "</style>\n",
       "<table border=\"1\" class=\"dataframe\">\n",
       "  <thead>\n",
       "    <tr style=\"text-align: right;\">\n",
       "      <th></th>\n",
       "      <th>transactionId</th>\n",
       "      <th>visitorId</th>\n",
       "      <th>date</th>\n",
       "      <th>revenue</th>\n",
       "      <th>group</th>\n",
       "    </tr>\n",
       "  </thead>\n",
       "  <tbody>\n",
       "    <tr>\n",
       "      <th>0</th>\n",
       "      <td>3667963787</td>\n",
       "      <td>3312258926</td>\n",
       "      <td>2019-08-15</td>\n",
       "      <td>30.4</td>\n",
       "      <td>B</td>\n",
       "    </tr>\n",
       "    <tr>\n",
       "      <th>1</th>\n",
       "      <td>2804400009</td>\n",
       "      <td>3642806036</td>\n",
       "      <td>2019-08-15</td>\n",
       "      <td>15.2</td>\n",
       "      <td>B</td>\n",
       "    </tr>\n",
       "    <tr>\n",
       "      <th>2</th>\n",
       "      <td>2961555356</td>\n",
       "      <td>4069496402</td>\n",
       "      <td>2019-08-15</td>\n",
       "      <td>10.2</td>\n",
       "      <td>A</td>\n",
       "    </tr>\n",
       "    <tr>\n",
       "      <th>3</th>\n",
       "      <td>3797467345</td>\n",
       "      <td>1196621759</td>\n",
       "      <td>2019-08-15</td>\n",
       "      <td>155.1</td>\n",
       "      <td>B</td>\n",
       "    </tr>\n",
       "    <tr>\n",
       "      <th>4</th>\n",
       "      <td>2282983706</td>\n",
       "      <td>2322279887</td>\n",
       "      <td>2019-08-15</td>\n",
       "      <td>40.5</td>\n",
       "      <td>B</td>\n",
       "    </tr>\n",
       "  </tbody>\n",
       "</table>\n",
       "</div>"
      ],
      "text/plain": [
       "   transactionId   visitorId        date  revenue group\n",
       "0     3667963787  3312258926  2019-08-15     30.4     B\n",
       "1     2804400009  3642806036  2019-08-15     15.2     B\n",
       "2     2961555356  4069496402  2019-08-15     10.2     A\n",
       "3     3797467345  1196621759  2019-08-15    155.1     B\n",
       "4     2282983706  2322279887  2019-08-15     40.5     B"
      ]
     },
     "execution_count": 9,
     "metadata": {},
     "output_type": "execute_result"
    }
   ],
   "source": [
    "# let's continue with data frame orders\n",
    "\n",
    "orders.info(memory_usage='deep')\n",
    "orders.head()"
   ]
  },
  {
   "cell_type": "code",
   "execution_count": 10,
   "id": "543089c1",
   "metadata": {},
   "outputs": [],
   "source": [
    "try:\n",
    "    orders = pd.read_csv(path_o_h, sep = ',',\n",
    "                  parse_dates=['date'])\n",
    "except:\n",
    "    orders = pd.read_csv(path_o, sep = ',',\n",
    "                  parse_dates=['date'])"
   ]
  },
  {
   "cell_type": "code",
   "execution_count": 11,
   "id": "a8a4d192",
   "metadata": {},
   "outputs": [
    {
     "name": "stdout",
     "output_type": "stream",
     "text": [
      "<class 'pandas.core.frame.DataFrame'>\n",
      "RangeIndex: 1197 entries, 0 to 1196\n",
      "Data columns (total 5 columns):\n",
      " #   Column         Non-Null Count  Dtype         \n",
      "---  ------         --------------  -----         \n",
      " 0   transactionId  1197 non-null   int64         \n",
      " 1   visitorId      1197 non-null   int64         \n",
      " 2   date           1197 non-null   datetime64[ns]\n",
      " 3   revenue        1197 non-null   float64       \n",
      " 4   group          1197 non-null   object        \n",
      "dtypes: datetime64[ns](1), float64(1), int64(2), object(1)\n",
      "memory usage: 105.3 KB\n"
     ]
    },
    {
     "name": "stderr",
     "output_type": "stream",
     "text": [
      "<ipython-input-11-42fea5137889>:3: FutureWarning: Treating datetime data as categorical rather than numeric in `.describe` is deprecated and will be removed in a future version of pandas. Specify `datetime_is_numeric=True` to silence this warning and adopt the future behavior now.\n",
      "  orders.describe(include='all').T\n"
     ]
    },
    {
     "data": {
      "text/html": [
       "<div>\n",
       "<style scoped>\n",
       "    .dataframe tbody tr th:only-of-type {\n",
       "        vertical-align: middle;\n",
       "    }\n",
       "\n",
       "    .dataframe tbody tr th {\n",
       "        vertical-align: top;\n",
       "    }\n",
       "\n",
       "    .dataframe thead th {\n",
       "        text-align: right;\n",
       "    }\n",
       "</style>\n",
       "<table border=\"1\" class=\"dataframe\">\n",
       "  <thead>\n",
       "    <tr style=\"text-align: right;\">\n",
       "      <th></th>\n",
       "      <th>count</th>\n",
       "      <th>unique</th>\n",
       "      <th>top</th>\n",
       "      <th>freq</th>\n",
       "      <th>first</th>\n",
       "      <th>last</th>\n",
       "      <th>mean</th>\n",
       "      <th>std</th>\n",
       "      <th>min</th>\n",
       "      <th>25%</th>\n",
       "      <th>50%</th>\n",
       "      <th>75%</th>\n",
       "      <th>max</th>\n",
       "    </tr>\n",
       "  </thead>\n",
       "  <tbody>\n",
       "    <tr>\n",
       "      <th>transactionId</th>\n",
       "      <td>1197.0</td>\n",
       "      <td>NaN</td>\n",
       "      <td>NaN</td>\n",
       "      <td>NaN</td>\n",
       "      <td>NaT</td>\n",
       "      <td>NaT</td>\n",
       "      <td>2155621385.529657</td>\n",
       "      <td>1229084904.760058</td>\n",
       "      <td>1062393.0</td>\n",
       "      <td>1166775572.0</td>\n",
       "      <td>2145193898.0</td>\n",
       "      <td>3237740112.0</td>\n",
       "      <td>4293855558.0</td>\n",
       "    </tr>\n",
       "    <tr>\n",
       "      <th>visitorId</th>\n",
       "      <td>1197.0</td>\n",
       "      <td>NaN</td>\n",
       "      <td>NaN</td>\n",
       "      <td>NaN</td>\n",
       "      <td>NaT</td>\n",
       "      <td>NaT</td>\n",
       "      <td>2165960143.099415</td>\n",
       "      <td>1236014192.14687</td>\n",
       "      <td>5114589.0</td>\n",
       "      <td>1111826046.0</td>\n",
       "      <td>2217984702.0</td>\n",
       "      <td>3177606451.0</td>\n",
       "      <td>4283872382.0</td>\n",
       "    </tr>\n",
       "    <tr>\n",
       "      <th>date</th>\n",
       "      <td>1197</td>\n",
       "      <td>31</td>\n",
       "      <td>2019-08-05 00:00:00</td>\n",
       "      <td>48</td>\n",
       "      <td>2019-08-01</td>\n",
       "      <td>2019-08-31</td>\n",
       "      <td>NaN</td>\n",
       "      <td>NaN</td>\n",
       "      <td>NaN</td>\n",
       "      <td>NaN</td>\n",
       "      <td>NaN</td>\n",
       "      <td>NaN</td>\n",
       "      <td>NaN</td>\n",
       "    </tr>\n",
       "    <tr>\n",
       "      <th>revenue</th>\n",
       "      <td>1197.0</td>\n",
       "      <td>NaN</td>\n",
       "      <td>NaN</td>\n",
       "      <td>NaN</td>\n",
       "      <td>NaT</td>\n",
       "      <td>NaT</td>\n",
       "      <td>131.491646</td>\n",
       "      <td>603.004729</td>\n",
       "      <td>5.0</td>\n",
       "      <td>20.8</td>\n",
       "      <td>50.2</td>\n",
       "      <td>130.4</td>\n",
       "      <td>19920.4</td>\n",
       "    </tr>\n",
       "    <tr>\n",
       "      <th>group</th>\n",
       "      <td>1197</td>\n",
       "      <td>2</td>\n",
       "      <td>B</td>\n",
       "      <td>640</td>\n",
       "      <td>NaT</td>\n",
       "      <td>NaT</td>\n",
       "      <td>NaN</td>\n",
       "      <td>NaN</td>\n",
       "      <td>NaN</td>\n",
       "      <td>NaN</td>\n",
       "      <td>NaN</td>\n",
       "      <td>NaN</td>\n",
       "      <td>NaN</td>\n",
       "    </tr>\n",
       "  </tbody>\n",
       "</table>\n",
       "</div>"
      ],
      "text/plain": [
       "                count unique                  top freq      first       last  \\\n",
       "transactionId  1197.0    NaN                  NaN  NaN        NaT        NaT   \n",
       "visitorId      1197.0    NaN                  NaN  NaN        NaT        NaT   \n",
       "date             1197     31  2019-08-05 00:00:00   48 2019-08-01 2019-08-31   \n",
       "revenue        1197.0    NaN                  NaN  NaN        NaT        NaT   \n",
       "group            1197      2                    B  640        NaT        NaT   \n",
       "\n",
       "                            mean                std        min           25%  \\\n",
       "transactionId  2155621385.529657  1229084904.760058  1062393.0  1166775572.0   \n",
       "visitorId      2165960143.099415   1236014192.14687  5114589.0  1111826046.0   \n",
       "date                         NaN                NaN        NaN           NaN   \n",
       "revenue               131.491646         603.004729        5.0          20.8   \n",
       "group                        NaN                NaN        NaN           NaN   \n",
       "\n",
       "                        50%           75%           max  \n",
       "transactionId  2145193898.0  3237740112.0  4293855558.0  \n",
       "visitorId      2217984702.0  3177606451.0  4283872382.0  \n",
       "date                    NaN           NaN           NaN  \n",
       "revenue                50.2         130.4       19920.4  \n",
       "group                   NaN           NaN           NaN  "
      ]
     },
     "execution_count": 11,
     "metadata": {},
     "output_type": "execute_result"
    }
   ],
   "source": [
    "# let's check what we have\n",
    "orders.info(memory_usage='deep')\n",
    "orders.describe(include='all').T\n"
   ]
  },
  {
   "cell_type": "markdown",
   "id": "dc1f472f",
   "metadata": {},
   "source": [
    "##### Description of data \n",
    "\n",
    "- **transactionId** — order identifier\n",
    "- **visitorId** — identifier of the user who placed the order\n",
    "- **date** — of the order\n",
    "- **revenue** — from the order\n",
    "- **group** — the A/B test group that the user belongs to\n",
    "\n",
    "So, we have loaded 1197 rows without gaps. When loading, we changed the data type for the date and group columns and reduced the amount of data loaded from 174.39 kb to 105.3 kb.\\\n",
    "We have data for the full August 2019 on our customers' purchases.\\\n",
    "We see that there are not many (7%) users of group B, but more.\\\n",
    "Let's take a closer look at groups, and check if we have visitors who got in both groups."
   ]
  },
  {
   "cell_type": "code",
   "execution_count": 12,
   "id": "87eca3bb",
   "metadata": {},
   "outputs": [
    {
     "name": "stdout",
     "output_type": "stream",
     "text": [
      "Number of observers when the users in both groups is 183, or 15.29%.\n",
      "Number of users in both groups is 58, or 5.63%.\n"
     ]
    }
   ],
   "source": [
    "# let's divide visitors by group\n",
    "orders_a = orders.query('group == \"A\"')\n",
    "orders_b = orders.query('group == \"B\"')\n",
    "\n",
    "# find suspicious orders\n",
    "suspicious_orders = pd.merge(orders_a, orders_b, how = 'inner', on = ['visitorId'])\n",
    "print(f'Number of observers when the users in both groups is {pd.Series(len(suspicious_orders))[0]}, or\\\n",
    "{(len(suspicious_orders)/len(orders)): .2%}.')\n",
    "print(f'Number of users in both groups is {suspicious_orders.visitorId.nunique()}, or\\\n",
    "{suspicious_orders.visitorId.nunique()/orders.visitorId.nunique(): .2%}.')"
   ]
  },
  {
   "cell_type": "markdown",
   "id": "4831d9c4",
   "metadata": {},
   "source": [
    "Hm, 15% it's not a little, but here we can't recognize which group they get—so, I'll delete them."
   ]
  },
  {
   "cell_type": "code",
   "execution_count": 13,
   "id": "33cb67e7",
   "metadata": {},
   "outputs": [],
   "source": [
    "# at first - make a list with suspicious users\n",
    "orders_for_change = suspicious_orders.visitorId\n",
    "\n",
    "# copied data frame orders\n",
    "correct_orders = orders.copy()\n",
    "\n",
    "# delete the orders\n",
    "correct_orders = orders[-orders.visitorId.isin(orders_for_change)]"
   ]
  },
  {
   "cell_type": "code",
   "execution_count": 14,
   "id": "82e6ca3b",
   "metadata": {},
   "outputs": [
    {
     "name": "stdout",
     "output_type": "stream",
     "text": [
      "<class 'pandas.core.frame.DataFrame'>\n",
      "Int64Index: 1016 entries, 0 to 1196\n",
      "Data columns (total 5 columns):\n",
      " #   Column         Non-Null Count  Dtype         \n",
      "---  ------         --------------  -----         \n",
      " 0   transactionId  1016 non-null   int64         \n",
      " 1   visitorId      1016 non-null   int64         \n",
      " 2   date           1016 non-null   datetime64[ns]\n",
      " 3   revenue        1016 non-null   float64       \n",
      " 4   group          1016 non-null   object        \n",
      "dtypes: datetime64[ns](1), float64(1), int64(2), object(1)\n",
      "memory usage: 97.2 KB\n"
     ]
    },
    {
     "name": "stderr",
     "output_type": "stream",
     "text": [
      "<ipython-input-14-42d8eb65a86c>:3: FutureWarning: Treating datetime data as categorical rather than numeric in `.describe` is deprecated and will be removed in a future version of pandas. Specify `datetime_is_numeric=True` to silence this warning and adopt the future behavior now.\n",
      "  correct_orders.describe(include='all').T\n"
     ]
    },
    {
     "data": {
      "text/html": [
       "<div>\n",
       "<style scoped>\n",
       "    .dataframe tbody tr th:only-of-type {\n",
       "        vertical-align: middle;\n",
       "    }\n",
       "\n",
       "    .dataframe tbody tr th {\n",
       "        vertical-align: top;\n",
       "    }\n",
       "\n",
       "    .dataframe thead th {\n",
       "        text-align: right;\n",
       "    }\n",
       "</style>\n",
       "<table border=\"1\" class=\"dataframe\">\n",
       "  <thead>\n",
       "    <tr style=\"text-align: right;\">\n",
       "      <th></th>\n",
       "      <th>count</th>\n",
       "      <th>unique</th>\n",
       "      <th>top</th>\n",
       "      <th>freq</th>\n",
       "      <th>first</th>\n",
       "      <th>last</th>\n",
       "      <th>mean</th>\n",
       "      <th>std</th>\n",
       "      <th>min</th>\n",
       "      <th>25%</th>\n",
       "      <th>50%</th>\n",
       "      <th>75%</th>\n",
       "      <th>max</th>\n",
       "    </tr>\n",
       "  </thead>\n",
       "  <tbody>\n",
       "    <tr>\n",
       "      <th>transactionId</th>\n",
       "      <td>1016.0</td>\n",
       "      <td>NaN</td>\n",
       "      <td>NaN</td>\n",
       "      <td>NaN</td>\n",
       "      <td>NaT</td>\n",
       "      <td>NaT</td>\n",
       "      <td>2155084621.108268</td>\n",
       "      <td>1234371920.227287</td>\n",
       "      <td>1062393.0</td>\n",
       "      <td>1143481362.5</td>\n",
       "      <td>2144498593.0</td>\n",
       "      <td>3256513229.0</td>\n",
       "      <td>4288552432.0</td>\n",
       "    </tr>\n",
       "    <tr>\n",
       "      <th>visitorId</th>\n",
       "      <td>1016.0</td>\n",
       "      <td>NaN</td>\n",
       "      <td>NaN</td>\n",
       "      <td>NaN</td>\n",
       "      <td>NaT</td>\n",
       "      <td>NaT</td>\n",
       "      <td>2128676536.36811</td>\n",
       "      <td>1221578489.673526</td>\n",
       "      <td>5114589.0</td>\n",
       "      <td>1043654735.75</td>\n",
       "      <td>2150274199.5</td>\n",
       "      <td>3146990608.5</td>\n",
       "      <td>4283872382.0</td>\n",
       "    </tr>\n",
       "    <tr>\n",
       "      <th>date</th>\n",
       "      <td>1016</td>\n",
       "      <td>31</td>\n",
       "      <td>2019-08-05 00:00:00</td>\n",
       "      <td>43</td>\n",
       "      <td>2019-08-01</td>\n",
       "      <td>2019-08-31</td>\n",
       "      <td>NaN</td>\n",
       "      <td>NaN</td>\n",
       "      <td>NaN</td>\n",
       "      <td>NaN</td>\n",
       "      <td>NaN</td>\n",
       "      <td>NaN</td>\n",
       "      <td>NaN</td>\n",
       "    </tr>\n",
       "    <tr>\n",
       "      <th>revenue</th>\n",
       "      <td>1016.0</td>\n",
       "      <td>NaN</td>\n",
       "      <td>NaN</td>\n",
       "      <td>NaN</td>\n",
       "      <td>NaT</td>\n",
       "      <td>NaT</td>\n",
       "      <td>130.770866</td>\n",
       "      <td>648.07981</td>\n",
       "      <td>5.0</td>\n",
       "      <td>20.775</td>\n",
       "      <td>50.1</td>\n",
       "      <td>126.95</td>\n",
       "      <td>19920.4</td>\n",
       "    </tr>\n",
       "    <tr>\n",
       "      <th>group</th>\n",
       "      <td>1016</td>\n",
       "      <td>2</td>\n",
       "      <td>B</td>\n",
       "      <td>548</td>\n",
       "      <td>NaT</td>\n",
       "      <td>NaT</td>\n",
       "      <td>NaN</td>\n",
       "      <td>NaN</td>\n",
       "      <td>NaN</td>\n",
       "      <td>NaN</td>\n",
       "      <td>NaN</td>\n",
       "      <td>NaN</td>\n",
       "      <td>NaN</td>\n",
       "    </tr>\n",
       "  </tbody>\n",
       "</table>\n",
       "</div>"
      ],
      "text/plain": [
       "                count unique                  top freq      first       last  \\\n",
       "transactionId  1016.0    NaN                  NaN  NaN        NaT        NaT   \n",
       "visitorId      1016.0    NaN                  NaN  NaN        NaT        NaT   \n",
       "date             1016     31  2019-08-05 00:00:00   43 2019-08-01 2019-08-31   \n",
       "revenue        1016.0    NaN                  NaN  NaN        NaT        NaT   \n",
       "group            1016      2                    B  548        NaT        NaT   \n",
       "\n",
       "                            mean                std        min            25%  \\\n",
       "transactionId  2155084621.108268  1234371920.227287  1062393.0   1143481362.5   \n",
       "visitorId       2128676536.36811  1221578489.673526  5114589.0  1043654735.75   \n",
       "date                         NaN                NaN        NaN            NaN   \n",
       "revenue               130.770866          648.07981        5.0         20.775   \n",
       "group                        NaN                NaN        NaN            NaN   \n",
       "\n",
       "                        50%           75%           max  \n",
       "transactionId  2144498593.0  3256513229.0  4288552432.0  \n",
       "visitorId      2150274199.5  3146990608.5  4283872382.0  \n",
       "date                    NaN           NaN           NaN  \n",
       "revenue                50.1        126.95       19920.4  \n",
       "group                   NaN           NaN           NaN  "
      ]
     },
     "execution_count": 14,
     "metadata": {},
     "output_type": "execute_result"
    }
   ],
   "source": [
    "#let's check again, what we have\n",
    "correct_orders.info(memory_usage='deep')\n",
    "correct_orders.describe(include='all').T"
   ]
  },
  {
   "cell_type": "markdown",
   "id": "13c3210b",
   "metadata": {},
   "source": [
    "The difference is still about 7%, and what about revenue?"
   ]
  },
  {
   "cell_type": "code",
   "execution_count": 15,
   "id": "40664a7a",
   "metadata": {},
   "outputs": [
    {
     "data": {
      "text/html": [
       "<div>\n",
       "<style scoped>\n",
       "    .dataframe tbody tr th:only-of-type {\n",
       "        vertical-align: middle;\n",
       "    }\n",
       "\n",
       "    .dataframe tbody tr th {\n",
       "        vertical-align: top;\n",
       "    }\n",
       "\n",
       "    .dataframe thead th {\n",
       "        text-align: right;\n",
       "    }\n",
       "</style>\n",
       "<table border=\"1\" class=\"dataframe\">\n",
       "  <thead>\n",
       "    <tr style=\"text-align: right;\">\n",
       "      <th></th>\n",
       "      <th>transactionId</th>\n",
       "      <th>visitorId</th>\n",
       "      <th>date</th>\n",
       "      <th>revenue</th>\n",
       "      <th>group</th>\n",
       "    </tr>\n",
       "  </thead>\n",
       "  <tbody>\n",
       "    <tr>\n",
       "      <th>425</th>\n",
       "      <td>590470918</td>\n",
       "      <td>1920142716</td>\n",
       "      <td>2019-08-19</td>\n",
       "      <td>19920.4</td>\n",
       "      <td>B</td>\n",
       "    </tr>\n",
       "  </tbody>\n",
       "</table>\n",
       "</div>"
      ],
      "text/plain": [
       "     transactionId   visitorId       date  revenue group\n",
       "425      590470918  1920142716 2019-08-19  19920.4     B"
      ]
     },
     "execution_count": 15,
     "metadata": {},
     "output_type": "execute_result"
    }
   ],
   "source": [
    "correct_orders.query('revenue == 19920.4')"
   ]
  },
  {
   "cell_type": "code",
   "execution_count": 16,
   "id": "6fd268d0",
   "metadata": {},
   "outputs": [
    {
     "data": {
      "text/plain": [
       "group\n",
       "A    53212.0\n",
       "B    79651.2\n",
       "Name: revenue, dtype: float64"
      ]
     },
     "execution_count": 16,
     "metadata": {},
     "output_type": "execute_result"
    }
   ],
   "source": [
    "correct_orders.groupby('group')['revenue'].sum()"
   ]
  },
  {
   "cell_type": "markdown",
   "id": "76f7df86",
   "metadata": {},
   "source": [
    "Wow. Group B generated about 50% more than Group A."
   ]
  },
  {
   "cell_type": "code",
   "execution_count": 17,
   "id": "2c3ad0e9",
   "metadata": {},
   "outputs": [
    {
     "data": {
      "text/plain": [
       "0"
      ]
     },
     "execution_count": 17,
     "metadata": {},
     "output_type": "execute_result"
    }
   ],
   "source": [
    "# and finally - check the duplicates\n",
    "\n",
    "orders.duplicated().sum()"
   ]
  },
  {
   "cell_type": "markdown",
   "id": "6346570b",
   "metadata": {},
   "source": [
    "Ok, and now let's look on hypotheses."
   ]
  },
  {
   "cell_type": "code",
   "execution_count": 18,
   "id": "18aef934",
   "metadata": {},
   "outputs": [
    {
     "name": "stdout",
     "output_type": "stream",
     "text": [
      "<class 'pandas.core.frame.DataFrame'>\n",
      "RangeIndex: 9 entries, 0 to 8\n",
      "Data columns (total 1 columns):\n",
      " #   Column                                     Non-Null Count  Dtype \n",
      "---  ------                                     --------------  ----- \n",
      " 0   Hypothesis;Reach;Impact;Confidence;Effort  9 non-null      object\n",
      "dtypes: object(1)\n",
      "memory usage: 1.4 KB\n"
     ]
    },
    {
     "data": {
      "text/html": [
       "<div>\n",
       "<style scoped>\n",
       "    .dataframe tbody tr th:only-of-type {\n",
       "        vertical-align: middle;\n",
       "    }\n",
       "\n",
       "    .dataframe tbody tr th {\n",
       "        vertical-align: top;\n",
       "    }\n",
       "\n",
       "    .dataframe thead th {\n",
       "        text-align: right;\n",
       "    }\n",
       "</style>\n",
       "<table border=\"1\" class=\"dataframe\">\n",
       "  <thead>\n",
       "    <tr style=\"text-align: right;\">\n",
       "      <th></th>\n",
       "      <th>Hypothesis;Reach;Impact;Confidence;Effort</th>\n",
       "    </tr>\n",
       "  </thead>\n",
       "  <tbody>\n",
       "    <tr>\n",
       "      <th>0</th>\n",
       "      <td>Add two new channels for attracting traffic. T...</td>\n",
       "    </tr>\n",
       "    <tr>\n",
       "      <th>1</th>\n",
       "      <td>Launch your own delivery service. This will sh...</td>\n",
       "    </tr>\n",
       "    <tr>\n",
       "      <th>2</th>\n",
       "      <td>Add product recommendation blocks to the store...</td>\n",
       "    </tr>\n",
       "    <tr>\n",
       "      <th>3</th>\n",
       "      <td>Change the category structure. This will incre...</td>\n",
       "    </tr>\n",
       "    <tr>\n",
       "      <th>4</th>\n",
       "      <td>Change the background color on the main page. ...</td>\n",
       "    </tr>\n",
       "  </tbody>\n",
       "</table>\n",
       "</div>"
      ],
      "text/plain": [
       "           Hypothesis;Reach;Impact;Confidence;Effort\n",
       "0  Add two new channels for attracting traffic. T...\n",
       "1  Launch your own delivery service. This will sh...\n",
       "2  Add product recommendation blocks to the store...\n",
       "3  Change the category structure. This will incre...\n",
       "4  Change the background color on the main page. ..."
      ]
     },
     "execution_count": 18,
     "metadata": {},
     "output_type": "execute_result"
    }
   ],
   "source": [
    "# at finish, let's look at data frame hypotheses\n",
    "\n",
    "hypotheses.info(memory_usage='deep')\n",
    "hypotheses.head()"
   ]
  },
  {
   "cell_type": "markdown",
   "id": "9ac450e4",
   "metadata": {},
   "source": [
    "Well, let's change the separator marks."
   ]
  },
  {
   "cell_type": "code",
   "execution_count": 19,
   "id": "aff16c7f",
   "metadata": {},
   "outputs": [],
   "source": [
    "try:\n",
    "    hypotheses = pd.read_csv(path_h_h, sep = ';')\n",
    "except:\n",
    "    hypotheses = pd.read_csv(path_h, sep = ';')"
   ]
  },
  {
   "cell_type": "code",
   "execution_count": 20,
   "id": "10322449",
   "metadata": {},
   "outputs": [
    {
     "name": "stdout",
     "output_type": "stream",
     "text": [
      "<class 'pandas.core.frame.DataFrame'>\n",
      "RangeIndex: 9 entries, 0 to 8\n",
      "Data columns (total 5 columns):\n",
      " #   Column      Non-Null Count  Dtype \n",
      "---  ------      --------------  ----- \n",
      " 0   hypothesis  9 non-null      object\n",
      " 1   reach       9 non-null      int64 \n",
      " 2   impact      9 non-null      int64 \n",
      " 3   confidence  9 non-null      int64 \n",
      " 4   effort      9 non-null      int64 \n",
      "dtypes: int64(4), object(1)\n",
      "memory usage: 1.6 KB\n"
     ]
    },
    {
     "data": {
      "text/html": [
       "<div>\n",
       "<style scoped>\n",
       "    .dataframe tbody tr th:only-of-type {\n",
       "        vertical-align: middle;\n",
       "    }\n",
       "\n",
       "    .dataframe tbody tr th {\n",
       "        vertical-align: top;\n",
       "    }\n",
       "\n",
       "    .dataframe thead th {\n",
       "        text-align: right;\n",
       "    }\n",
       "</style>\n",
       "<table border=\"1\" class=\"dataframe\">\n",
       "  <thead>\n",
       "    <tr style=\"text-align: right;\">\n",
       "      <th></th>\n",
       "      <th>hypothesis</th>\n",
       "      <th>reach</th>\n",
       "      <th>impact</th>\n",
       "      <th>confidence</th>\n",
       "      <th>effort</th>\n",
       "    </tr>\n",
       "  </thead>\n",
       "  <tbody>\n",
       "    <tr>\n",
       "      <th>0</th>\n",
       "      <td>Add two new channels for attracting traffic. T...</td>\n",
       "      <td>3</td>\n",
       "      <td>10</td>\n",
       "      <td>8</td>\n",
       "      <td>6</td>\n",
       "    </tr>\n",
       "    <tr>\n",
       "      <th>1</th>\n",
       "      <td>Launch your own delivery service. This will sh...</td>\n",
       "      <td>2</td>\n",
       "      <td>5</td>\n",
       "      <td>4</td>\n",
       "      <td>10</td>\n",
       "    </tr>\n",
       "    <tr>\n",
       "      <th>2</th>\n",
       "      <td>Add product recommendation blocks to the store...</td>\n",
       "      <td>8</td>\n",
       "      <td>3</td>\n",
       "      <td>7</td>\n",
       "      <td>3</td>\n",
       "    </tr>\n",
       "    <tr>\n",
       "      <th>3</th>\n",
       "      <td>Change the category structure. This will incre...</td>\n",
       "      <td>8</td>\n",
       "      <td>3</td>\n",
       "      <td>3</td>\n",
       "      <td>8</td>\n",
       "    </tr>\n",
       "    <tr>\n",
       "      <th>4</th>\n",
       "      <td>Change the background color on the main page. ...</td>\n",
       "      <td>3</td>\n",
       "      <td>1</td>\n",
       "      <td>1</td>\n",
       "      <td>1</td>\n",
       "    </tr>\n",
       "  </tbody>\n",
       "</table>\n",
       "</div>"
      ],
      "text/plain": [
       "                                          hypothesis  reach  impact  \\\n",
       "0  Add two new channels for attracting traffic. T...      3      10   \n",
       "1  Launch your own delivery service. This will sh...      2       5   \n",
       "2  Add product recommendation blocks to the store...      8       3   \n",
       "3  Change the category structure. This will incre...      8       3   \n",
       "4  Change the background color on the main page. ...      3       1   \n",
       "\n",
       "   confidence  effort  \n",
       "0           8       6  \n",
       "1           4      10  \n",
       "2           7       3  \n",
       "3           3       8  \n",
       "4           1       1  "
      ]
     },
     "execution_count": 20,
     "metadata": {},
     "output_type": "execute_result"
    }
   ],
   "source": [
    "hypotheses.columns = hypotheses.columns.str.replace(\" \", \"_\").str.lower()\n",
    "hypotheses.info(memory_usage='deep')\n",
    "hypotheses.head()"
   ]
  },
  {
   "cell_type": "markdown",
   "id": "2289411d",
   "metadata": {},
   "source": [
    "##### Description of data \n",
    "\n",
    "- **Hypotheses** — brief descriptions of the hypotheses\n",
    "- **Reach** — user reach, on a scale of one to ten\n",
    "- **Impact** — impact on users, on a scale of one to ten\n",
    "- **Confidence** — confidence in the hypothesis, on a scale of one to ten\n",
    "- **Effort** — the resources required to test a hypothesis, on a scale of one to ten. The higher the Effort value, the more resource-intensive the test.\n",
    "\n",
    "Looks like the data is ready!\n",
    "\n",
    "## Conclusion\n",
    "\n",
    "So, we have loaded three data frames visitors, orders, and hypotheses.\n",
    "\n",
    "After the initial load, we optimized it and loaded these data frames again. Because the initial dimensions were small, the savings after optimization were not large, but a little does a lot.\\\n",
    "In addition, we found out that in the data frame orders were users who were members of both groups. The share of records with such users was 183 items (15.29%). At the same time, the number of users was 58 (5.63%).\n",
    "\n",
    "We found that during the month the number of visits ranged from 361 to 770, while the total number of visits between groups differs by only 1%.\\\n",
    "The differences between the groups are more pronounced with the vulture. Group B generated $26439.2 more than Group A.\n",
    "\n",
    "Now, let's finally get to work."
   ]
  },
  {
   "cell_type": "markdown",
   "id": "f7f78d84",
   "metadata": {},
   "source": [
    "# Part 1. Prioritizing Hypotheses\n",
    "\n",
    "## Apply ICE  and RICE frameworks"
   ]
  },
  {
   "cell_type": "code",
   "execution_count": 21,
   "id": "f7347b41",
   "metadata": {},
   "outputs": [
    {
     "data": {
      "text/html": [
       "<div>\n",
       "<style scoped>\n",
       "    .dataframe tbody tr th:only-of-type {\n",
       "        vertical-align: middle;\n",
       "    }\n",
       "\n",
       "    .dataframe tbody tr th {\n",
       "        vertical-align: top;\n",
       "    }\n",
       "\n",
       "    .dataframe thead th {\n",
       "        text-align: right;\n",
       "    }\n",
       "</style>\n",
       "<table border=\"1\" class=\"dataframe\">\n",
       "  <thead>\n",
       "    <tr style=\"text-align: right;\">\n",
       "      <th></th>\n",
       "      <th>hypothesis</th>\n",
       "      <th>ice</th>\n",
       "    </tr>\n",
       "  </thead>\n",
       "  <tbody>\n",
       "    <tr>\n",
       "      <th>8</th>\n",
       "      <td>Launch a promotion that gives users discounts on their birthdays</td>\n",
       "      <td>16.200000</td>\n",
       "    </tr>\n",
       "    <tr>\n",
       "      <th>0</th>\n",
       "      <td>Add two new channels for attracting traffic. This will bring 30% more users</td>\n",
       "      <td>13.333333</td>\n",
       "    </tr>\n",
       "    <tr>\n",
       "      <th>7</th>\n",
       "      <td>Add a subscription form to all the main pages. This will help you compile a mailing list</td>\n",
       "      <td>11.200000</td>\n",
       "    </tr>\n",
       "    <tr>\n",
       "      <th>6</th>\n",
       "      <td>Show banners with current offers and sales on the main page. This will boost conversion</td>\n",
       "      <td>8.000000</td>\n",
       "    </tr>\n",
       "    <tr>\n",
       "      <th>2</th>\n",
       "      <td>Add product recommendation blocks to the store's site. This will increase conversion and average purchase size</td>\n",
       "      <td>7.000000</td>\n",
       "    </tr>\n",
       "    <tr>\n",
       "      <th>1</th>\n",
       "      <td>Launch your own delivery service. This will shorten delivery time</td>\n",
       "      <td>2.000000</td>\n",
       "    </tr>\n",
       "    <tr>\n",
       "      <th>5</th>\n",
       "      <td>Add a customer review page. This will increase the number of orders</td>\n",
       "      <td>1.333333</td>\n",
       "    </tr>\n",
       "    <tr>\n",
       "      <th>3</th>\n",
       "      <td>Change the category structure. This will increase conversion since users will find the products they want more quickly</td>\n",
       "      <td>1.125000</td>\n",
       "    </tr>\n",
       "    <tr>\n",
       "      <th>4</th>\n",
       "      <td>Change the background color on the main page. This will increase user engagement</td>\n",
       "      <td>1.000000</td>\n",
       "    </tr>\n",
       "  </tbody>\n",
       "</table>\n",
       "</div>"
      ],
      "text/plain": [
       "                                                                                                               hypothesis  \\\n",
       "8                                                        Launch a promotion that gives users discounts on their birthdays   \n",
       "0                                             Add two new channels for attracting traffic. This will bring 30% more users   \n",
       "7                                Add a subscription form to all the main pages. This will help you compile a mailing list   \n",
       "6                                 Show banners with current offers and sales on the main page. This will boost conversion   \n",
       "2          Add product recommendation blocks to the store's site. This will increase conversion and average purchase size   \n",
       "1                                                       Launch your own delivery service. This will shorten delivery time   \n",
       "5                                                     Add a customer review page. This will increase the number of orders   \n",
       "3  Change the category structure. This will increase conversion since users will find the products they want more quickly   \n",
       "4                                        Change the background color on the main page. This will increase user engagement   \n",
       "\n",
       "         ice  \n",
       "8  16.200000  \n",
       "0  13.333333  \n",
       "7  11.200000  \n",
       "6   8.000000  \n",
       "2   7.000000  \n",
       "1   2.000000  \n",
       "5   1.333333  \n",
       "3   1.125000  \n",
       "4   1.000000  "
      ]
     },
     "execution_count": 21,
     "metadata": {},
     "output_type": "execute_result"
    }
   ],
   "source": [
    "# ICE = (Impact * Confidence) / Effort\n",
    "\n",
    "pd.options.display.max_colwidth = 210\n",
    "hypotheses['ice'] = hypotheses.impact * hypotheses.confidence / hypotheses.effort\n",
    "hypotheses[['hypothesis','ice']].sort_values(by = 'ice', ascending = False)"
   ]
  },
  {
   "cell_type": "code",
   "execution_count": 22,
   "id": "0bd439cb",
   "metadata": {},
   "outputs": [
    {
     "data": {
      "text/html": [
       "<div>\n",
       "<style scoped>\n",
       "    .dataframe tbody tr th:only-of-type {\n",
       "        vertical-align: middle;\n",
       "    }\n",
       "\n",
       "    .dataframe tbody tr th {\n",
       "        vertical-align: top;\n",
       "    }\n",
       "\n",
       "    .dataframe thead th {\n",
       "        text-align: right;\n",
       "    }\n",
       "</style>\n",
       "<table border=\"1\" class=\"dataframe\">\n",
       "  <thead>\n",
       "    <tr style=\"text-align: right;\">\n",
       "      <th></th>\n",
       "      <th>hypothesis</th>\n",
       "      <th>rice</th>\n",
       "    </tr>\n",
       "  </thead>\n",
       "  <tbody>\n",
       "    <tr>\n",
       "      <th>7</th>\n",
       "      <td>Add a subscription form to all the main pages. This will help you compile a mailing list</td>\n",
       "      <td>112.0</td>\n",
       "    </tr>\n",
       "    <tr>\n",
       "      <th>2</th>\n",
       "      <td>Add product recommendation blocks to the store's site. This will increase conversion and average purchase size</td>\n",
       "      <td>56.0</td>\n",
       "    </tr>\n",
       "    <tr>\n",
       "      <th>0</th>\n",
       "      <td>Add two new channels for attracting traffic. This will bring 30% more users</td>\n",
       "      <td>40.0</td>\n",
       "    </tr>\n",
       "    <tr>\n",
       "      <th>6</th>\n",
       "      <td>Show banners with current offers and sales on the main page. This will boost conversion</td>\n",
       "      <td>40.0</td>\n",
       "    </tr>\n",
       "    <tr>\n",
       "      <th>8</th>\n",
       "      <td>Launch a promotion that gives users discounts on their birthdays</td>\n",
       "      <td>16.2</td>\n",
       "    </tr>\n",
       "    <tr>\n",
       "      <th>3</th>\n",
       "      <td>Change the category structure. This will increase conversion since users will find the products they want more quickly</td>\n",
       "      <td>9.0</td>\n",
       "    </tr>\n",
       "    <tr>\n",
       "      <th>1</th>\n",
       "      <td>Launch your own delivery service. This will shorten delivery time</td>\n",
       "      <td>4.0</td>\n",
       "    </tr>\n",
       "    <tr>\n",
       "      <th>5</th>\n",
       "      <td>Add a customer review page. This will increase the number of orders</td>\n",
       "      <td>4.0</td>\n",
       "    </tr>\n",
       "    <tr>\n",
       "      <th>4</th>\n",
       "      <td>Change the background color on the main page. This will increase user engagement</td>\n",
       "      <td>3.0</td>\n",
       "    </tr>\n",
       "  </tbody>\n",
       "</table>\n",
       "</div>"
      ],
      "text/plain": [
       "                                                                                                               hypothesis  \\\n",
       "7                                Add a subscription form to all the main pages. This will help you compile a mailing list   \n",
       "2          Add product recommendation blocks to the store's site. This will increase conversion and average purchase size   \n",
       "0                                             Add two new channels for attracting traffic. This will bring 30% more users   \n",
       "6                                 Show banners with current offers and sales on the main page. This will boost conversion   \n",
       "8                                                        Launch a promotion that gives users discounts on their birthdays   \n",
       "3  Change the category structure. This will increase conversion since users will find the products they want more quickly   \n",
       "1                                                       Launch your own delivery service. This will shorten delivery time   \n",
       "5                                                     Add a customer review page. This will increase the number of orders   \n",
       "4                                        Change the background color on the main page. This will increase user engagement   \n",
       "\n",
       "    rice  \n",
       "7  112.0  \n",
       "2   56.0  \n",
       "0   40.0  \n",
       "6   40.0  \n",
       "8   16.2  \n",
       "3    9.0  \n",
       "1    4.0  \n",
       "5    4.0  \n",
       "4    3.0  "
      ]
     },
     "execution_count": 22,
     "metadata": {},
     "output_type": "execute_result"
    }
   ],
   "source": [
    "# RICE = (Impact * Confidence * Reach )/ Effort\n",
    "\n",
    "hypotheses['rice'] = (hypotheses.impact * hypotheses.confidence * hypotheses.reach )/ hypotheses.effort\n",
    "hypotheses[['hypothesis','rice']].sort_values(by = 'rice', ascending = False)"
   ]
  },
  {
   "cell_type": "code",
   "execution_count": 23,
   "id": "bc56c8d7",
   "metadata": {},
   "outputs": [
    {
     "data": {
      "text/html": [
       "<div>\n",
       "<style scoped>\n",
       "    .dataframe tbody tr th:only-of-type {\n",
       "        vertical-align: middle;\n",
       "    }\n",
       "\n",
       "    .dataframe tbody tr th {\n",
       "        vertical-align: top;\n",
       "    }\n",
       "\n",
       "    .dataframe thead th {\n",
       "        text-align: right;\n",
       "    }\n",
       "</style>\n",
       "<table border=\"1\" class=\"dataframe\">\n",
       "  <thead>\n",
       "    <tr style=\"text-align: right;\">\n",
       "      <th></th>\n",
       "      <th>hypothesis</th>\n",
       "      <th>reach</th>\n",
       "      <th>impact</th>\n",
       "      <th>confidence</th>\n",
       "      <th>effort</th>\n",
       "      <th>ice</th>\n",
       "      <th>rice</th>\n",
       "    </tr>\n",
       "  </thead>\n",
       "  <tbody>\n",
       "    <tr>\n",
       "      <th>7</th>\n",
       "      <td>Add a subscription form to all the main pages. This will help you compile a mailing list</td>\n",
       "      <td>10</td>\n",
       "      <td>7</td>\n",
       "      <td>8</td>\n",
       "      <td>5</td>\n",
       "      <td>11.200000</td>\n",
       "      <td>112.0</td>\n",
       "    </tr>\n",
       "    <tr>\n",
       "      <th>2</th>\n",
       "      <td>Add product recommendation blocks to the store's site. This will increase conversion and average purchase size</td>\n",
       "      <td>8</td>\n",
       "      <td>3</td>\n",
       "      <td>7</td>\n",
       "      <td>3</td>\n",
       "      <td>7.000000</td>\n",
       "      <td>56.0</td>\n",
       "    </tr>\n",
       "    <tr>\n",
       "      <th>0</th>\n",
       "      <td>Add two new channels for attracting traffic. This will bring 30% more users</td>\n",
       "      <td>3</td>\n",
       "      <td>10</td>\n",
       "      <td>8</td>\n",
       "      <td>6</td>\n",
       "      <td>13.333333</td>\n",
       "      <td>40.0</td>\n",
       "    </tr>\n",
       "    <tr>\n",
       "      <th>6</th>\n",
       "      <td>Show banners with current offers and sales on the main page. This will boost conversion</td>\n",
       "      <td>5</td>\n",
       "      <td>3</td>\n",
       "      <td>8</td>\n",
       "      <td>3</td>\n",
       "      <td>8.000000</td>\n",
       "      <td>40.0</td>\n",
       "    </tr>\n",
       "    <tr>\n",
       "      <th>8</th>\n",
       "      <td>Launch a promotion that gives users discounts on their birthdays</td>\n",
       "      <td>1</td>\n",
       "      <td>9</td>\n",
       "      <td>9</td>\n",
       "      <td>5</td>\n",
       "      <td>16.200000</td>\n",
       "      <td>16.2</td>\n",
       "    </tr>\n",
       "    <tr>\n",
       "      <th>3</th>\n",
       "      <td>Change the category structure. This will increase conversion since users will find the products they want more quickly</td>\n",
       "      <td>8</td>\n",
       "      <td>3</td>\n",
       "      <td>3</td>\n",
       "      <td>8</td>\n",
       "      <td>1.125000</td>\n",
       "      <td>9.0</td>\n",
       "    </tr>\n",
       "    <tr>\n",
       "      <th>1</th>\n",
       "      <td>Launch your own delivery service. This will shorten delivery time</td>\n",
       "      <td>2</td>\n",
       "      <td>5</td>\n",
       "      <td>4</td>\n",
       "      <td>10</td>\n",
       "      <td>2.000000</td>\n",
       "      <td>4.0</td>\n",
       "    </tr>\n",
       "    <tr>\n",
       "      <th>5</th>\n",
       "      <td>Add a customer review page. This will increase the number of orders</td>\n",
       "      <td>3</td>\n",
       "      <td>2</td>\n",
       "      <td>2</td>\n",
       "      <td>3</td>\n",
       "      <td>1.333333</td>\n",
       "      <td>4.0</td>\n",
       "    </tr>\n",
       "    <tr>\n",
       "      <th>4</th>\n",
       "      <td>Change the background color on the main page. This will increase user engagement</td>\n",
       "      <td>3</td>\n",
       "      <td>1</td>\n",
       "      <td>1</td>\n",
       "      <td>1</td>\n",
       "      <td>1.000000</td>\n",
       "      <td>3.0</td>\n",
       "    </tr>\n",
       "  </tbody>\n",
       "</table>\n",
       "</div>"
      ],
      "text/plain": [
       "                                                                                                               hypothesis  \\\n",
       "7                                Add a subscription form to all the main pages. This will help you compile a mailing list   \n",
       "2          Add product recommendation blocks to the store's site. This will increase conversion and average purchase size   \n",
       "0                                             Add two new channels for attracting traffic. This will bring 30% more users   \n",
       "6                                 Show banners with current offers and sales on the main page. This will boost conversion   \n",
       "8                                                        Launch a promotion that gives users discounts on their birthdays   \n",
       "3  Change the category structure. This will increase conversion since users will find the products they want more quickly   \n",
       "1                                                       Launch your own delivery service. This will shorten delivery time   \n",
       "5                                                     Add a customer review page. This will increase the number of orders   \n",
       "4                                        Change the background color on the main page. This will increase user engagement   \n",
       "\n",
       "   reach  impact  confidence  effort        ice   rice  \n",
       "7     10       7           8       5  11.200000  112.0  \n",
       "2      8       3           7       3   7.000000   56.0  \n",
       "0      3      10           8       6  13.333333   40.0  \n",
       "6      5       3           8       3   8.000000   40.0  \n",
       "8      1       9           9       5  16.200000   16.2  \n",
       "3      8       3           3       8   1.125000    9.0  \n",
       "1      2       5           4      10   2.000000    4.0  \n",
       "5      3       2           2       3   1.333333    4.0  \n",
       "4      3       1           1       1   1.000000    3.0  "
      ]
     },
     "execution_count": 23,
     "metadata": {},
     "output_type": "execute_result"
    }
   ],
   "source": [
    "hypotheses.sort_values(by = 'rice', ascending = False)"
   ]
  },
  {
   "cell_type": "markdown",
   "id": "e439d6ed",
   "metadata": {},
   "source": [
    "## Conclusion\n",
    "\n",
    "We used two frameworks to prioritize our hypotheses: ICE and RICE.\\\n",
    "Their main difference is that RICE uses an additional Reach parameter - the number of users affected by the change. This allows for more efficient prioritization.\\\n",
    "What will we choose?\\\n",
    "If you use the ICE method, the first hypothesis to be tested will be hypothesis No. 8.\\\n",
    "If you use the RICE method, the first hypothesis to be tested will be hypothesis No. 7.\\\n",
    "Since we are an online store, and reach is important to us, I choose hypothesis #7 **\"Add a subscription form to all the main pages. This will help you compile a mailing list\"** first to test.\n",
    "\n",
    "Also, interestingly, we see that the first 5 hypotheses, both when using ICE and when using RICE, are the same. Only the order is different.\\\n",
    "But the furthest in the queue for testing is hypothesis No. 4, and in both cases. Maybe not check it at all?"
   ]
  },
  {
   "cell_type": "markdown",
   "id": "6348977a",
   "metadata": {},
   "source": [
    "# Part 2: A/B Test Analysis\n",
    "\n",
    "\n",
    "## Cumulative revenue by group"
   ]
  },
  {
   "cell_type": "code",
   "execution_count": 24,
   "id": "f050f596",
   "metadata": {},
   "outputs": [],
   "source": [
    "# make a table for comparison\n",
    "datesgroups = correct_orders[['date','group']].drop_duplicates()\n",
    "\n",
    "# calculating cumulative revenue\n",
    "cumulativeRevenue = (\n",
    "    datesgroups.apply(lambda x: orders[np.logical_and(orders['date'] <= x['date'], orders['group'] == x['group'])]\n",
    "    .agg({'date': 'max', 'group': 'max', 'transactionId': pd.Series.nunique, 'visitorId': pd.Series.nunique,\n",
    "          'revenue': 'sum'}), axis=1).sort_values(by = ['date','group'])\n",
    ")\n",
    "cumulativeRevenue.date = cumulativeRevenue.date.dt.strftime('%m-%d')"
   ]
  },
  {
   "cell_type": "code",
   "execution_count": 25,
   "id": "e3e2acaf",
   "metadata": {},
   "outputs": [
    {
     "data": {
      "image/png": "[encoded data removed]",
      "text/plain": [
       "<Figure size 1152x720 with 1 Axes>"
      ]
     },
     "metadata": {
      "needs_background": "light"
     },
     "output_type": "display_data"
    }
   ],
   "source": [
    "# plot a graph\n",
    "cumulativeRevenueA = cumulativeRevenue[cumulativeRevenue['group'] == 'A'][['date','revenue','transactionId']]\n",
    "cumulativeRevenueB = cumulativeRevenue[cumulativeRevenue['group'] == 'B'][['date','revenue', 'transactionId']]\n",
    "plt.rcParams[\"figure.figsize\"] = (16,10)\n",
    "plt.plot(cumulativeRevenueA['date'], cumulativeRevenueA['revenue'], label = 'A')\n",
    "plt.plot(cumulativeRevenueB['date'], cumulativeRevenueB['revenue'], label = 'B')\n",
    "plt.legend()\n",
    "plt.title(\"Cumulative revenue per group by date\")\n",
    "plt.ylabel(\"Cumulative revenue\")\n",
    "plt.xlabel(\"Date (month.date)\")\n",
    "plt.xticks(rotation=45);"
   ]
  },
  {
   "cell_type": "markdown",
   "id": "b51520a4",
   "metadata": {},
   "source": [
    "So, we see an upward trend in revenue for both Group A and Group B. At first glance, group B looks much better\\\n",
    "!BUT\\\n",
    "The slope of both curves looks the same, and the sharp increase took place in group B on August 19th. We have already seen this date when we previously looked at the extremes in revenue.\\\n",
    "So, if we replace this outlier with the average value for the day - I do not see a significant difference between the groups."
   ]
  },
  {
   "cell_type": "code",
   "execution_count": 26,
   "id": "5143d9f4",
   "metadata": {},
   "outputs": [
    {
     "data": {
      "image/png": "[encoded data removed]",
      "text/plain": [
       "<Figure size 1152x720 with 1 Axes>"
      ]
     },
     "metadata": {
      "needs_background": "light"
     },
     "output_type": "display_data"
    }
   ],
   "source": [
    "# let's count and draw the average revenue per groups\n",
    "plt.plot(cumulativeRevenueA['date'], cumulativeRevenueA['revenue']/cumulativeRevenueA['transactionId'], label='A')\n",
    "plt.plot(cumulativeRevenueB['date'], cumulativeRevenueB['revenue']/cumulativeRevenueB['transactionId'], label='B')\n",
    "plt.legend() \n",
    "plt.title(\"Cumulative average order size per group by date\")\n",
    "plt.ylabel(\"Cumulative average order size\")\n",
    "plt.xlabel(\"Date (month.date)\")\n",
    "plt.xticks(rotation=45);"
   ]
  },
  {
   "cell_type": "markdown",
   "id": "b1767ffa",
   "metadata": {},
   "source": [
    "After large fluctuations at the beginning of the month, the curves of both groups calm down towards the end. This means that it is already possible to conduct tests and obtain adequate results.\\\n",
    "As we can see, at the beginning, the average cumulative revenue in group A fell but then grew up and quietly goes in the range from 100 to 120.\\\n",
    "Group B reduces its average cumulative revenue towards the end of the month, but this is normal, after the \"outlier\" on August 19th. I guess if we continued the test, curve B would also descend to the range of group A."
   ]
  },
  {
   "cell_type": "code",
   "execution_count": 27,
   "id": "24c1782c",
   "metadata": {},
   "outputs": [
    {
     "data": {
      "image/png": "[encoded data removed]",
      "text/plain": [
       "<Figure size 1152x720 with 1 Axes>"
      ]
     },
     "metadata": {
      "needs_background": "light"
     },
     "output_type": "display_data"
    }
   ],
   "source": [
    "# let's count and draw the relative difference between average revenue per groups\n",
    "mergedCumulativeRevenue = pd.merge(cumulativeRevenueA,cumulativeRevenueB,left_on = 'date', right_on = 'date', how = 'left', suffixes = ['A','B'])\n",
    "\n",
    "plt.plot(mergedCumulativeRevenue['date'], (mergedCumulativeRevenue['revenueB'] / mergedCumulativeRevenue['transactionIdB']) / (mergedCumulativeRevenue['revenueA'] / mergedCumulativeRevenue['transactionIdA']) -1)\n",
    "plt.axhline(y = 0,color = 'black', linestyle = '--')\n",
    "plt.title(\"Relative difference of average order size between groups\")\n",
    "plt.xlabel(\"Date (month.date)\")\n",
    "plt.ylabel(\"Relative differnce\")\n",
    "plt.xticks(rotation=45);"
   ]
  },
  {
   "cell_type": "markdown",
   "id": "0822c7b5",
   "metadata": {},
   "source": [
    "In general, the schedule did not surprise. We see two peaks, and the second one is caused by the same \"outlier\". In the future, when conducting tests, it should be removed."
   ]
  },
  {
   "cell_type": "markdown",
   "id": "f0add2a2",
   "metadata": {},
   "source": [
    "## Conversion rate\n",
    "\n",
    "Now lets find how many orders occured on each day for each group:"
   ]
  },
  {
   "cell_type": "code",
   "execution_count": 28,
   "id": "26517b31",
   "metadata": {},
   "outputs": [],
   "source": [
    "# let's count conversion\n",
    "conversion_day = correct_orders.groupby(['date','group'], as_index = False).agg({'transactionId': 'count'})\n",
    "conversion_day.columns = ['date','group','n_orders']\n",
    "conversion_day = pd.merge(conversion_day,visits, left_on = ['date','group'], right_on = ['date','group'])\n",
    "# formated the date\n",
    "conversion_day.date = conversion_day.date.dt.strftime('%m-%d')"
   ]
  },
  {
   "cell_type": "code",
   "execution_count": 29,
   "id": "da48fac5",
   "metadata": {},
   "outputs": [
    {
     "data": {
      "image/png": "[encoded data removed]",
      "text/plain": [
       "<Figure size 1152x720 with 1 Axes>"
      ]
     },
     "metadata": {
      "needs_background": "light"
     },
     "output_type": "display_data"
    }
   ],
   "source": [
    "# make the plot\n",
    "conversion_day['conversion'] = conversion_day.n_orders / conversion_day.visits\n",
    "conversion_A = conversion_day[conversion_day['group'] == 'A'][['date','conversion']]\n",
    "conversion_B = conversion_day[conversion_day['group'] == 'B'][['date','conversion']]\n",
    "plt.plot(conversion_A.date, conversion_A.conversion, label = 'A')\n",
    "plt.plot(conversion_B.date, conversion_B.conversion, label = 'B')\n",
    "plt.legend()\n",
    "plt.title(\"Conversion rate per group\")\n",
    "plt.xlabel(\"Date\")\n",
    "plt.ylabel(\"Conversion Rate\")\n",
    "plt.xticks(rotation=45);"
   ]
  },
  {
   "cell_type": "markdown",
   "id": "142f906a",
   "metadata": {},
   "source": [
    "In general, we see that the group B curve is higher than the group A curve. This indicates that the conversion in group B is better.\n",
    "\n",
    "Let's look at the cumulative conversion data by groups."
   ]
  },
  {
   "cell_type": "code",
   "execution_count": 30,
   "id": "0a1c13c0",
   "metadata": {},
   "outputs": [],
   "source": [
    "# calculating cumulative visits\n",
    "cumulativeVisits = (\n",
    "    datesgroups.apply(lambda x: visits[np.logical_and(visits['date'] <= x['date'], visits['group'] == x['group'])]\n",
    "    .agg({'date': 'max', 'group': 'max', 'visits': 'sum'}), axis=1).sort_values(by = ['date','group'])\n",
    ")\n",
    "cumulativeVisits.date = cumulativeVisits.date.dt.strftime('%m-%d')"
   ]
  },
  {
   "cell_type": "code",
   "execution_count": 31,
   "id": "6dcd789c",
   "metadata": {},
   "outputs": [],
   "source": [
    "# calculating cumulative conversion\n",
    "cumulativeConversion = pd.merge(cumulativeRevenue,cumulativeVisits, right_on = ['date','group'], left_on = ['date','group'])\n",
    "cumulativeConversion['conversion'] = cumulativeConversion.visitorId / cumulativeConversion.visits"
   ]
  },
  {
   "cell_type": "code",
   "execution_count": 32,
   "id": "140e3462",
   "metadata": {},
   "outputs": [
    {
     "data": {
      "image/png": "[encoded data removed]",
      "text/plain": [
       "<Figure size 1152x720 with 1 Axes>"
      ]
     },
     "metadata": {
      "needs_background": "light"
     },
     "output_type": "display_data"
    }
   ],
   "source": [
    "# make the plot\n",
    "cumulativeConversion_A = cumulativeConversion[cumulativeConversion.group == 'A'][['date','conversion']]\n",
    "cumulativeConversion_B = cumulativeConversion[cumulativeConversion.group == 'B'][['date','conversion']]\n",
    "plt.plot(cumulativeConversion_A.date, cumulativeConversion_A.conversion, label = 'A')\n",
    "plt.plot(cumulativeConversion_B.date, cumulativeConversion_B.conversion, label = 'B')\n",
    "plt.legend()\n",
    "plt.title(\"Cumulated conversion rate per group\")\n",
    "plt.xlabel(\"Date\")\n",
    "plt.ylabel(\"Cumulated conversion rate\")\n",
    "plt.xticks(rotation=45);"
   ]
  },
  {
   "cell_type": "markdown",
   "id": "dc150af2",
   "metadata": {},
   "source": [
    "Wow.\n",
    "Definitely, group B has a higher cumulative conversion rate than group A."
   ]
  },
  {
   "cell_type": "markdown",
   "id": "b57015b6",
   "metadata": {},
   "source": [
    "## Anomalies\n"
   ]
  },
  {
   "cell_type": "markdown",
   "id": "30f3fb8a",
   "metadata": {},
   "source": [
    "At first, we will find the number of orders per user. It will help us detect anomalies."
   ]
  },
  {
   "cell_type": "code",
   "execution_count": 33,
   "id": "fb12cc48",
   "metadata": {},
   "outputs": [
    {
     "data": {
      "image/png": "[encoded data removed]",
      "text/plain": [
       "<Figure size 1152x720 with 1 Axes>"
      ]
     },
     "metadata": {
      "needs_background": "light"
     },
     "output_type": "display_data"
    }
   ],
   "source": [
    "# let's count the number of orders\n",
    "orders_per_user = correct_orders.groupby('visitorId', as_index = False).agg({'transactionId': 'count'})\n",
    "orders_per_user.columns = ['visitorId', 'number_of_orders']\n",
    "\n",
    "# make the histo-plot\n",
    "plt.hist(orders_per_user.number_of_orders)\n",
    "plt.title(\"Number of orders per user\")\n",
    "plt.xlabel('order')\n",
    "plt.ylabel('user');\n",
    "\n"
   ]
  },
  {
   "cell_type": "code",
   "execution_count": 34,
   "id": "a6551b11",
   "metadata": {},
   "outputs": [
    {
     "data": {
      "image/png": "[encoded data removed]",
      "text/plain": [
       "<Figure size 1152x720 with 1 Axes>"
      ]
     },
     "metadata": {
      "needs_background": "light"
     },
     "output_type": "display_data"
    }
   ],
   "source": [
    "# make the scatter-plot\n",
    "x_values = pd.Series(range(0, len(orders_per_user.number_of_orders)))\n",
    "plt.scatter(x_values, orders_per_user.number_of_orders)\n",
    "plt.title(\"Number of orders per user\")\n",
    "plt.ylabel(\"Number of orders\");"
   ]
  },
  {
   "cell_type": "markdown",
   "id": "0b5a76ca",
   "metadata": {},
   "source": [
    "So, according to the charts, we see that the majority of customers made no more than 1 order.\\\n",
    "We see that there are customers who have made 2, and sometimes 3 orders. But they are few."
   ]
  },
  {
   "cell_type": "code",
   "execution_count": 35,
   "id": "b2eacbc3",
   "metadata": {
    "scrolled": true
   },
   "outputs": [
    {
     "data": {
      "text/plain": [
       "array([1., 1., 2.])"
      ]
     },
     "execution_count": 35,
     "metadata": {},
     "output_type": "execute_result"
    }
   ],
   "source": [
    "#let's also count the percentile\n",
    "np.percentile(orders_per_user.number_of_orders,[90, 95,99])"
   ]
  },
  {
   "cell_type": "markdown",
   "id": "eab0672c",
   "metadata": {},
   "source": [
    "Percentiles showed that at least 95% of customers made no more than 1 order.\\\n",
    "I propose this number and take it as the base."
   ]
  },
  {
   "cell_type": "markdown",
   "id": "eec8ad39",
   "metadata": {},
   "source": [
    "Now let's see how the **revenue** is distributed. As we remember, we have a large outlier around 20K. Let's see how lonely he is."
   ]
  },
  {
   "cell_type": "code",
   "execution_count": 36,
   "id": "30c91d15",
   "metadata": {},
   "outputs": [
    {
     "data": {
      "image/png": "[encoded data removed]",
      "text/plain": [
       "<Figure size 1152x720 with 1 Axes>"
      ]
     },
     "metadata": {
      "needs_background": "light"
     },
     "output_type": "display_data"
    }
   ],
   "source": [
    "plt.hist(correct_orders.revenue)\n",
    "plt.title(\"Revenue per user\")\n",
    "plt.xlabel('revenue')\n",
    "plt.ylabel('user');"
   ]
  },
  {
   "cell_type": "code",
   "execution_count": 37,
   "id": "17566636",
   "metadata": {},
   "outputs": [
    {
     "data": {
      "image/png": "[encoded data removed]",
      "text/plain": [
       "<Figure size 1152x720 with 1 Axes>"
      ]
     },
     "metadata": {
      "needs_background": "light"
     },
     "output_type": "display_data"
    }
   ],
   "source": [
    "x_values = pd.Series(range(0,len(correct_orders.revenue)))\n",
    "plt.scatter(x_values,correct_orders.revenue)\n",
    "plt.title(\"Order prices\")\n",
    "plt.ylabel(\"Oredr prices\")\n",
    "plt.axhline(y = 2000, color = 'r', linestyle = '--');"
   ]
  },
  {
   "cell_type": "markdown",
   "id": "0c3a4d74",
   "metadata": {},
   "source": [
    "So, in both graphs, we see that beyond 2000.00 we have only two outliers. Although 2000.00 is also a high bar, I took it so that the breakdown on the scatter chart corresponded to the histogram.\\\n",
    "Now let's look at the percentiles to see where the 90%, 95%, and 99% of the data actually lies."
   ]
  },
  {
   "cell_type": "code",
   "execution_count": 38,
   "id": "f1f5f727-d65a-4329-aeeb-64facc7c4abf",
   "metadata": {},
   "outputs": [
    {
     "data": {
      "text/html": [
       "<div>\n",
       "<style scoped>\n",
       "    .dataframe tbody tr th:only-of-type {\n",
       "        vertical-align: middle;\n",
       "    }\n",
       "\n",
       "    .dataframe tbody tr th {\n",
       "        vertical-align: top;\n",
       "    }\n",
       "\n",
       "    .dataframe thead th {\n",
       "        text-align: right;\n",
       "    }\n",
       "</style>\n",
       "<table border=\"1\" class=\"dataframe\">\n",
       "  <thead>\n",
       "    <tr style=\"text-align: right;\">\n",
       "      <th></th>\n",
       "      <th>transactionId</th>\n",
       "      <th>visitorId</th>\n",
       "      <th>date</th>\n",
       "      <th>revenue</th>\n",
       "      <th>group</th>\n",
       "    </tr>\n",
       "  </thead>\n",
       "  <tbody>\n",
       "    <tr>\n",
       "      <th>0</th>\n",
       "      <td>3667963787</td>\n",
       "      <td>3312258926</td>\n",
       "      <td>2019-08-15</td>\n",
       "      <td>30.4</td>\n",
       "      <td>B</td>\n",
       "    </tr>\n",
       "    <tr>\n",
       "      <th>1</th>\n",
       "      <td>2804400009</td>\n",
       "      <td>3642806036</td>\n",
       "      <td>2019-08-15</td>\n",
       "      <td>15.2</td>\n",
       "      <td>B</td>\n",
       "    </tr>\n",
       "    <tr>\n",
       "      <th>3</th>\n",
       "      <td>3797467345</td>\n",
       "      <td>1196621759</td>\n",
       "      <td>2019-08-15</td>\n",
       "      <td>155.1</td>\n",
       "      <td>B</td>\n",
       "    </tr>\n",
       "    <tr>\n",
       "      <th>4</th>\n",
       "      <td>2282983706</td>\n",
       "      <td>2322279887</td>\n",
       "      <td>2019-08-15</td>\n",
       "      <td>40.5</td>\n",
       "      <td>B</td>\n",
       "    </tr>\n",
       "    <tr>\n",
       "      <th>5</th>\n",
       "      <td>182168103</td>\n",
       "      <td>935554773</td>\n",
       "      <td>2019-08-15</td>\n",
       "      <td>35.0</td>\n",
       "      <td>B</td>\n",
       "    </tr>\n",
       "  </tbody>\n",
       "</table>\n",
       "</div>"
      ],
      "text/plain": [
       "   transactionId   visitorId       date  revenue group\n",
       "0     3667963787  3312258926 2019-08-15     30.4     B\n",
       "1     2804400009  3642806036 2019-08-15     15.2     B\n",
       "3     3797467345  1196621759 2019-08-15    155.1     B\n",
       "4     2282983706  2322279887 2019-08-15     40.5     B\n",
       "5      182168103   935554773 2019-08-15     35.0     B"
      ]
     },
     "execution_count": 38,
     "metadata": {},
     "output_type": "execute_result"
    }
   ],
   "source": [
    "correct_orders.head()"
   ]
  },
  {
   "cell_type": "code",
   "execution_count": 39,
   "id": "9d619481",
   "metadata": {},
   "outputs": [
    {
     "data": {
      "text/plain": [
       "array([280.8  , 414.275, 830.3  ])"
      ]
     },
     "execution_count": 39,
     "metadata": {},
     "output_type": "execute_result"
    }
   ],
   "source": [
    "np.percentile(correct_orders.revenue,[90, 95,99])"
   ]
  },
  {
   "cell_type": "markdown",
   "id": "a707b2f8",
   "metadata": {},
   "source": [
    "We see that only 10% of the data have revenue above 280.8, 5% have revenue of towers 414.275, and 1% above 830.30 (they didn’t even reach 1000).\\\n",
    "In the future, to work with filtered data in tests, we will use the number 414.275 as a cutoff point."
   ]
  },
  {
   "cell_type": "markdown",
   "id": "1abade58",
   "metadata": {},
   "source": [
    "## Statistical significance of the difference in conversion between the groups\n",
    "\n",
    "\n",
    "Let's formulate our null hypothesis as follows: Conversion rates of Group A and Group B are the same.\\\n",
    "I will set the threshold value to the standard 0.05, I see no reason to set it to less. Then:\n",
    "\n",
    "H0: Conversion rates of Group A and Group B are the same.\n",
    "\n",
    "H1: Conversion rates of Group A and Group B are different.\n",
    "\n",
    "Threshold = 0.05"
   ]
  },
  {
   "cell_type": "code",
   "execution_count": 40,
   "id": "c32eb204",
   "metadata": {},
   "outputs": [
    {
     "name": "stdout",
     "output_type": "stream",
     "text": [
      "Average different: 0.1547310407250404\n",
      "p-value: 0.00670090784437845\n",
      "We reject the null hypothesis.\n"
     ]
    }
   ],
   "source": [
    "# set the alpha\n",
    "alpha = 0.05\n",
    "\n",
    "# make samples\n",
    "OrderByuserA = correct_orders[correct_orders.group == 'A'].groupby('visitorId', as_index = False).agg(\n",
    "    {'transactionId': pd.Series.nunique})\n",
    "OrderByuserA.columns = ['visitorId', 'orders']\n",
    "OrderByuserB = correct_orders[correct_orders.group == 'B'].groupby('visitorId', as_index = False).agg(\n",
    "    {'transactionId': pd.Series.nunique})\n",
    "OrderByuserB.columns = ['visitorId', 'orders']\n",
    "\n",
    "SampleA = pd.concat([OrderByuserA.orders,pd.Series(0, index = np.arange(\n",
    "    visits[visits.group == 'A']['visits'].sum() - len(OrderByuserA.orders)),name = 'orders')],axis = 0)\n",
    "SampleB = pd.concat([OrderByuserB.orders,pd.Series(0, index = np.arange(\n",
    "    visits[visits.group == 'B']['visits'].sum() - len(OrderByuserA.orders)),name = 'orders')],axis = 0)\n",
    "\n",
    "\n",
    "print(f'Average different: {SampleB.mean()/SampleA.mean()-1}')\n",
    "\n",
    "result = st.mannwhitneyu(SampleA, SampleB)[1]\n",
    "print(f'p-value: {result}')\n",
    "\n",
    "if (result < alpha):\n",
    "    print('We reject the null hypothesis.')\n",
    "else:\n",
    "    print(\"We can't reject the null hypothesis.\")\n"
   ]
  },
  {
   "cell_type": "markdown",
   "id": "b6fd88a4",
   "metadata": {},
   "source": [
    "So, we see that the p-value is less than 0.05, so we reject the null hypothesis that the conversion rate of Group A and Group B are the same.\\\n",
    "The Group B conversion rate average is 15.47% higher, which the average difference showed us."
   ]
  },
  {
   "cell_type": "markdown",
   "id": "f2220406",
   "metadata": {},
   "source": [
    "## Statistical significance of the difference in average order size between the groups\n",
    "\n",
    "Let's formulate our null hypothesis as follows: Average order size of Group A and Group B are the same.\n",
    "I will set the threshold value to the standard 0.05, I see no reason to set it to less. Then:\n",
    "\n",
    "H0:  Average order sizes of Group A and Group B are the same.\n",
    "\n",
    "H1:  Average order sizes of Group A and Group B are different.\n",
    "\n",
    "Threshold = 0.05\n"
   ]
  },
  {
   "cell_type": "code",
   "execution_count": 41,
   "id": "4ca0467a",
   "metadata": {},
   "outputs": [
    {
     "name": "stdout",
     "output_type": "stream",
     "text": [
      "Average different: 0.2783448769307848\n",
      "p-value: 0.4311164845007834\n",
      "We can't reject the null hypothesis.\n"
     ]
    }
   ],
   "source": [
    "# count significance of different \n",
    "average_different_of_revenue = correct_orders[correct_orders.group == 'B']['revenue'].mean() \\\n",
    "                        / correct_orders[correct_orders.group == 'A']['revenue'].mean() - 1\n",
    "print(f'Average different: {average_different_of_revenue}')\n",
    "\n",
    "#let's test\n",
    "results = st.mannwhitneyu(correct_orders[correct_orders.group == 'A']['revenue'], \\\n",
    "                          correct_orders[correct_orders.group == 'B']['revenue'])[1]\n",
    "\n",
    "print(f'p-value: {results}')\n",
    "\n",
    "if (results < alpha):\n",
    "    print('We reject the null hypothesis.')\n",
    "else:\n",
    "    print(\"We can't reject the null hypothesis.\")\n"
   ]
  },
  {
   "cell_type": "markdown",
   "id": "f51775c6",
   "metadata": {},
   "source": [
    "So we see that the p-value is significantly greater than 0.05, so we CANNOT reject the null hypothesis that Group A and Group B have the same order size.\\\n",
    "Group B's average revenue is up 27.83%, although it's likely that there were some emissions involved.\n",
    "\n",
    "So we will continue to conduct tests, only with data without extreme values."
   ]
  },
  {
   "cell_type": "markdown",
   "id": "ac1b1baf",
   "metadata": {},
   "source": [
    "## Statistical significance of the difference in conversion between the groups without anomalies\n",
    "\n",
    "I'm repeating my previous conditions for the testing difference in conversion rate: Group A and Group B conversion rates are the same. But this time I'll use filtered data.\\\n",
    "I will set the threshold value to the standard 0.05. \n",
    "\n",
    "Then:\n",
    "\n",
    "H0: Conversion rates of Group A and Group B are the same.\n",
    "\n",
    "H1: Conversion rates of Group A and Group B are different.\n",
    "\n",
    "Threshold = 0.05"
   ]
  },
  {
   "cell_type": "code",
   "execution_count": 42,
   "id": "0799e638",
   "metadata": {},
   "outputs": [
    {
     "name": "stdout",
     "output_type": "stream",
     "text": [
      "568     113298937\n",
      "1099    148427295\n",
      "928     204675465\n",
      "33      249864742\n",
      "684     358944393\n",
      "Name: visitorId, dtype: int64\n",
      "(86,)\n"
     ]
    }
   ],
   "source": [
    "# at first, let's make a list of the abnormal users\n",
    "\n",
    "usersManyOrder = pd.concat([OrderByuserA[OrderByuserA.orders >1]['visitorId'],\n",
    "                           OrderByuserB[OrderByuserB.orders >1]['visitorId']], axis = 0)\n",
    "\n",
    "usersBigOrder = correct_orders[correct_orders.revenue > 414.275]['visitorId']\n",
    "abnormalUsers = pd.concat([usersManyOrder, usersBigOrder], axis = 0).drop_duplicates().sort_values()\n",
    "print(abnormalUsers.head())\n",
    "print(abnormalUsers.shape)"
   ]
  },
  {
   "cell_type": "code",
   "execution_count": 43,
   "id": "bdc791c7",
   "metadata": {},
   "outputs": [],
   "source": [
    "# let's make a new samples\n",
    "\n",
    "SampleAFiltered = pd.concat([OrderByuserA[np.logical_not(OrderByuserA['visitorId'].isin(abnormalUsers))]['orders'],\\\n",
    "                             pd.Series(0, index = np.arange(visits[visits['group'] == 'A']['visits'].sum()\\\n",
    "                                                            - len(OrderByuserA['orders'])),name = 'orders')],axis = 0)\n",
    "SampleBFiltered = pd.concat([OrderByuserB[np.logical_not(OrderByuserB['visitorId'].isin(abnormalUsers))]['orders'],\\\n",
    "                             pd.Series(0, index = np.arange(visits[visits['group'] == 'B']['visits'].sum()\\\n",
    "                                                            - len(OrderByuserB['orders'])),name = 'orders')],axis = 0)\n"
   ]
  },
  {
   "cell_type": "code",
   "execution_count": 44,
   "id": "67e5f3fa",
   "metadata": {},
   "outputs": [
    {
     "name": "stdout",
     "output_type": "stream",
     "text": [
      "Average different: 0.17392968945597698\n",
      "p-value: 0.00796510358286988\n",
      "We reject the null hypothesis.\n"
     ]
    }
   ],
   "source": [
    "print(f'Average different: {SampleBFiltered.mean()/SampleAFiltered.mean()-1}')\n",
    "\n",
    "result = st.mannwhitneyu(SampleAFiltered, SampleBFiltered)[1]\n",
    "print(f'p-value: {result}')\n",
    "\n",
    "if (result < alpha):\n",
    "    print('We reject the null hypothesis.')\n",
    "else:\n",
    "    print(\"We can't reject the null hypothesis.\")"
   ]
  },
  {
   "cell_type": "markdown",
   "id": "39b855e3",
   "metadata": {},
   "source": [
    "The first thing to say is that we found 86 transactions that fall under our definition of abnormal: more than 1 order per user or order value above 414.275\n",
    "\n",
    "The test itself again showed a p-value less than alpha, so we again reject the null hypothesis.\\\n",
    "Even in the filtered database, the correlation index for samples from groups A and B is different.\\\n",
    "The difference between the average values of the conversion index even increased and reached 17.39%."
   ]
  },
  {
   "cell_type": "markdown",
   "id": "58b5e22f",
   "metadata": {},
   "source": [
    "## Statistical significance of the difference in average order size between the groups without anomalies\n",
    "\n",
    "\n",
    "Againe repeating my previous conditions for the testing difference in order size: Average order size of Group A and Group B are the same. I will set the threshold value to the standard 0.05. Then:\n",
    "\n",
    "H0: Average order sizes of Group A and Group B are the same.\n",
    "\n",
    "H1: Average order sizes of Group A and Group B are different.\n",
    "\n",
    "Threshold = 0.05"
   ]
  },
  {
   "cell_type": "code",
   "execution_count": 45,
   "id": "fd14a1bf",
   "metadata": {},
   "outputs": [
    {
     "name": "stdout",
     "output_type": "stream",
     "text": [
      "Average different: -0.03329650261005468\n",
      "p-value: 0.3855938654997413\n",
      "We can't reject the null hypothesis.\n"
     ]
    }
   ],
   "source": [
    "average_different_of_revenue = correct_orders[np.logical_and(\n",
    "    correct_orders.group == 'B',\n",
    "        np.logical_not(correct_orders.visitorId.isin(abnormalUsers)))]['revenue'].mean()/\\\n",
    "    correct_orders[np.logical_and(\n",
    "        correct_orders.group == 'A',\n",
    "        np.logical_not(correct_orders.visitorId.isin(abnormalUsers)))]['revenue'].mean() - 1\n",
    "\n",
    "print(f'Average different: {average_different_of_revenue}')\n",
    "\n",
    "results = st.mannwhitneyu(\n",
    "    correct_orders[np.logical_and(\n",
    "        correct_orders.group == 'B',\n",
    "        np.logical_not(correct_orders.visitorId.isin(abnormalUsers)))]['revenue'],\n",
    "    correct_orders[np.logical_and(\n",
    "        correct_orders.group == 'A',np.logical_not(correct_orders.visitorId.isin(abnormalUsers)))]['revenue'])[1]\n",
    "\n",
    "print(f'p-value: {results}')\n",
    "\n",
    "if (results < alpha):\n",
    "    print('We reject the null hypothesis.')\n",
    "else:\n",
    "    print(\"We can't reject the null hypothesis.\")"
   ]
  },
  {
   "cell_type": "markdown",
   "id": "360391b9",
   "metadata": {},
   "source": [
    "And this test did not change the situation. The p-value has shrunk a bit but is still significantly larger than the alpha value. Therefore - we cannot reject the null hypothesis, and the revenue of different groups is similar.\\\n",
    "But the difference in average values has changed significantly: from 27.83% to -3.33%. That is, with filtered data, the average revenue of Group A is even greater than that of Group B."
   ]
  },
  {
   "cell_type": "markdown",
   "id": "5aac17dc",
   "metadata": {},
   "source": [
    "### Conclusion\n",
    "\n",
    "So, during the project, we did:\n",
    "- prioritized hypotheses\n",
    "- studied   cumulative revenue, average order size, and the relative difference in cumulative average order size for groups\n",
    "- studied  conversion rate\n",
    "- studied anomalies\n",
    "- found the significance statistical difference in conversion between the groups with and without anomalies\n",
    "- found the significance statistical difference in average order size between the groups with and without anomalies\n",
    "\n",
    "Data analysis showed:\n",
    "- that anomalies are users with an order quantity greater than 1, or with an order size greater than 414.275.\n",
    "- tests of samples with and without anomalies - did not fundamentally change the results.\n",
    "- the conversion index of group B and group A is different. It is significantly higher in Group B, and the difference between the average values increased from 15.47% to 17.39%.\n",
    "- order size for Group I and Group A is the same. According to the results of the test without anomalies, the order size is more prominent for Group A, although not significant (only 3.33%)\n",
    "\n",
    "Conclusion\n",
    "- the graphs show that the model has largely stabilized.\n",
    "- Group B showed the best results. Yes, without anomalies, the average revenue is slightly lower than group A's. But the test did not show significant statistical differences in this indicator. But on the conversion index, the test showed a significant statistical difference.\n",
    "\n",
    "Recommendations\n",
    "- I strongly recommend stopping the test and recognizing Group B as the winner."
   ]
  }
 ],
 "metadata": {
  "kernelspec": {
   "display_name": "Python 3",
   "language": "python",
   "name": "python3"
  },
  "language_info": {
   "codemirror_mode": {
    "name": "ipython",
    "version": 3
   },
   "file_extension": ".py",
   "mimetype": "text/x-python",
   "name": "python",
   "nbconvert_exporter": "python",
   "pygments_lexer": "ipython3",
   "version": "3.8.8"
  },
  "toc": {
   "base_numbering": 1,
   "nav_menu": {},
   "number_sections": true,
   "sideBar": true,
   "skip_h1_title": true,
   "title_cell": "Table of Contents",
   "title_sidebar": "Contents",
   "toc_cell": false,
   "toc_position": {},
   "toc_section_display": true,
   "toc_window_display": false
  }
 },
 "nbformat": 4,
 "nbformat_minor": 5
}
