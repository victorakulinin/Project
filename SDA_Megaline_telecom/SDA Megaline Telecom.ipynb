{
 "cells": [
  {
   "cell_type": "markdown",
   "metadata": {},
   "source": [
    "# Which one is a better plan?\n",
    "\n",
    "I'm work as an analyst for the telecom operator Megaline. The company offers its clients two prepaid plans, Surf and Ultimate. The commercial department wants to know which of the plans brings in more revenue in order to adjust the advertising budget.\n",
    "\n",
    "I'm are going to carry out a preliminary analysis of the plans based on a relatively small client selection. I'll have the data on 500 Megaline clients: who the clients are, where they're from, which plan they use, and the number of calls they made and text messages they sent in 2018. My job is to analyze the clients' behavior and determine which prepaid plan brings in more revenue."
   ]
  },
  {
   "cell_type": "markdown",
   "metadata": {},
   "source": [
    "## Initialization"
   ]
  },
  {
   "cell_type": "markdown",
   "metadata": {},
   "source": [
    "As always, beginning with libraries"
   ]
  },
  {
   "cell_type": "code",
   "execution_count": 1,
   "metadata": {},
   "outputs": [
    {
     "name": "stdout",
     "output_type": "stream",
     "text": [
      "Requirement already satisfied: sidetable in c:\\users\\victo\\anaconda3\\lib\\site-packages (0.9.1)\n",
      "Requirement already satisfied: pandas>=1.0 in c:\\users\\victo\\anaconda3\\lib\\site-packages (from sidetable) (1.2.4)\n",
      "Note: you may need to restart the kernel to use updated packages.\n",
      "Requirement already satisfied: pytz>=2017.3 in c:\\users\\victo\\anaconda3\\lib\\site-packages (from pandas>=1.0->sidetable) (2021.1)\n",
      "Requirement already satisfied: python-dateutil>=2.7.3 in c:\\users\\victo\\anaconda3\\lib\\site-packages (from pandas>=1.0->sidetable) (2.8.1)\n",
      "Requirement already satisfied: numpy>=1.16.5 in c:\\users\\victo\\anaconda3\\lib\\site-packages (from pandas>=1.0->sidetable) (1.20.1)\n",
      "Requirement already satisfied: six>=1.5 in c:\\users\\victo\\anaconda3\\lib\\site-packages (from python-dateutil>=2.7.3->pandas>=1.0->sidetable) (1.15.0)\n"
     ]
    }
   ],
   "source": [
    "pip install sidetable"
   ]
  },
  {
   "cell_type": "code",
   "execution_count": 2,
   "metadata": {},
   "outputs": [],
   "source": [
    "# Loading all the libraries\n",
    "from IPython.core.interactiveshell import InteractiveShell\n",
    "InteractiveShell.ast_node_interactivity = 'all'\n",
    "\n",
    "import pandas as pd\n",
    "import numpy as np\n",
    "import math\n",
    "import sidetable as stb\n",
    "import datetime as dt\n",
    "from datetime import timedelta\n",
    "import scipy.stats as st\n",
    "from functools import reduce\n",
    "import matplotlib.pyplot as plt\n",
    "from matplotlib.pyplot import figure\n",
    "import seaborn as sns\n"
   ]
  },
  {
   "cell_type": "markdown",
   "metadata": {},
   "source": [
    "## Load data"
   ]
  },
  {
   "cell_type": "code",
   "execution_count": 3,
   "metadata": {},
   "outputs": [],
   "source": [
    "# Load the data files into different DataFrames\n",
    "\n",
    "try:\n",
    "    users = pd.read_csv(\"/Users/victo/Downloads/megaline_users.csv\", sep = ',')\n",
    "    plans = pd.read_csv(\"/Users/victo/Downloads/megaline_plans.csv\", sep = ',')\n",
    "    messages = pd.read_csv(\"/Users/victo/Downloads/megaline_messages.csv\", sep = ',')\n",
    "    internet = pd.read_csv(\"/Users/victo/Downloads/megaline_internet.csv\", sep = ',')\n",
    "    calls = pd.read_csv(\"/Users/victo/Downloads/megaline_calls.csv\", sep = ',')\n",
    "\n",
    "except:\n",
    "    users = pd.read_csv(\"/datasets/megaline_users.csv\", sep = ',')\n",
    "    plans = pd.read_csv(\"/datasets/megaline_plans.csv\", sep = ',')\n",
    "    messages = pd.read_csv(\"/datasets/megaline_messages.csv\", sep = ',')\n",
    "    internet = pd.read_csv(\"/datasets/megaline_internet.csv\", sep = ',')\n",
    "    calls = pd.read_csv(\"/datasets/megaline_calls.csv\", sep = ',')"
   ]
  },
  {
   "cell_type": "code",
   "execution_count": 4,
   "metadata": {},
   "outputs": [
    {
     "name": "stdout",
     "output_type": "stream",
     "text": [
      "\n",
      "<class 'pandas.core.frame.DataFrame'>\n",
      "RangeIndex: 2 entries, 0 to 1\n",
      "Data columns (total 8 columns):\n",
      " #   Column                 Non-Null Count  Dtype  \n",
      "---  ------                 --------------  -----  \n",
      " 0   messages_included      2 non-null      int64  \n",
      " 1   mb_per_month_included  2 non-null      int64  \n",
      " 2   minutes_included       2 non-null      int64  \n",
      " 3   usd_monthly_pay        2 non-null      int64  \n",
      " 4   usd_per_gb             2 non-null      int64  \n",
      " 5   usd_per_message        2 non-null      float64\n",
      " 6   usd_per_minute         2 non-null      float64\n",
      " 7   plan_name              2 non-null      object \n",
      "dtypes: float64(2), int64(5), object(1)\n",
      "memory usage: 256.0+ bytes\n",
      "\n",
      "---------------------------------------------------\n",
      "\n",
      "<class 'pandas.core.frame.DataFrame'>\n",
      "RangeIndex: 500 entries, 0 to 499\n",
      "Data columns (total 8 columns):\n",
      " #   Column      Non-Null Count  Dtype \n",
      "---  ------      --------------  ----- \n",
      " 0   user_id     500 non-null    int64 \n",
      " 1   first_name  500 non-null    object\n",
      " 2   last_name   500 non-null    object\n",
      " 3   age         500 non-null    int64 \n",
      " 4   city        500 non-null    object\n",
      " 5   reg_date    500 non-null    object\n",
      " 6   plan        500 non-null    object\n",
      " 7   churn_date  34 non-null     object\n",
      "dtypes: int64(2), object(6)\n",
      "memory usage: 31.4+ KB\n",
      "\n",
      "---------------------------------------------------\n",
      "\n",
      "<class 'pandas.core.frame.DataFrame'>\n",
      "RangeIndex: 137735 entries, 0 to 137734\n",
      "Data columns (total 4 columns):\n",
      " #   Column     Non-Null Count   Dtype  \n",
      "---  ------     --------------   -----  \n",
      " 0   id         137735 non-null  object \n",
      " 1   user_id    137735 non-null  int64  \n",
      " 2   call_date  137735 non-null  object \n",
      " 3   duration   137735 non-null  float64\n",
      "dtypes: float64(1), int64(1), object(2)\n",
      "memory usage: 4.2+ MB\n",
      "\n",
      "---------------------------------------------------\n",
      "\n",
      "<class 'pandas.core.frame.DataFrame'>\n",
      "RangeIndex: 76051 entries, 0 to 76050\n",
      "Data columns (total 3 columns):\n",
      " #   Column        Non-Null Count  Dtype \n",
      "---  ------        --------------  ----- \n",
      " 0   id            76051 non-null  object\n",
      " 1   user_id       76051 non-null  int64 \n",
      " 2   message_date  76051 non-null  object\n",
      "dtypes: int64(1), object(2)\n",
      "memory usage: 1.7+ MB\n",
      "\n",
      "---------------------------------------------------\n",
      "\n",
      "<class 'pandas.core.frame.DataFrame'>\n",
      "RangeIndex: 104825 entries, 0 to 104824\n",
      "Data columns (total 4 columns):\n",
      " #   Column        Non-Null Count   Dtype  \n",
      "---  ------        --------------   -----  \n",
      " 0   id            104825 non-null  object \n",
      " 1   user_id       104825 non-null  int64  \n",
      " 2   session_date  104825 non-null  object \n",
      " 3   mb_used       104825 non-null  float64\n",
      "dtypes: float64(1), int64(1), object(2)\n",
      "memory usage: 3.2+ MB\n",
      "\n",
      "---------------------------------------------------\n"
     ]
    }
   ],
   "source": [
    "# let's check the data has been loaded and see preliminary info about them\n",
    "\n",
    "data_list = [plans, users, calls, messages, internet]\n",
    "\n",
    "for i in data_list:\n",
    "    print()\n",
    "    i.info()\n",
    "    print()\n",
    "    print('---------------------------------------------------')"
   ]
  },
  {
   "cell_type": "markdown",
   "metadata": {},
   "source": [
    "Well, first sight - not bad.\\\n",
    "We have no missing value, except **churn_date** in the data frame **users**. But it's normal because this data shows the date the user stopped using the service, and if the data is missing, it means the client has used the service till now.\\\n",
    "Also, all our date-time data, at all data frames where they are, have a non-correct data type - 'object'. I'll change them later.\n",
    "\n",
    "Now, let's met with data more deeply."
   ]
  },
  {
   "cell_type": "markdown",
   "metadata": {},
   "source": [
    "## Prepare the data"
   ]
  },
  {
   "cell_type": "markdown",
   "metadata": {},
   "source": [
    "Ok. Now we have loaded data frames and got the first information about them.\\\n",
    "Further, I wanna get descriptive statistics about each data frame. I'll fix the wrong data types of columns with dates. \\\n",
    "Also, we have missing values in the data frame **users**, which I'll fill by the date 2019 -01-01, if will not find a better solution.\\\n",
    "This is my preliminary plan. "
   ]
  },
  {
   "cell_type": "markdown",
   "metadata": {},
   "source": [
    "## Plans"
   ]
  },
  {
   "cell_type": "code",
   "execution_count": 5,
   "metadata": {},
   "outputs": [
    {
     "data": {
      "text/html": [
       "<div>\n",
       "<style scoped>\n",
       "    .dataframe tbody tr th:only-of-type {\n",
       "        vertical-align: middle;\n",
       "    }\n",
       "\n",
       "    .dataframe tbody tr th {\n",
       "        vertical-align: top;\n",
       "    }\n",
       "\n",
       "    .dataframe thead th {\n",
       "        text-align: right;\n",
       "    }\n",
       "</style>\n",
       "<table border=\"1\" class=\"dataframe\">\n",
       "  <thead>\n",
       "    <tr style=\"text-align: right;\">\n",
       "      <th></th>\n",
       "      <th>count</th>\n",
       "      <th>mean</th>\n",
       "      <th>std</th>\n",
       "      <th>min</th>\n",
       "      <th>25%</th>\n",
       "      <th>50%</th>\n",
       "      <th>75%</th>\n",
       "      <th>max</th>\n",
       "    </tr>\n",
       "  </thead>\n",
       "  <tbody>\n",
       "    <tr>\n",
       "      <th>messages_included</th>\n",
       "      <td>2.0</td>\n",
       "      <td>525.00</td>\n",
       "      <td>671.751442</td>\n",
       "      <td>50.00</td>\n",
       "      <td>287.500</td>\n",
       "      <td>525.00</td>\n",
       "      <td>762.500</td>\n",
       "      <td>1000.00</td>\n",
       "    </tr>\n",
       "    <tr>\n",
       "      <th>mb_per_month_included</th>\n",
       "      <td>2.0</td>\n",
       "      <td>23040.00</td>\n",
       "      <td>10861.160159</td>\n",
       "      <td>15360.00</td>\n",
       "      <td>19200.000</td>\n",
       "      <td>23040.00</td>\n",
       "      <td>26880.000</td>\n",
       "      <td>30720.00</td>\n",
       "    </tr>\n",
       "    <tr>\n",
       "      <th>minutes_included</th>\n",
       "      <td>2.0</td>\n",
       "      <td>1750.00</td>\n",
       "      <td>1767.766953</td>\n",
       "      <td>500.00</td>\n",
       "      <td>1125.000</td>\n",
       "      <td>1750.00</td>\n",
       "      <td>2375.000</td>\n",
       "      <td>3000.00</td>\n",
       "    </tr>\n",
       "    <tr>\n",
       "      <th>usd_monthly_pay</th>\n",
       "      <td>2.0</td>\n",
       "      <td>45.00</td>\n",
       "      <td>35.355339</td>\n",
       "      <td>20.00</td>\n",
       "      <td>32.500</td>\n",
       "      <td>45.00</td>\n",
       "      <td>57.500</td>\n",
       "      <td>70.00</td>\n",
       "    </tr>\n",
       "    <tr>\n",
       "      <th>usd_per_gb</th>\n",
       "      <td>2.0</td>\n",
       "      <td>8.50</td>\n",
       "      <td>2.121320</td>\n",
       "      <td>7.00</td>\n",
       "      <td>7.750</td>\n",
       "      <td>8.50</td>\n",
       "      <td>9.250</td>\n",
       "      <td>10.00</td>\n",
       "    </tr>\n",
       "    <tr>\n",
       "      <th>usd_per_message</th>\n",
       "      <td>2.0</td>\n",
       "      <td>0.02</td>\n",
       "      <td>0.014142</td>\n",
       "      <td>0.01</td>\n",
       "      <td>0.015</td>\n",
       "      <td>0.02</td>\n",
       "      <td>0.025</td>\n",
       "      <td>0.03</td>\n",
       "    </tr>\n",
       "    <tr>\n",
       "      <th>usd_per_minute</th>\n",
       "      <td>2.0</td>\n",
       "      <td>0.02</td>\n",
       "      <td>0.014142</td>\n",
       "      <td>0.01</td>\n",
       "      <td>0.015</td>\n",
       "      <td>0.02</td>\n",
       "      <td>0.025</td>\n",
       "      <td>0.03</td>\n",
       "    </tr>\n",
       "  </tbody>\n",
       "</table>\n",
       "</div>"
      ],
      "text/plain": [
       "                       count      mean           std       min        25%  \\\n",
       "messages_included        2.0    525.00    671.751442     50.00    287.500   \n",
       "mb_per_month_included    2.0  23040.00  10861.160159  15360.00  19200.000   \n",
       "minutes_included         2.0   1750.00   1767.766953    500.00   1125.000   \n",
       "usd_monthly_pay          2.0     45.00     35.355339     20.00     32.500   \n",
       "usd_per_gb               2.0      8.50      2.121320      7.00      7.750   \n",
       "usd_per_message          2.0      0.02      0.014142      0.01      0.015   \n",
       "usd_per_minute           2.0      0.02      0.014142      0.01      0.015   \n",
       "\n",
       "                            50%        75%       max  \n",
       "messages_included        525.00    762.500   1000.00  \n",
       "mb_per_month_included  23040.00  26880.000  30720.00  \n",
       "minutes_included        1750.00   2375.000   3000.00  \n",
       "usd_monthly_pay           45.00     57.500     70.00  \n",
       "usd_per_gb                 8.50      9.250     10.00  \n",
       "usd_per_message            0.02      0.025      0.03  \n",
       "usd_per_minute             0.02      0.025      0.03  "
      ]
     },
     "execution_count": 5,
     "metadata": {},
     "output_type": "execute_result"
    }
   ],
   "source": [
    "# let's see the general/summary information about the plans' DataFrame\n",
    "\n",
    "plans.describe().T"
   ]
  },
  {
   "cell_type": "code",
   "execution_count": 6,
   "metadata": {},
   "outputs": [
    {
     "data": {
      "text/html": [
       "<div>\n",
       "<style scoped>\n",
       "    .dataframe tbody tr th:only-of-type {\n",
       "        vertical-align: middle;\n",
       "    }\n",
       "\n",
       "    .dataframe tbody tr th {\n",
       "        vertical-align: top;\n",
       "    }\n",
       "\n",
       "    .dataframe thead th {\n",
       "        text-align: right;\n",
       "    }\n",
       "</style>\n",
       "<table border=\"1\" class=\"dataframe\">\n",
       "  <thead>\n",
       "    <tr style=\"text-align: right;\">\n",
       "      <th></th>\n",
       "      <th>messages_included</th>\n",
       "      <th>mb_per_month_included</th>\n",
       "      <th>minutes_included</th>\n",
       "      <th>usd_monthly_pay</th>\n",
       "      <th>usd_per_gb</th>\n",
       "      <th>usd_per_message</th>\n",
       "      <th>usd_per_minute</th>\n",
       "      <th>plan_name</th>\n",
       "    </tr>\n",
       "  </thead>\n",
       "  <tbody>\n",
       "    <tr>\n",
       "      <th>0</th>\n",
       "      <td>50</td>\n",
       "      <td>15360</td>\n",
       "      <td>500</td>\n",
       "      <td>20</td>\n",
       "      <td>10</td>\n",
       "      <td>0.03</td>\n",
       "      <td>0.03</td>\n",
       "      <td>surf</td>\n",
       "    </tr>\n",
       "    <tr>\n",
       "      <th>1</th>\n",
       "      <td>1000</td>\n",
       "      <td>30720</td>\n",
       "      <td>3000</td>\n",
       "      <td>70</td>\n",
       "      <td>7</td>\n",
       "      <td>0.01</td>\n",
       "      <td>0.01</td>\n",
       "      <td>ultimate</td>\n",
       "    </tr>\n",
       "  </tbody>\n",
       "</table>\n",
       "</div>"
      ],
      "text/plain": [
       "   messages_included  mb_per_month_included  minutes_included  \\\n",
       "0                 50                  15360               500   \n",
       "1               1000                  30720              3000   \n",
       "\n",
       "   usd_monthly_pay  usd_per_gb  usd_per_message  usd_per_minute plan_name  \n",
       "0               20          10             0.03            0.03      surf  \n",
       "1               70           7             0.01            0.01  ultimate  "
      ]
     },
     "execution_count": 6,
     "metadata": {},
     "output_type": "execute_result"
    }
   ],
   "source": [
    "# let's print data for plans\n",
    "\n",
    "plans"
   ]
  },
  {
   "cell_type": "markdown",
   "metadata": {},
   "source": [
    "There is no missing data in the table, and all data types specified are correct. The column names are also correct.\\\n",
    "I see that the price of the **ultimate** package is 3.5 times more than the **surf**, while its traffic volume is 2 times the most. In the age of smartphones, this is an important indicator.\\\n",
    "I guess the surf plan is more popular with the clients."
   ]
  },
  {
   "cell_type": "markdown",
   "metadata": {},
   "source": [
    " "
   ]
  },
  {
   "cell_type": "markdown",
   "metadata": {},
   "source": [
    "## Users"
   ]
  },
  {
   "cell_type": "code",
   "execution_count": 7,
   "metadata": {
    "scrolled": false
   },
   "outputs": [
    {
     "data": {
      "text/html": [
       "<div>\n",
       "<style scoped>\n",
       "    .dataframe tbody tr th:only-of-type {\n",
       "        vertical-align: middle;\n",
       "    }\n",
       "\n",
       "    .dataframe tbody tr th {\n",
       "        vertical-align: top;\n",
       "    }\n",
       "\n",
       "    .dataframe thead th {\n",
       "        text-align: right;\n",
       "    }\n",
       "</style>\n",
       "<table border=\"1\" class=\"dataframe\">\n",
       "  <thead>\n",
       "    <tr style=\"text-align: right;\">\n",
       "      <th></th>\n",
       "      <th>count</th>\n",
       "      <th>mean</th>\n",
       "      <th>std</th>\n",
       "      <th>min</th>\n",
       "      <th>25%</th>\n",
       "      <th>50%</th>\n",
       "      <th>75%</th>\n",
       "      <th>max</th>\n",
       "    </tr>\n",
       "  </thead>\n",
       "  <tbody>\n",
       "    <tr>\n",
       "      <th>user_id</th>\n",
       "      <td>500.0</td>\n",
       "      <td>1249.500</td>\n",
       "      <td>144.481833</td>\n",
       "      <td>1000.0</td>\n",
       "      <td>1124.75</td>\n",
       "      <td>1249.5</td>\n",
       "      <td>1374.25</td>\n",
       "      <td>1499.0</td>\n",
       "    </tr>\n",
       "    <tr>\n",
       "      <th>age</th>\n",
       "      <td>500.0</td>\n",
       "      <td>45.486</td>\n",
       "      <td>16.972269</td>\n",
       "      <td>18.0</td>\n",
       "      <td>30.00</td>\n",
       "      <td>46.0</td>\n",
       "      <td>61.00</td>\n",
       "      <td>75.0</td>\n",
       "    </tr>\n",
       "  </tbody>\n",
       "</table>\n",
       "</div>"
      ],
      "text/plain": [
       "         count      mean         std     min      25%     50%      75%     max\n",
       "user_id  500.0  1249.500  144.481833  1000.0  1124.75  1249.5  1374.25  1499.0\n",
       "age      500.0    45.486   16.972269    18.0    30.00    46.0    61.00    75.0"
      ]
     },
     "execution_count": 7,
     "metadata": {},
     "output_type": "execute_result"
    },
    {
     "data": {
      "text/html": [
       "<div>\n",
       "<style scoped>\n",
       "    .dataframe tbody tr th:only-of-type {\n",
       "        vertical-align: middle;\n",
       "    }\n",
       "\n",
       "    .dataframe tbody tr th {\n",
       "        vertical-align: top;\n",
       "    }\n",
       "\n",
       "    .dataframe thead th {\n",
       "        text-align: right;\n",
       "    }\n",
       "</style>\n",
       "<table border=\"1\" class=\"dataframe\">\n",
       "  <thead>\n",
       "    <tr style=\"text-align: right;\">\n",
       "      <th></th>\n",
       "      <th>count</th>\n",
       "      <th>unique</th>\n",
       "      <th>top</th>\n",
       "      <th>freq</th>\n",
       "    </tr>\n",
       "  </thead>\n",
       "  <tbody>\n",
       "    <tr>\n",
       "      <th>first_name</th>\n",
       "      <td>500</td>\n",
       "      <td>458</td>\n",
       "      <td>Leonila</td>\n",
       "      <td>3</td>\n",
       "    </tr>\n",
       "    <tr>\n",
       "      <th>last_name</th>\n",
       "      <td>500</td>\n",
       "      <td>399</td>\n",
       "      <td>Brock</td>\n",
       "      <td>3</td>\n",
       "    </tr>\n",
       "    <tr>\n",
       "      <th>city</th>\n",
       "      <td>500</td>\n",
       "      <td>73</td>\n",
       "      <td>New York-Newark-Jersey City, NY-NJ-PA MSA</td>\n",
       "      <td>80</td>\n",
       "    </tr>\n",
       "    <tr>\n",
       "      <th>reg_date</th>\n",
       "      <td>500</td>\n",
       "      <td>266</td>\n",
       "      <td>2018-03-08</td>\n",
       "      <td>5</td>\n",
       "    </tr>\n",
       "    <tr>\n",
       "      <th>plan</th>\n",
       "      <td>500</td>\n",
       "      <td>2</td>\n",
       "      <td>surf</td>\n",
       "      <td>339</td>\n",
       "    </tr>\n",
       "    <tr>\n",
       "      <th>churn_date</th>\n",
       "      <td>34</td>\n",
       "      <td>29</td>\n",
       "      <td>2018-12-18</td>\n",
       "      <td>3</td>\n",
       "    </tr>\n",
       "  </tbody>\n",
       "</table>\n",
       "</div>"
      ],
      "text/plain": [
       "           count unique                                        top freq\n",
       "first_name   500    458                                    Leonila    3\n",
       "last_name    500    399                                      Brock    3\n",
       "city         500     73  New York-Newark-Jersey City, NY-NJ-PA MSA   80\n",
       "reg_date     500    266                                 2018-03-08    5\n",
       "plan         500      2                                       surf  339\n",
       "churn_date    34     29                                 2018-12-18    3"
      ]
     },
     "execution_count": 7,
     "metadata": {},
     "output_type": "execute_result"
    }
   ],
   "source": [
    "# get the general/summary information about the users' DataFrame\n",
    "\n",
    "users.describe().T\n",
    "users.describe(include = 'object').T"
   ]
  },
  {
   "cell_type": "code",
   "execution_count": 8,
   "metadata": {
    "scrolled": true
   },
   "outputs": [
    {
     "data": {
      "text/html": [
       "<div>\n",
       "<style scoped>\n",
       "    .dataframe tbody tr th:only-of-type {\n",
       "        vertical-align: middle;\n",
       "    }\n",
       "\n",
       "    .dataframe tbody tr th {\n",
       "        vertical-align: top;\n",
       "    }\n",
       "\n",
       "    .dataframe thead th {\n",
       "        text-align: right;\n",
       "    }\n",
       "</style>\n",
       "<table border=\"1\" class=\"dataframe\">\n",
       "  <thead>\n",
       "    <tr style=\"text-align: right;\">\n",
       "      <th></th>\n",
       "      <th>user_id</th>\n",
       "      <th>first_name</th>\n",
       "      <th>last_name</th>\n",
       "      <th>age</th>\n",
       "      <th>city</th>\n",
       "      <th>reg_date</th>\n",
       "      <th>plan</th>\n",
       "      <th>churn_date</th>\n",
       "    </tr>\n",
       "  </thead>\n",
       "  <tbody>\n",
       "    <tr>\n",
       "      <th>0</th>\n",
       "      <td>1000</td>\n",
       "      <td>Anamaria</td>\n",
       "      <td>Bauer</td>\n",
       "      <td>45</td>\n",
       "      <td>Atlanta-Sandy Springs-Roswell, GA MSA</td>\n",
       "      <td>2018-12-24</td>\n",
       "      <td>ultimate</td>\n",
       "      <td>NaN</td>\n",
       "    </tr>\n",
       "    <tr>\n",
       "      <th>1</th>\n",
       "      <td>1001</td>\n",
       "      <td>Mickey</td>\n",
       "      <td>Wilkerson</td>\n",
       "      <td>28</td>\n",
       "      <td>Seattle-Tacoma-Bellevue, WA MSA</td>\n",
       "      <td>2018-08-13</td>\n",
       "      <td>surf</td>\n",
       "      <td>NaN</td>\n",
       "    </tr>\n",
       "    <tr>\n",
       "      <th>2</th>\n",
       "      <td>1002</td>\n",
       "      <td>Carlee</td>\n",
       "      <td>Hoffman</td>\n",
       "      <td>36</td>\n",
       "      <td>Las Vegas-Henderson-Paradise, NV MSA</td>\n",
       "      <td>2018-10-21</td>\n",
       "      <td>surf</td>\n",
       "      <td>NaN</td>\n",
       "    </tr>\n",
       "    <tr>\n",
       "      <th>3</th>\n",
       "      <td>1003</td>\n",
       "      <td>Reynaldo</td>\n",
       "      <td>Jenkins</td>\n",
       "      <td>52</td>\n",
       "      <td>Tulsa, OK MSA</td>\n",
       "      <td>2018-01-28</td>\n",
       "      <td>surf</td>\n",
       "      <td>NaN</td>\n",
       "    </tr>\n",
       "    <tr>\n",
       "      <th>4</th>\n",
       "      <td>1004</td>\n",
       "      <td>Leonila</td>\n",
       "      <td>Thompson</td>\n",
       "      <td>40</td>\n",
       "      <td>Seattle-Tacoma-Bellevue, WA MSA</td>\n",
       "      <td>2018-05-23</td>\n",
       "      <td>surf</td>\n",
       "      <td>NaN</td>\n",
       "    </tr>\n",
       "  </tbody>\n",
       "</table>\n",
       "</div>"
      ],
      "text/plain": [
       "   user_id first_name  last_name  age                                   city  \\\n",
       "0     1000   Anamaria      Bauer   45  Atlanta-Sandy Springs-Roswell, GA MSA   \n",
       "1     1001     Mickey  Wilkerson   28        Seattle-Tacoma-Bellevue, WA MSA   \n",
       "2     1002     Carlee    Hoffman   36   Las Vegas-Henderson-Paradise, NV MSA   \n",
       "3     1003   Reynaldo    Jenkins   52                          Tulsa, OK MSA   \n",
       "4     1004    Leonila   Thompson   40        Seattle-Tacoma-Bellevue, WA MSA   \n",
       "\n",
       "     reg_date      plan churn_date  \n",
       "0  2018-12-24  ultimate        NaN  \n",
       "1  2018-08-13      surf        NaN  \n",
       "2  2018-10-21      surf        NaN  \n",
       "3  2018-01-28      surf        NaN  \n",
       "4  2018-05-23      surf        NaN  "
      ]
     },
     "execution_count": 8,
     "metadata": {},
     "output_type": "execute_result"
    }
   ],
   "source": [
    "# let's see on a sample of data for users\n",
    "\n",
    "users.head()"
   ]
  },
  {
   "cell_type": "markdown",
   "metadata": {},
   "source": [
    "So we have 500 observations. I'll deal with the missing data and data type later, but now starting with age. \\\n",
    "Our clients are between 18 and 75 years old, with a mean age of 45,486 and a median of 46. The mean and median are almost the same, but the distribution is still a bit left-skewed.\n",
    "\n",
    "The next interesting observation - it's the frequency of each plan. Let's see."
   ]
  },
  {
   "cell_type": "code",
   "execution_count": 9,
   "metadata": {
    "scrolled": false
   },
   "outputs": [
    {
     "data": {
      "text/html": [
       "<style  type=\"text/css\" >\n",
       "</style><table id=\"T_69563_\" ><thead>    <tr>        <th class=\"blank level0\" ></th>        <th class=\"col_heading level0 col0\" >plan</th>        <th class=\"col_heading level0 col1\" >count</th>        <th class=\"col_heading level0 col2\" >percent</th>        <th class=\"col_heading level0 col3\" >cumulative_count</th>        <th class=\"col_heading level0 col4\" >cumulative_percent</th>    </tr></thead><tbody>\n",
       "                <tr>\n",
       "                        <th id=\"T_69563_level0_row0\" class=\"row_heading level0 row0\" >0</th>\n",
       "                        <td id=\"T_69563_row0_col0\" class=\"data row0 col0\" >surf</td>\n",
       "                        <td id=\"T_69563_row0_col1\" class=\"data row0 col1\" >339</td>\n",
       "                        <td id=\"T_69563_row0_col2\" class=\"data row0 col2\" >67.80%</td>\n",
       "                        <td id=\"T_69563_row0_col3\" class=\"data row0 col3\" >339</td>\n",
       "                        <td id=\"T_69563_row0_col4\" class=\"data row0 col4\" >67.80%</td>\n",
       "            </tr>\n",
       "            <tr>\n",
       "                        <th id=\"T_69563_level0_row1\" class=\"row_heading level0 row1\" >1</th>\n",
       "                        <td id=\"T_69563_row1_col0\" class=\"data row1 col0\" >ultimate</td>\n",
       "                        <td id=\"T_69563_row1_col1\" class=\"data row1 col1\" >161</td>\n",
       "                        <td id=\"T_69563_row1_col2\" class=\"data row1 col2\" >32.20%</td>\n",
       "                        <td id=\"T_69563_row1_col3\" class=\"data row1 col3\" >500</td>\n",
       "                        <td id=\"T_69563_row1_col4\" class=\"data row1 col4\" >100.00%</td>\n",
       "            </tr>\n",
       "    </tbody></table>"
      ],
      "text/plain": [
       "<pandas.io.formats.style.Styler at 0x25512cd6730>"
      ]
     },
     "execution_count": 9,
     "metadata": {},
     "output_type": "execute_result"
    },
    {
     "data": {
      "text/html": [
       "<style  type=\"text/css\" >\n",
       "</style><table id=\"T_a4d97_\" ><thead>    <tr>        <th class=\"blank level0\" ></th>        <th class=\"col_heading level0 col0\" >plan</th>        <th class=\"col_heading level0 col1\" >count</th>        <th class=\"col_heading level0 col2\" >percent</th>        <th class=\"col_heading level0 col3\" >cumulative_count</th>        <th class=\"col_heading level0 col4\" >cumulative_percent</th>    </tr></thead><tbody>\n",
       "                <tr>\n",
       "                        <th id=\"T_a4d97_level0_row0\" class=\"row_heading level0 row0\" >0</th>\n",
       "                        <td id=\"T_a4d97_row0_col0\" class=\"data row0 col0\" >surf</td>\n",
       "                        <td id=\"T_a4d97_row0_col1\" class=\"data row0 col1\" >23</td>\n",
       "                        <td id=\"T_a4d97_row0_col2\" class=\"data row0 col2\" >67.65%</td>\n",
       "                        <td id=\"T_a4d97_row0_col3\" class=\"data row0 col3\" >23</td>\n",
       "                        <td id=\"T_a4d97_row0_col4\" class=\"data row0 col4\" >67.65%</td>\n",
       "            </tr>\n",
       "            <tr>\n",
       "                        <th id=\"T_a4d97_level0_row1\" class=\"row_heading level0 row1\" >1</th>\n",
       "                        <td id=\"T_a4d97_row1_col0\" class=\"data row1 col0\" >ultimate</td>\n",
       "                        <td id=\"T_a4d97_row1_col1\" class=\"data row1 col1\" >11</td>\n",
       "                        <td id=\"T_a4d97_row1_col2\" class=\"data row1 col2\" >32.35%</td>\n",
       "                        <td id=\"T_a4d97_row1_col3\" class=\"data row1 col3\" >34</td>\n",
       "                        <td id=\"T_a4d97_row1_col4\" class=\"data row1 col4\" >100.00%</td>\n",
       "            </tr>\n",
       "    </tbody></table>"
      ],
      "text/plain": [
       "<pandas.io.formats.style.Styler at 0x2551822f940>"
      ]
     },
     "execution_count": 9,
     "metadata": {},
     "output_type": "execute_result"
    }
   ],
   "source": [
    "# also, it would be interesting to sample percent of registered customers with plan surf and\n",
    "# percent customers with plan surf who closed contracts\n",
    "\n",
    "users.stb.freq(['plan'], style = True)\n",
    "users.dropna(subset = ['churn_date']).stb.freq(['plan'], style = True)"
   ]
  },
  {
   "cell_type": "code",
   "execution_count": 10,
   "metadata": {},
   "outputs": [
    {
     "data": {
      "text/plain": [
       "0"
      ]
     },
     "execution_count": 10,
     "metadata": {},
     "output_type": "execute_result"
    }
   ],
   "source": [
    "# let's check have we a users with two plans\n",
    "\n",
    "users.loc[:, 'user_id': 'city'].duplicated().sum()"
   ]
  },
  {
   "cell_type": "markdown",
   "metadata": {},
   "source": [
    "We see that 67.8% of customers prefer the surf plan, and 32.2% the ultimate. But what is more interesting, closed contracts appeared with almost the same frequency of 67.65% and 32.35%, respectively. The numbers are very similar and it looks suspicious to me.\\\n",
    "There are two options.\\\n",
    "First - customers stopped using the service and went to another provider. Then it's not about the plan, but about the overall satisfaction with the service.\\\n",
    "The second - there is an internal cannibalization by one plan of the second. Is this so - it will be possible to see by its activity in data frames calls, messages, Internet.\\\n",
    "For now, I'll see how users of different plans are distributed depending on age."
   ]
  },
  {
   "cell_type": "code",
   "execution_count": 11,
   "metadata": {},
   "outputs": [
    {
     "name": "stdout",
     "output_type": "stream",
     "text": [
      "\n",
      "Ultimate plan\n"
     ]
    },
    {
     "data": {
      "text/html": [
       "<style  type=\"text/css\" >\n",
       "</style><table id=\"T_29513_\" ><thead>    <tr>        <th class=\"blank level0\" ></th>        <th class=\"col_heading level0 col0\" >age_group</th>        <th class=\"col_heading level0 col1\" >count</th>        <th class=\"col_heading level0 col2\" >percent</th>        <th class=\"col_heading level0 col3\" >cumulative_count</th>        <th class=\"col_heading level0 col4\" >cumulative_percent</th>    </tr></thead><tbody>\n",
       "                <tr>\n",
       "                        <th id=\"T_29513_level0_row0\" class=\"row_heading level0 row0\" >0</th>\n",
       "                        <td id=\"T_29513_row0_col0\" class=\"data row0 col0\" >46-55</td>\n",
       "                        <td id=\"T_29513_row0_col1\" class=\"data row0 col1\" >33</td>\n",
       "                        <td id=\"T_29513_row0_col2\" class=\"data row0 col2\" >20.50%</td>\n",
       "                        <td id=\"T_29513_row0_col3\" class=\"data row0 col3\" >33</td>\n",
       "                        <td id=\"T_29513_row0_col4\" class=\"data row0 col4\" >20.50%</td>\n",
       "            </tr>\n",
       "            <tr>\n",
       "                        <th id=\"T_29513_level0_row1\" class=\"row_heading level0 row1\" >1</th>\n",
       "                        <td id=\"T_29513_row1_col0\" class=\"data row1 col0\" >56-65</td>\n",
       "                        <td id=\"T_29513_row1_col1\" class=\"data row1 col1\" >29</td>\n",
       "                        <td id=\"T_29513_row1_col2\" class=\"data row1 col2\" >18.01%</td>\n",
       "                        <td id=\"T_29513_row1_col3\" class=\"data row1 col3\" >62</td>\n",
       "                        <td id=\"T_29513_row1_col4\" class=\"data row1 col4\" >38.51%</td>\n",
       "            </tr>\n",
       "            <tr>\n",
       "                        <th id=\"T_29513_level0_row2\" class=\"row_heading level0 row2\" >2</th>\n",
       "                        <td id=\"T_29513_row2_col0\" class=\"data row2 col0\" >above 65</td>\n",
       "                        <td id=\"T_29513_row2_col1\" class=\"data row2 col1\" >27</td>\n",
       "                        <td id=\"T_29513_row2_col2\" class=\"data row2 col2\" >16.77%</td>\n",
       "                        <td id=\"T_29513_row2_col3\" class=\"data row2 col3\" >89</td>\n",
       "                        <td id=\"T_29513_row2_col4\" class=\"data row2 col4\" >55.28%</td>\n",
       "            </tr>\n",
       "            <tr>\n",
       "                        <th id=\"T_29513_level0_row3\" class=\"row_heading level0 row3\" >3</th>\n",
       "                        <td id=\"T_29513_row3_col0\" class=\"data row3 col0\" >36-45</td>\n",
       "                        <td id=\"T_29513_row3_col1\" class=\"data row3 col1\" >25</td>\n",
       "                        <td id=\"T_29513_row3_col2\" class=\"data row3 col2\" >15.53%</td>\n",
       "                        <td id=\"T_29513_row3_col3\" class=\"data row3 col3\" >114</td>\n",
       "                        <td id=\"T_29513_row3_col4\" class=\"data row3 col4\" >70.81%</td>\n",
       "            </tr>\n",
       "            <tr>\n",
       "                        <th id=\"T_29513_level0_row4\" class=\"row_heading level0 row4\" >4</th>\n",
       "                        <td id=\"T_29513_row4_col0\" class=\"data row4 col0\" >26-35</td>\n",
       "                        <td id=\"T_29513_row4_col1\" class=\"data row4 col1\" >25</td>\n",
       "                        <td id=\"T_29513_row4_col2\" class=\"data row4 col2\" >15.53%</td>\n",
       "                        <td id=\"T_29513_row4_col3\" class=\"data row4 col3\" >139</td>\n",
       "                        <td id=\"T_29513_row4_col4\" class=\"data row4 col4\" >86.34%</td>\n",
       "            </tr>\n",
       "            <tr>\n",
       "                        <th id=\"T_29513_level0_row5\" class=\"row_heading level0 row5\" >5</th>\n",
       "                        <td id=\"T_29513_row5_col0\" class=\"data row5 col0\" >up to 25</td>\n",
       "                        <td id=\"T_29513_row5_col1\" class=\"data row5 col1\" >22</td>\n",
       "                        <td id=\"T_29513_row5_col2\" class=\"data row5 col2\" >13.66%</td>\n",
       "                        <td id=\"T_29513_row5_col3\" class=\"data row5 col3\" >161</td>\n",
       "                        <td id=\"T_29513_row5_col4\" class=\"data row5 col4\" >100.00%</td>\n",
       "            </tr>\n",
       "    </tbody></table>"
      ],
      "text/plain": [
       "<pandas.io.formats.style.Styler at 0x2551822f310>"
      ]
     },
     "execution_count": 11,
     "metadata": {},
     "output_type": "execute_result"
    },
    {
     "name": "stdout",
     "output_type": "stream",
     "text": [
      "-----------------------------------------------------------\n",
      "Surf plan\n"
     ]
    },
    {
     "data": {
      "text/html": [
       "<style  type=\"text/css\" >\n",
       "</style><table id=\"T_8e7d5_\" ><thead>    <tr>        <th class=\"blank level0\" ></th>        <th class=\"col_heading level0 col0\" >age_group</th>        <th class=\"col_heading level0 col1\" >count</th>        <th class=\"col_heading level0 col2\" >percent</th>        <th class=\"col_heading level0 col3\" >cumulative_count</th>        <th class=\"col_heading level0 col4\" >cumulative_percent</th>    </tr></thead><tbody>\n",
       "                <tr>\n",
       "                        <th id=\"T_8e7d5_level0_row0\" class=\"row_heading level0 row0\" >0</th>\n",
       "                        <td id=\"T_8e7d5_row0_col0\" class=\"data row0 col0\" >26-35</td>\n",
       "                        <td id=\"T_8e7d5_row0_col1\" class=\"data row0 col1\" >72</td>\n",
       "                        <td id=\"T_8e7d5_row0_col2\" class=\"data row0 col2\" >21.24%</td>\n",
       "                        <td id=\"T_8e7d5_row0_col3\" class=\"data row0 col3\" >72</td>\n",
       "                        <td id=\"T_8e7d5_row0_col4\" class=\"data row0 col4\" >21.24%</td>\n",
       "            </tr>\n",
       "            <tr>\n",
       "                        <th id=\"T_8e7d5_level0_row1\" class=\"row_heading level0 row1\" >1</th>\n",
       "                        <td id=\"T_8e7d5_row1_col0\" class=\"data row1 col0\" >46-55</td>\n",
       "                        <td id=\"T_8e7d5_row1_col1\" class=\"data row1 col1\" >55</td>\n",
       "                        <td id=\"T_8e7d5_row1_col2\" class=\"data row1 col2\" >16.22%</td>\n",
       "                        <td id=\"T_8e7d5_row1_col3\" class=\"data row1 col3\" >127</td>\n",
       "                        <td id=\"T_8e7d5_row1_col4\" class=\"data row1 col4\" >37.46%</td>\n",
       "            </tr>\n",
       "            <tr>\n",
       "                        <th id=\"T_8e7d5_level0_row2\" class=\"row_heading level0 row2\" >2</th>\n",
       "                        <td id=\"T_8e7d5_row2_col0\" class=\"data row2 col0\" >above 65</td>\n",
       "                        <td id=\"T_8e7d5_row2_col1\" class=\"data row2 col1\" >54</td>\n",
       "                        <td id=\"T_8e7d5_row2_col2\" class=\"data row2 col2\" >15.93%</td>\n",
       "                        <td id=\"T_8e7d5_row2_col3\" class=\"data row2 col3\" >181</td>\n",
       "                        <td id=\"T_8e7d5_row2_col4\" class=\"data row2 col4\" >53.39%</td>\n",
       "            </tr>\n",
       "            <tr>\n",
       "                        <th id=\"T_8e7d5_level0_row3\" class=\"row_heading level0 row3\" >3</th>\n",
       "                        <td id=\"T_8e7d5_row3_col0\" class=\"data row3 col0\" >56-65</td>\n",
       "                        <td id=\"T_8e7d5_row3_col1\" class=\"data row3 col1\" >54</td>\n",
       "                        <td id=\"T_8e7d5_row3_col2\" class=\"data row3 col2\" >15.93%</td>\n",
       "                        <td id=\"T_8e7d5_row3_col3\" class=\"data row3 col3\" >235</td>\n",
       "                        <td id=\"T_8e7d5_row3_col4\" class=\"data row3 col4\" >69.32%</td>\n",
       "            </tr>\n",
       "            <tr>\n",
       "                        <th id=\"T_8e7d5_level0_row4\" class=\"row_heading level0 row4\" >4</th>\n",
       "                        <td id=\"T_8e7d5_row4_col0\" class=\"data row4 col0\" >36-45</td>\n",
       "                        <td id=\"T_8e7d5_row4_col1\" class=\"data row4 col1\" >53</td>\n",
       "                        <td id=\"T_8e7d5_row4_col2\" class=\"data row4 col2\" >15.63%</td>\n",
       "                        <td id=\"T_8e7d5_row4_col3\" class=\"data row4 col3\" >288</td>\n",
       "                        <td id=\"T_8e7d5_row4_col4\" class=\"data row4 col4\" >84.96%</td>\n",
       "            </tr>\n",
       "            <tr>\n",
       "                        <th id=\"T_8e7d5_level0_row5\" class=\"row_heading level0 row5\" >5</th>\n",
       "                        <td id=\"T_8e7d5_row5_col0\" class=\"data row5 col0\" >up to 25</td>\n",
       "                        <td id=\"T_8e7d5_row5_col1\" class=\"data row5 col1\" >51</td>\n",
       "                        <td id=\"T_8e7d5_row5_col2\" class=\"data row5 col2\" >15.04%</td>\n",
       "                        <td id=\"T_8e7d5_row5_col3\" class=\"data row5 col3\" >339</td>\n",
       "                        <td id=\"T_8e7d5_row5_col4\" class=\"data row5 col4\" >100.00%</td>\n",
       "            </tr>\n",
       "    </tbody></table>"
      ],
      "text/plain": [
       "<pandas.io.formats.style.Styler at 0x25519420280>"
      ]
     },
     "execution_count": 11,
     "metadata": {},
     "output_type": "execute_result"
    },
    {
     "name": "stdout",
     "output_type": "stream",
     "text": [
      "-----------------------------------------------------------\n",
      "General\n"
     ]
    },
    {
     "data": {
      "text/html": [
       "<style  type=\"text/css\" >\n",
       "</style><table id=\"T_9605b_\" ><thead>    <tr>        <th class=\"blank level0\" ></th>        <th class=\"col_heading level0 col0\" >age_group</th>        <th class=\"col_heading level0 col1\" >count</th>        <th class=\"col_heading level0 col2\" >percent</th>        <th class=\"col_heading level0 col3\" >cumulative_count</th>        <th class=\"col_heading level0 col4\" >cumulative_percent</th>    </tr></thead><tbody>\n",
       "                <tr>\n",
       "                        <th id=\"T_9605b_level0_row0\" class=\"row_heading level0 row0\" >0</th>\n",
       "                        <td id=\"T_9605b_row0_col0\" class=\"data row0 col0\" >26-35</td>\n",
       "                        <td id=\"T_9605b_row0_col1\" class=\"data row0 col1\" >97</td>\n",
       "                        <td id=\"T_9605b_row0_col2\" class=\"data row0 col2\" >19.40%</td>\n",
       "                        <td id=\"T_9605b_row0_col3\" class=\"data row0 col3\" >97</td>\n",
       "                        <td id=\"T_9605b_row0_col4\" class=\"data row0 col4\" >19.40%</td>\n",
       "            </tr>\n",
       "            <tr>\n",
       "                        <th id=\"T_9605b_level0_row1\" class=\"row_heading level0 row1\" >1</th>\n",
       "                        <td id=\"T_9605b_row1_col0\" class=\"data row1 col0\" >46-55</td>\n",
       "                        <td id=\"T_9605b_row1_col1\" class=\"data row1 col1\" >88</td>\n",
       "                        <td id=\"T_9605b_row1_col2\" class=\"data row1 col2\" >17.60%</td>\n",
       "                        <td id=\"T_9605b_row1_col3\" class=\"data row1 col3\" >185</td>\n",
       "                        <td id=\"T_9605b_row1_col4\" class=\"data row1 col4\" >37.00%</td>\n",
       "            </tr>\n",
       "            <tr>\n",
       "                        <th id=\"T_9605b_level0_row2\" class=\"row_heading level0 row2\" >2</th>\n",
       "                        <td id=\"T_9605b_row2_col0\" class=\"data row2 col0\" >56-65</td>\n",
       "                        <td id=\"T_9605b_row2_col1\" class=\"data row2 col1\" >83</td>\n",
       "                        <td id=\"T_9605b_row2_col2\" class=\"data row2 col2\" >16.60%</td>\n",
       "                        <td id=\"T_9605b_row2_col3\" class=\"data row2 col3\" >268</td>\n",
       "                        <td id=\"T_9605b_row2_col4\" class=\"data row2 col4\" >53.60%</td>\n",
       "            </tr>\n",
       "            <tr>\n",
       "                        <th id=\"T_9605b_level0_row3\" class=\"row_heading level0 row3\" >3</th>\n",
       "                        <td id=\"T_9605b_row3_col0\" class=\"data row3 col0\" >above 65</td>\n",
       "                        <td id=\"T_9605b_row3_col1\" class=\"data row3 col1\" >81</td>\n",
       "                        <td id=\"T_9605b_row3_col2\" class=\"data row3 col2\" >16.20%</td>\n",
       "                        <td id=\"T_9605b_row3_col3\" class=\"data row3 col3\" >349</td>\n",
       "                        <td id=\"T_9605b_row3_col4\" class=\"data row3 col4\" >69.80%</td>\n",
       "            </tr>\n",
       "            <tr>\n",
       "                        <th id=\"T_9605b_level0_row4\" class=\"row_heading level0 row4\" >4</th>\n",
       "                        <td id=\"T_9605b_row4_col0\" class=\"data row4 col0\" >36-45</td>\n",
       "                        <td id=\"T_9605b_row4_col1\" class=\"data row4 col1\" >78</td>\n",
       "                        <td id=\"T_9605b_row4_col2\" class=\"data row4 col2\" >15.60%</td>\n",
       "                        <td id=\"T_9605b_row4_col3\" class=\"data row4 col3\" >427</td>\n",
       "                        <td id=\"T_9605b_row4_col4\" class=\"data row4 col4\" >85.40%</td>\n",
       "            </tr>\n",
       "            <tr>\n",
       "                        <th id=\"T_9605b_level0_row5\" class=\"row_heading level0 row5\" >5</th>\n",
       "                        <td id=\"T_9605b_row5_col0\" class=\"data row5 col0\" >up to 25</td>\n",
       "                        <td id=\"T_9605b_row5_col1\" class=\"data row5 col1\" >73</td>\n",
       "                        <td id=\"T_9605b_row5_col2\" class=\"data row5 col2\" >14.60%</td>\n",
       "                        <td id=\"T_9605b_row5_col3\" class=\"data row5 col3\" >500</td>\n",
       "                        <td id=\"T_9605b_row5_col4\" class=\"data row5 col4\" >100.00%</td>\n",
       "            </tr>\n",
       "    </tbody></table>"
      ],
      "text/plain": [
       "<pandas.io.formats.style.Styler at 0x2551941fa60>"
      ]
     },
     "execution_count": 11,
     "metadata": {},
     "output_type": "execute_result"
    },
    {
     "name": "stdout",
     "output_type": "stream",
     "text": [
      "-----------------------------------------------------------\n"
     ]
    }
   ],
   "source": [
    "# let's make age categories\n",
    "\n",
    "def age_group(age):\n",
    "    if age <= 25:\n",
    "        return 'up to 25'\n",
    "    if age <= 35:\n",
    "        return '26-35'\n",
    "    if age <= 45:\n",
    "        return '36-45'\n",
    "    if age <= 55:\n",
    "        return '46-55'\n",
    "    if age <= 65:\n",
    "        return '56-65'\n",
    "    if age > 65:\n",
    "        return 'above 65'\n",
    "\n",
    "# add a new column to data with age categories respectively\n",
    "users['age_group'] = users.age.apply(age_group)\n",
    "\n",
    "# let's print separate data of the ultimate plan, the surf plan, and the general\n",
    "print()\n",
    "print('Ultimate plan')\n",
    "users.query('plan == \"ultimate\"').stb.freq(['age_group'], style = True)\n",
    "print('-----------------------------------------------------------')\n",
    "print('Surf plan')\n",
    "users.query('plan == \"surf\"').stb.freq(['age_group'], style = True)\n",
    "print('-----------------------------------------------------------')\n",
    "print('General')\n",
    "users.stb.freq(['age_group'], style = True)\n",
    "print('-----------------------------------------------------------')\n",
    "\n"
   ]
  },
  {
   "cell_type": "markdown",
   "metadata": {},
   "source": [
    "What do we see?\\\n",
    "**Ultimate plan**: main consumers aged 46 to 75 years. This can be explained by both the higher cost of the plan and the consumer habits of customers. The older generation is used to calling and texting more; at the time of the formation of their consumer taste, the Internet was not very good.\\\n",
    "**Plan surf**: the main group was users from 26 to 35 years old. But the same terrible age group from 46 to 75 went further. The lower price attracts almost everyone.\\\n",
    "!But\\\n",
    "The loss of the age group of 36-45 years looks strange. It is poorly represented in both tariff plans, and I cannot understand the reason.\n",
    "\n",
    "Next - let's look at the year of registration."
   ]
  },
  {
   "cell_type": "code",
   "execution_count": 12,
   "metadata": {},
   "outputs": [
    {
     "data": {
      "text/plain": [
       "500"
      ]
     },
     "execution_count": 12,
     "metadata": {},
     "output_type": "execute_result"
    }
   ],
   "source": [
    "# For simplicity, I will check how many clients registered in 2018\n",
    "\n",
    "len(users[users.reg_date.str.contains(pat = '2018')])"
   ]
  },
  {
   "cell_type": "markdown",
   "metadata": {},
   "source": [
    "Ha, all of them registered at 2018. As this representative sample, it means all of them to have one year term. For this reason, I just add 1 year for the date of registration, when filling column churn_date.\\\n",
    "Piece of cake.\n",
    "\n",
    "It remains to check for duplicates."
   ]
  },
  {
   "cell_type": "code",
   "execution_count": 13,
   "metadata": {
    "scrolled": true
   },
   "outputs": [
    {
     "data": {
      "text/plain": [
       "0"
      ]
     },
     "execution_count": 13,
     "metadata": {},
     "output_type": "execute_result"
    }
   ],
   "source": [
    "# well, now check the duplicates in data\n",
    "\n",
    "users.duplicated().sum()"
   ]
  },
  {
   "cell_type": "code",
   "execution_count": 14,
   "metadata": {
    "scrolled": false
   },
   "outputs": [
    {
     "data": {
      "text/plain": [
       "array(['Albany-Schenectady-Troy, NY MSA', 'Albuquerque, NM MSA',\n",
       "       'Atlanta-Sandy Springs-Roswell, GA MSA',\n",
       "       'Austin-Round Rock-Georgetown, TX MSA', 'Bakersfield, CA MSA',\n",
       "       'Baltimore-Columbia-Towson, MD MSA', 'Baton Rouge, LA MSA',\n",
       "       'Birmingham-Hoover, AL MSA', 'Boston-Cambridge-Newton, MA-NH MSA',\n",
       "       'Bridgeport-Stamford-Norwalk, CT MSA',\n",
       "       'Buffalo-Cheektowaga, NY MSA', 'Cape Coral-Fort Myers, FL MSA',\n",
       "       'Charleston-North Charleston, SC MSA',\n",
       "       'Charlotte-Concord-Gastonia, NC-SC MSA',\n",
       "       'Chicago-Naperville-Elgin, IL-IN-WI MSA',\n",
       "       'Cincinnati, OH-KY-IN MSA', 'Cleveland-Elyria, OH MSA',\n",
       "       'Colorado Springs, CO MSA', 'Columbia, SC MSA', 'Columbus, OH MSA',\n",
       "       'Dallas-Fort Worth-Arlington, TX MSA', 'Dayton-Kettering, OH MSA',\n",
       "       'Denver-Aurora-Lakewood, CO MSA',\n",
       "       'Detroit-Warren-Dearborn, MI MSA', 'El Paso, TX MSA',\n",
       "       'Fresno, CA MSA', 'Grand Rapids-Kentwood, MI MSA',\n",
       "       'Greensboro-High Point, NC MSA',\n",
       "       'Houston-The Woodlands-Sugar Land, TX MSA',\n",
       "       'Indianapolis-Carmel-Anderson, IN MSA', 'Jacksonville, FL MSA',\n",
       "       'Kansas City, MO-KS MSA', 'Knoxville, TN MSA',\n",
       "       'Las Vegas-Henderson-Paradise, NV MSA',\n",
       "       'Los Angeles-Long Beach-Anaheim, CA MSA',\n",
       "       'Louisville/Jefferson County, KY-IN MSA', 'Memphis, TN-MS-AR MSA',\n",
       "       'Miami-Fort Lauderdale-West Palm Beach, FL MSA',\n",
       "       'Milwaukee-Waukesha, WI MSA',\n",
       "       'Minneapolis-St. Paul-Bloomington, MN-WI MSA',\n",
       "       'Nashville-Davidson–Murfreesboro–Franklin, TN MSA',\n",
       "       'New Haven-Milford, CT MSA', 'New Orleans-Metairie, LA MSA',\n",
       "       'New York-Newark-Jersey City, NY-NJ-PA MSA',\n",
       "       'North Port-Sarasota-Bradenton, FL MSA', 'Oklahoma City, OK MSA',\n",
       "       'Omaha-Council Bluffs, NE-IA MSA',\n",
       "       'Orlando-Kissimmee-Sanford, FL MSA',\n",
       "       'Oxnard-Thousand Oaks-Ventura, CA MSA',\n",
       "       'Philadelphia-Camden-Wilmington, PA-NJ-DE-MD MSA',\n",
       "       'Phoenix-Mesa-Chandler, AZ MSA', 'Pittsburgh, PA MSA',\n",
       "       'Portland-Vancouver-Hillsboro, OR-WA MSA',\n",
       "       'Providence-Warwick, RI-MA MSA', 'Raleigh-Cary, NC MSA',\n",
       "       'Richmond, VA MSA', 'Riverside-San Bernardino-Ontario, CA MSA',\n",
       "       'Rochester, NY MSA', 'Sacramento–Roseville–Folsom, CA MSA',\n",
       "       'Salt Lake City, UT MSA', 'San Antonio-New Braunfels, TX MSA',\n",
       "       'San Diego-Chula Vista-Carlsbad, CA MSA',\n",
       "       'San Francisco-Oakland-Berkeley, CA MSA',\n",
       "       'San Jose-Sunnyvale-Santa Clara, CA MSA',\n",
       "       'Seattle-Tacoma-Bellevue, WA MSA', 'St. Louis, MO-IL MSA',\n",
       "       'Stockton, CA MSA', 'Tampa-St. Petersburg-Clearwater, FL MSA',\n",
       "       'Tucson, AZ MSA', 'Tulsa, OK MSA', 'Urban Honolulu, HI MSA',\n",
       "       'Virginia Beach-Norfolk-Newport News, VA-NC MSA',\n",
       "       'Washington-Arlington-Alexandria, DC-VA-MD-WV MSA'], dtype=object)"
      ]
     },
     "execution_count": 14,
     "metadata": {},
     "output_type": "execute_result"
    }
   ],
   "source": [
    "# and check implicity duplicates in column city\n",
    "\n",
    "np.sort(users.city.unique())"
   ]
  },
  {
   "cell_type": "code",
   "execution_count": 15,
   "metadata": {
    "scrolled": false
   },
   "outputs": [
    {
     "data": {
      "text/html": [
       "<div>\n",
       "<style scoped>\n",
       "    .dataframe tbody tr th:only-of-type {\n",
       "        vertical-align: middle;\n",
       "    }\n",
       "\n",
       "    .dataframe tbody tr th {\n",
       "        vertical-align: top;\n",
       "    }\n",
       "\n",
       "    .dataframe thead th {\n",
       "        text-align: right;\n",
       "    }\n",
       "</style>\n",
       "<table border=\"1\" class=\"dataframe\">\n",
       "  <thead>\n",
       "    <tr style=\"text-align: right;\">\n",
       "      <th></th>\n",
       "      <th>user_id</th>\n",
       "      <th>first_name</th>\n",
       "      <th>last_name</th>\n",
       "      <th>age</th>\n",
       "      <th>age_group</th>\n",
       "      <th>city</th>\n",
       "      <th>reg_date</th>\n",
       "      <th>plan</th>\n",
       "      <th>churn_date</th>\n",
       "    </tr>\n",
       "  </thead>\n",
       "  <tbody>\n",
       "    <tr>\n",
       "      <th>0</th>\n",
       "      <td>1000</td>\n",
       "      <td>Anamaria</td>\n",
       "      <td>Bauer</td>\n",
       "      <td>45</td>\n",
       "      <td>36-45</td>\n",
       "      <td>Atlanta-Sandy Springs-Roswell, GA MSA</td>\n",
       "      <td>2018-12-24</td>\n",
       "      <td>ultimate</td>\n",
       "      <td>NaN</td>\n",
       "    </tr>\n",
       "    <tr>\n",
       "      <th>1</th>\n",
       "      <td>1001</td>\n",
       "      <td>Mickey</td>\n",
       "      <td>Wilkerson</td>\n",
       "      <td>28</td>\n",
       "      <td>26-35</td>\n",
       "      <td>Seattle-Tacoma-Bellevue, WA MSA</td>\n",
       "      <td>2018-08-13</td>\n",
       "      <td>surf</td>\n",
       "      <td>NaN</td>\n",
       "    </tr>\n",
       "    <tr>\n",
       "      <th>2</th>\n",
       "      <td>1002</td>\n",
       "      <td>Carlee</td>\n",
       "      <td>Hoffman</td>\n",
       "      <td>36</td>\n",
       "      <td>36-45</td>\n",
       "      <td>Las Vegas-Henderson-Paradise, NV MSA</td>\n",
       "      <td>2018-10-21</td>\n",
       "      <td>surf</td>\n",
       "      <td>NaN</td>\n",
       "    </tr>\n",
       "    <tr>\n",
       "      <th>3</th>\n",
       "      <td>1003</td>\n",
       "      <td>Reynaldo</td>\n",
       "      <td>Jenkins</td>\n",
       "      <td>52</td>\n",
       "      <td>46-55</td>\n",
       "      <td>Tulsa, OK MSA</td>\n",
       "      <td>2018-01-28</td>\n",
       "      <td>surf</td>\n",
       "      <td>NaN</td>\n",
       "    </tr>\n",
       "    <tr>\n",
       "      <th>4</th>\n",
       "      <td>1004</td>\n",
       "      <td>Leonila</td>\n",
       "      <td>Thompson</td>\n",
       "      <td>40</td>\n",
       "      <td>36-45</td>\n",
       "      <td>Seattle-Tacoma-Bellevue, WA MSA</td>\n",
       "      <td>2018-05-23</td>\n",
       "      <td>surf</td>\n",
       "      <td>NaN</td>\n",
       "    </tr>\n",
       "  </tbody>\n",
       "</table>\n",
       "</div>"
      ],
      "text/plain": [
       "   user_id first_name  last_name  age age_group  \\\n",
       "0     1000   Anamaria      Bauer   45     36-45   \n",
       "1     1001     Mickey  Wilkerson   28     26-35   \n",
       "2     1002     Carlee    Hoffman   36     36-45   \n",
       "3     1003   Reynaldo    Jenkins   52     46-55   \n",
       "4     1004    Leonila   Thompson   40     36-45   \n",
       "\n",
       "                                    city    reg_date      plan churn_date  \n",
       "0  Atlanta-Sandy Springs-Roswell, GA MSA  2018-12-24  ultimate        NaN  \n",
       "1        Seattle-Tacoma-Bellevue, WA MSA  2018-08-13      surf        NaN  \n",
       "2   Las Vegas-Henderson-Paradise, NV MSA  2018-10-21      surf        NaN  \n",
       "3                          Tulsa, OK MSA  2018-01-28      surf        NaN  \n",
       "4        Seattle-Tacoma-Bellevue, WA MSA  2018-05-23      surf        NaN  "
      ]
     },
     "execution_count": 15,
     "metadata": {},
     "output_type": "execute_result"
    }
   ],
   "source": [
    "users = users.reindex(columns = ['user_id', 'first_name', 'last_name', 'age', 'age_group','city',  'reg_date', 'plan', 'churn_date'])\n",
    "users.head()"
   ]
  },
  {
   "cell_type": "markdown",
   "metadata": {},
   "source": [
    "Well, what story do our users tell us?\n",
    "\n",
    "Our clients range from 18 to 75 years old and the median age was 46.\\\n",
    "About 32% of them prefer the more expensive **ultimate** plan, with people aged 46 to 75 more likely to opt for it. This can be explained by the fact that these are often already established people with a good income.\\\n",
    "A more affordable **surf** package is preferred by the remaining 68% of customers, and it is most often chosen by young people aged 26 to 35. This is also intuitive, given that at this age people are just starting to build a career, and the issue of finance is acute.\\\n",
    "In general, it looks like the company is more busy attracting new customers than retaining old ones. Judge for yourself: we start with the smallest age group (up to 25), after a breakthrough to the largest (26-35), then fall to the second from the end of the group (36-45), growth again in the next group (46-55) and then smooth decline. In theory, clients should have flowed smoothly from one group to another, and not show gaps of 4 -5%.\n"
   ]
  },
  {
   "cell_type": "markdown",
   "metadata": {},
   "source": [
    " "
   ]
  },
  {
   "cell_type": "markdown",
   "metadata": {},
   "source": [
    "### Fix Data"
   ]
  },
  {
   "cell_type": "markdown",
   "metadata": {},
   "source": [
    "We have a problem with the data type of reg_date and churn_date. Also, I want to fill missing values in churn_date."
   ]
  },
  {
   "cell_type": "code",
   "execution_count": 16,
   "metadata": {},
   "outputs": [],
   "source": [
    "#let's change the data type\n",
    "users.reg_date = pd.to_datetime(users.reg_date, format = '%Y-%m-%d')\n",
    "users.churn_date = pd.to_datetime(users.churn_date, format = '%Y-%m-%d')\n",
    "\n",
    "#now I'll fill in the missing values\n",
    "\n",
    "for row in users:\n",
    "    users.loc[users.churn_date.isna(), 'churn_date'] = users.loc[users.churn_date.isna(), 'reg_date'] + timedelta(days = 365)\n"
   ]
  },
  {
   "cell_type": "markdown",
   "metadata": {},
   "source": [
    "Additionally, I'll add a few dictionaries for simplificient next work with data."
   ]
  },
  {
   "cell_type": "code",
   "execution_count": 17,
   "metadata": {
    "scrolled": false
   },
   "outputs": [],
   "source": [
    "# let's create a few dictionarys with name of plan and with churn date\n",
    "\n",
    "users_dictionary = dict(zip(users.user_id, users.plan))\n",
    "users_churn_dictionary = dict(zip(users.user_id, users.churn_date))\n",
    "plans_dictionary = {'surf': 1, 'ultimate': 2}"
   ]
  },
  {
   "cell_type": "markdown",
   "metadata": {},
   "source": [
    "## Calls"
   ]
  },
  {
   "cell_type": "code",
   "execution_count": 18,
   "metadata": {},
   "outputs": [
    {
     "data": {
      "text/html": [
       "<div>\n",
       "<style scoped>\n",
       "    .dataframe tbody tr th:only-of-type {\n",
       "        vertical-align: middle;\n",
       "    }\n",
       "\n",
       "    .dataframe tbody tr th {\n",
       "        vertical-align: top;\n",
       "    }\n",
       "\n",
       "    .dataframe thead th {\n",
       "        text-align: right;\n",
       "    }\n",
       "</style>\n",
       "<table border=\"1\" class=\"dataframe\">\n",
       "  <thead>\n",
       "    <tr style=\"text-align: right;\">\n",
       "      <th></th>\n",
       "      <th>count</th>\n",
       "      <th>mean</th>\n",
       "      <th>std</th>\n",
       "      <th>min</th>\n",
       "      <th>25%</th>\n",
       "      <th>50%</th>\n",
       "      <th>75%</th>\n",
       "      <th>max</th>\n",
       "    </tr>\n",
       "  </thead>\n",
       "  <tbody>\n",
       "    <tr>\n",
       "      <th>user_id</th>\n",
       "      <td>137735.0</td>\n",
       "      <td>1247.658046</td>\n",
       "      <td>139.416268</td>\n",
       "      <td>1000.0</td>\n",
       "      <td>1128.00</td>\n",
       "      <td>1247.00</td>\n",
       "      <td>1365.00</td>\n",
       "      <td>1499.0</td>\n",
       "    </tr>\n",
       "    <tr>\n",
       "      <th>duration</th>\n",
       "      <td>137735.0</td>\n",
       "      <td>6.745927</td>\n",
       "      <td>5.839241</td>\n",
       "      <td>0.0</td>\n",
       "      <td>1.29</td>\n",
       "      <td>5.98</td>\n",
       "      <td>10.69</td>\n",
       "      <td>37.6</td>\n",
       "    </tr>\n",
       "  </tbody>\n",
       "</table>\n",
       "</div>"
      ],
      "text/plain": [
       "             count         mean         std     min      25%      50%  \\\n",
       "user_id   137735.0  1247.658046  139.416268  1000.0  1128.00  1247.00   \n",
       "duration  137735.0     6.745927    5.839241     0.0     1.29     5.98   \n",
       "\n",
       "              75%     max  \n",
       "user_id   1365.00  1499.0  \n",
       "duration    10.69    37.6  "
      ]
     },
     "execution_count": 18,
     "metadata": {},
     "output_type": "execute_result"
    },
    {
     "data": {
      "text/html": [
       "<div>\n",
       "<style scoped>\n",
       "    .dataframe tbody tr th:only-of-type {\n",
       "        vertical-align: middle;\n",
       "    }\n",
       "\n",
       "    .dataframe tbody tr th {\n",
       "        vertical-align: top;\n",
       "    }\n",
       "\n",
       "    .dataframe thead th {\n",
       "        text-align: right;\n",
       "    }\n",
       "</style>\n",
       "<table border=\"1\" class=\"dataframe\">\n",
       "  <thead>\n",
       "    <tr style=\"text-align: right;\">\n",
       "      <th></th>\n",
       "      <th>count</th>\n",
       "      <th>unique</th>\n",
       "      <th>top</th>\n",
       "      <th>freq</th>\n",
       "    </tr>\n",
       "  </thead>\n",
       "  <tbody>\n",
       "    <tr>\n",
       "      <th>id</th>\n",
       "      <td>137735</td>\n",
       "      <td>137735</td>\n",
       "      <td>1151_51</td>\n",
       "      <td>1</td>\n",
       "    </tr>\n",
       "    <tr>\n",
       "      <th>call_date</th>\n",
       "      <td>137735</td>\n",
       "      <td>351</td>\n",
       "      <td>2018-12-27</td>\n",
       "      <td>1091</td>\n",
       "    </tr>\n",
       "  </tbody>\n",
       "</table>\n",
       "</div>"
      ],
      "text/plain": [
       "            count  unique         top  freq\n",
       "id         137735  137735     1151_51     1\n",
       "call_date  137735     351  2018-12-27  1091"
      ]
     },
     "execution_count": 18,
     "metadata": {},
     "output_type": "execute_result"
    },
    {
     "data": {
      "text/plain": [
       "count     481.000000\n",
       "mean      286.351351\n",
       "std       238.182107\n",
       "min         2.000000\n",
       "25%       108.000000\n",
       "50%       216.000000\n",
       "75%       413.000000\n",
       "max      1300.000000\n",
       "Name: id, dtype: float64"
      ]
     },
     "execution_count": 18,
     "metadata": {},
     "output_type": "execute_result"
    }
   ],
   "source": [
    "# Print the general/summary information about the calls' DataFrame\n",
    "\n",
    "calls.describe().T\n",
    "calls.describe(include = 'object').T\n",
    "calls.groupby('user_id')['id'].count().describe().T"
   ]
  },
  {
   "cell_type": "code",
   "execution_count": 19,
   "metadata": {
    "scrolled": false
   },
   "outputs": [
    {
     "data": {
      "text/html": [
       "<div>\n",
       "<style scoped>\n",
       "    .dataframe tbody tr th:only-of-type {\n",
       "        vertical-align: middle;\n",
       "    }\n",
       "\n",
       "    .dataframe tbody tr th {\n",
       "        vertical-align: top;\n",
       "    }\n",
       "\n",
       "    .dataframe thead th {\n",
       "        text-align: right;\n",
       "    }\n",
       "</style>\n",
       "<table border=\"1\" class=\"dataframe\">\n",
       "  <thead>\n",
       "    <tr style=\"text-align: right;\">\n",
       "      <th></th>\n",
       "      <th>id</th>\n",
       "      <th>user_id</th>\n",
       "      <th>call_date</th>\n",
       "      <th>duration</th>\n",
       "    </tr>\n",
       "  </thead>\n",
       "  <tbody>\n",
       "    <tr>\n",
       "      <th>0</th>\n",
       "      <td>1000_93</td>\n",
       "      <td>1000</td>\n",
       "      <td>2018-12-27</td>\n",
       "      <td>8.52</td>\n",
       "    </tr>\n",
       "    <tr>\n",
       "      <th>1</th>\n",
       "      <td>1000_145</td>\n",
       "      <td>1000</td>\n",
       "      <td>2018-12-27</td>\n",
       "      <td>13.66</td>\n",
       "    </tr>\n",
       "    <tr>\n",
       "      <th>2</th>\n",
       "      <td>1000_247</td>\n",
       "      <td>1000</td>\n",
       "      <td>2018-12-27</td>\n",
       "      <td>14.48</td>\n",
       "    </tr>\n",
       "    <tr>\n",
       "      <th>3</th>\n",
       "      <td>1000_309</td>\n",
       "      <td>1000</td>\n",
       "      <td>2018-12-28</td>\n",
       "      <td>5.76</td>\n",
       "    </tr>\n",
       "    <tr>\n",
       "      <th>4</th>\n",
       "      <td>1000_380</td>\n",
       "      <td>1000</td>\n",
       "      <td>2018-12-30</td>\n",
       "      <td>4.22</td>\n",
       "    </tr>\n",
       "  </tbody>\n",
       "</table>\n",
       "</div>"
      ],
      "text/plain": [
       "         id  user_id   call_date  duration\n",
       "0   1000_93     1000  2018-12-27      8.52\n",
       "1  1000_145     1000  2018-12-27     13.66\n",
       "2  1000_247     1000  2018-12-27     14.48\n",
       "3  1000_309     1000  2018-12-28      5.76\n",
       "4  1000_380     1000  2018-12-30      4.22"
      ]
     },
     "execution_count": 19,
     "metadata": {},
     "output_type": "execute_result"
    }
   ],
   "source": [
    "# Print a sample of data for calls\n",
    "\n",
    "calls.head()"
   ]
  },
  {
   "cell_type": "markdown",
   "metadata": {},
   "source": [
    "Now, let's check: the clients who churned the plan changed the plan or left our company.\\\n",
    "For this - I'll print the clients with the earliest churn date, and check if he has called after the period of the plan. "
   ]
  },
  {
   "cell_type": "code",
   "execution_count": 20,
   "metadata": {},
   "outputs": [
    {
     "data": {
      "text/html": [
       "<div>\n",
       "<style scoped>\n",
       "    .dataframe tbody tr th:only-of-type {\n",
       "        vertical-align: middle;\n",
       "    }\n",
       "\n",
       "    .dataframe tbody tr th {\n",
       "        vertical-align: top;\n",
       "    }\n",
       "\n",
       "    .dataframe thead th {\n",
       "        text-align: right;\n",
       "    }\n",
       "</style>\n",
       "<table border=\"1\" class=\"dataframe\">\n",
       "  <thead>\n",
       "    <tr style=\"text-align: right;\">\n",
       "      <th></th>\n",
       "      <th>user_id</th>\n",
       "      <th>first_name</th>\n",
       "      <th>last_name</th>\n",
       "      <th>age</th>\n",
       "      <th>age_group</th>\n",
       "      <th>city</th>\n",
       "      <th>reg_date</th>\n",
       "      <th>plan</th>\n",
       "      <th>churn_date</th>\n",
       "    </tr>\n",
       "  </thead>\n",
       "  <tbody>\n",
       "    <tr>\n",
       "      <th>246</th>\n",
       "      <td>1246</td>\n",
       "      <td>Stevie</td>\n",
       "      <td>Moran</td>\n",
       "      <td>69</td>\n",
       "      <td>above 65</td>\n",
       "      <td>Tampa-St. Petersburg-Clearwater, FL MSA</td>\n",
       "      <td>2018-01-09</td>\n",
       "      <td>ultimate</td>\n",
       "      <td>2018-07-31</td>\n",
       "    </tr>\n",
       "  </tbody>\n",
       "</table>\n",
       "</div>"
      ],
      "text/plain": [
       "     user_id first_name last_name  age age_group  \\\n",
       "246     1246     Stevie     Moran   69  above 65   \n",
       "\n",
       "                                        city   reg_date      plan churn_date  \n",
       "246  Tampa-St. Petersburg-Clearwater, FL MSA 2018-01-09  ultimate 2018-07-31  "
      ]
     },
     "execution_count": 20,
     "metadata": {},
     "output_type": "execute_result"
    },
    {
     "data": {
      "text/html": [
       "<div>\n",
       "<style scoped>\n",
       "    .dataframe tbody tr th:only-of-type {\n",
       "        vertical-align: middle;\n",
       "    }\n",
       "\n",
       "    .dataframe tbody tr th {\n",
       "        vertical-align: top;\n",
       "    }\n",
       "\n",
       "    .dataframe thead th {\n",
       "        text-align: right;\n",
       "    }\n",
       "</style>\n",
       "<table border=\"1\" class=\"dataframe\">\n",
       "  <thead>\n",
       "    <tr style=\"text-align: right;\">\n",
       "      <th></th>\n",
       "      <th>id</th>\n",
       "      <th>user_id</th>\n",
       "      <th>call_date</th>\n",
       "      <th>duration</th>\n",
       "    </tr>\n",
       "  </thead>\n",
       "  <tbody>\n",
       "    <tr>\n",
       "      <th>67981</th>\n",
       "      <td>1246_0</td>\n",
       "      <td>1246</td>\n",
       "      <td>2018-08-24</td>\n",
       "      <td>9.03</td>\n",
       "    </tr>\n",
       "    <tr>\n",
       "      <th>67982</th>\n",
       "      <td>1246_1</td>\n",
       "      <td>1246</td>\n",
       "      <td>2018-08-11</td>\n",
       "      <td>20.89</td>\n",
       "    </tr>\n",
       "    <tr>\n",
       "      <th>67985</th>\n",
       "      <td>1246_4</td>\n",
       "      <td>1246</td>\n",
       "      <td>2018-08-11</td>\n",
       "      <td>13.18</td>\n",
       "    </tr>\n",
       "    <tr>\n",
       "      <th>67992</th>\n",
       "      <td>1246_11</td>\n",
       "      <td>1246</td>\n",
       "      <td>2018-08-12</td>\n",
       "      <td>15.27</td>\n",
       "    </tr>\n",
       "    <tr>\n",
       "      <th>68009</th>\n",
       "      <td>1246_28</td>\n",
       "      <td>1246</td>\n",
       "      <td>2018-08-31</td>\n",
       "      <td>2.25</td>\n",
       "    </tr>\n",
       "    <tr>\n",
       "      <th>...</th>\n",
       "      <td>...</td>\n",
       "      <td>...</td>\n",
       "      <td>...</td>\n",
       "      <td>...</td>\n",
       "    </tr>\n",
       "    <tr>\n",
       "      <th>68656</th>\n",
       "      <td>1246_675</td>\n",
       "      <td>1246</td>\n",
       "      <td>2018-08-08</td>\n",
       "      <td>0.00</td>\n",
       "    </tr>\n",
       "    <tr>\n",
       "      <th>68657</th>\n",
       "      <td>1246_676</td>\n",
       "      <td>1246</td>\n",
       "      <td>2018-08-03</td>\n",
       "      <td>13.27</td>\n",
       "    </tr>\n",
       "    <tr>\n",
       "      <th>68660</th>\n",
       "      <td>1246_679</td>\n",
       "      <td>1246</td>\n",
       "      <td>2018-08-16</td>\n",
       "      <td>6.61</td>\n",
       "    </tr>\n",
       "    <tr>\n",
       "      <th>68662</th>\n",
       "      <td>1246_681</td>\n",
       "      <td>1246</td>\n",
       "      <td>2018-08-06</td>\n",
       "      <td>0.00</td>\n",
       "    </tr>\n",
       "    <tr>\n",
       "      <th>68665</th>\n",
       "      <td>1246_684</td>\n",
       "      <td>1246</td>\n",
       "      <td>2018-08-29</td>\n",
       "      <td>5.87</td>\n",
       "    </tr>\n",
       "  </tbody>\n",
       "</table>\n",
       "<p>136 rows × 4 columns</p>\n",
       "</div>"
      ],
      "text/plain": [
       "             id  user_id   call_date  duration\n",
       "67981    1246_0     1246  2018-08-24      9.03\n",
       "67982    1246_1     1246  2018-08-11     20.89\n",
       "67985    1246_4     1246  2018-08-11     13.18\n",
       "67992   1246_11     1246  2018-08-12     15.27\n",
       "68009   1246_28     1246  2018-08-31      2.25\n",
       "...         ...      ...         ...       ...\n",
       "68656  1246_675     1246  2018-08-08      0.00\n",
       "68657  1246_676     1246  2018-08-03     13.27\n",
       "68660  1246_679     1246  2018-08-16      6.61\n",
       "68662  1246_681     1246  2018-08-06      0.00\n",
       "68665  1246_684     1246  2018-08-29      5.87\n",
       "\n",
       "[136 rows x 4 columns]"
      ]
     },
     "execution_count": 20,
     "metadata": {},
     "output_type": "execute_result"
    }
   ],
   "source": [
    "# let's print the client with the earliest churn date\n",
    "users.query('churn_date < \"2019-01-01\"').sort_values(by = ['churn_date']).head(1)\n",
    "\n",
    "\n",
    "# let's check has the client 1246 called after the period of the plan.\n",
    "calls.query('user_id == 1246 & (\"2018-01-09\" > call_date | call_date > \"2018-07-31\")')\n"
   ]
  },
  {
   "cell_type": "markdown",
   "metadata": {},
   "source": [
    "So.\\\n",
    "On average, customers spent 6.75 minutes talking, with a median of 5.98. We can see that the maximum call duration was 37.6 minutes, which is clearly an outlier.\\\n",
    "The check showed that the client with ID 1246 made calls after the outflow date (136 observations and most are greater than 0), which means that he switched to another plan, and did not completely leave the company. It's a good news.\n",
    "\n",
    "Next, I plan to correct the data type for the calls_date column and round the value to an integer in the duration column."
   ]
  },
  {
   "cell_type": "markdown",
   "metadata": {},
   "source": [
    " "
   ]
  },
  {
   "cell_type": "markdown",
   "metadata": {},
   "source": [
    "### Fix data"
   ]
  },
  {
   "cell_type": "code",
   "execution_count": 21,
   "metadata": {},
   "outputs": [
    {
     "name": "stdout",
     "output_type": "stream",
     "text": [
      "<class 'pandas.core.frame.DataFrame'>\n",
      "RangeIndex: 137735 entries, 0 to 137734\n",
      "Data columns (total 4 columns):\n",
      " #   Column     Non-Null Count   Dtype         \n",
      "---  ------     --------------   -----         \n",
      " 0   id         137735 non-null  object        \n",
      " 1   user_id    137735 non-null  int64         \n",
      " 2   call_date  137735 non-null  datetime64[ns]\n",
      " 3   duration   137735 non-null  int32         \n",
      "dtypes: datetime64[ns](1), int32(1), int64(1), object(1)\n",
      "memory usage: 3.7+ MB\n"
     ]
    }
   ],
   "source": [
    "# at first - change the data type for call_date\n",
    "calls.call_date = pd.to_datetime(calls.call_date, format = '%Y-%m-%d')\n",
    "\n",
    "# now, rounding the duration of calls to integer minutes\n",
    "calls['duration'] = np.ceil(calls['duration']).astype('int')\n",
    "#calls.duration = [math.ceil(number) for number in calls.duration]\n",
    "calls.info()"
   ]
  },
  {
   "cell_type": "markdown",
   "metadata": {},
   "source": [
    "### Enrich data"
   ]
  },
  {
   "cell_type": "markdown",
   "metadata": {},
   "source": [
    "We figured out the data type, the duration of the calls was rounded to the nearest integer.\\\n",
    "Now I want to add a month column and also fix the plan name in positions where the call date is greater than the churn date."
   ]
  },
  {
   "cell_type": "code",
   "execution_count": 22,
   "metadata": {
    "scrolled": true
   },
   "outputs": [
    {
     "data": {
      "text/html": [
       "<div>\n",
       "<style scoped>\n",
       "    .dataframe tbody tr th:only-of-type {\n",
       "        vertical-align: middle;\n",
       "    }\n",
       "\n",
       "    .dataframe tbody tr th {\n",
       "        vertical-align: top;\n",
       "    }\n",
       "\n",
       "    .dataframe thead th {\n",
       "        text-align: right;\n",
       "    }\n",
       "</style>\n",
       "<table border=\"1\" class=\"dataframe\">\n",
       "  <thead>\n",
       "    <tr style=\"text-align: right;\">\n",
       "      <th></th>\n",
       "      <th>id</th>\n",
       "      <th>user_id</th>\n",
       "      <th>call_date</th>\n",
       "      <th>duration</th>\n",
       "      <th>month</th>\n",
       "      <th>plan</th>\n",
       "      <th>churn_date</th>\n",
       "    </tr>\n",
       "  </thead>\n",
       "  <tbody>\n",
       "    <tr>\n",
       "      <th>67981</th>\n",
       "      <td>1246_0</td>\n",
       "      <td>1246</td>\n",
       "      <td>2018-08-24</td>\n",
       "      <td>10</td>\n",
       "      <td>8</td>\n",
       "      <td>ultimate</td>\n",
       "      <td>2018-07-31</td>\n",
       "    </tr>\n",
       "    <tr>\n",
       "      <th>67982</th>\n",
       "      <td>1246_1</td>\n",
       "      <td>1246</td>\n",
       "      <td>2018-08-11</td>\n",
       "      <td>21</td>\n",
       "      <td>8</td>\n",
       "      <td>ultimate</td>\n",
       "      <td>2018-07-31</td>\n",
       "    </tr>\n",
       "    <tr>\n",
       "      <th>67983</th>\n",
       "      <td>1246_2</td>\n",
       "      <td>1246</td>\n",
       "      <td>2018-07-14</td>\n",
       "      <td>4</td>\n",
       "      <td>7</td>\n",
       "      <td>ultimate</td>\n",
       "      <td>2018-07-31</td>\n",
       "    </tr>\n",
       "    <tr>\n",
       "      <th>67984</th>\n",
       "      <td>1246_3</td>\n",
       "      <td>1246</td>\n",
       "      <td>2018-05-06</td>\n",
       "      <td>0</td>\n",
       "      <td>5</td>\n",
       "      <td>ultimate</td>\n",
       "      <td>2018-07-31</td>\n",
       "    </tr>\n",
       "    <tr>\n",
       "      <th>67985</th>\n",
       "      <td>1246_4</td>\n",
       "      <td>1246</td>\n",
       "      <td>2018-08-11</td>\n",
       "      <td>14</td>\n",
       "      <td>8</td>\n",
       "      <td>ultimate</td>\n",
       "      <td>2018-07-31</td>\n",
       "    </tr>\n",
       "  </tbody>\n",
       "</table>\n",
       "</div>"
      ],
      "text/plain": [
       "           id  user_id  call_date  duration  month      plan churn_date\n",
       "67981  1246_0     1246 2018-08-24        10      8  ultimate 2018-07-31\n",
       "67982  1246_1     1246 2018-08-11        21      8  ultimate 2018-07-31\n",
       "67983  1246_2     1246 2018-07-14         4      7  ultimate 2018-07-31\n",
       "67984  1246_3     1246 2018-05-06         0      5  ultimate 2018-07-31\n",
       "67985  1246_4     1246 2018-08-11        14      8  ultimate 2018-07-31"
      ]
     },
     "execution_count": 22,
     "metadata": {},
     "output_type": "execute_result"
    },
    {
     "data": {
      "text/html": [
       "<div>\n",
       "<style scoped>\n",
       "    .dataframe tbody tr th:only-of-type {\n",
       "        vertical-align: middle;\n",
       "    }\n",
       "\n",
       "    .dataframe tbody tr th {\n",
       "        vertical-align: top;\n",
       "    }\n",
       "\n",
       "    .dataframe thead th {\n",
       "        text-align: right;\n",
       "    }\n",
       "</style>\n",
       "<table border=\"1\" class=\"dataframe\">\n",
       "  <thead>\n",
       "    <tr style=\"text-align: right;\">\n",
       "      <th></th>\n",
       "      <th>id</th>\n",
       "      <th>user_id</th>\n",
       "      <th>call_date</th>\n",
       "      <th>duration</th>\n",
       "      <th>month</th>\n",
       "      <th>plan</th>\n",
       "      <th>churn_date</th>\n",
       "    </tr>\n",
       "  </thead>\n",
       "  <tbody>\n",
       "    <tr>\n",
       "      <th>67981</th>\n",
       "      <td>1246_0</td>\n",
       "      <td>1246</td>\n",
       "      <td>2018-08-24</td>\n",
       "      <td>10</td>\n",
       "      <td>8</td>\n",
       "      <td>surf</td>\n",
       "      <td>2018-07-31</td>\n",
       "    </tr>\n",
       "    <tr>\n",
       "      <th>67982</th>\n",
       "      <td>1246_1</td>\n",
       "      <td>1246</td>\n",
       "      <td>2018-08-11</td>\n",
       "      <td>21</td>\n",
       "      <td>8</td>\n",
       "      <td>surf</td>\n",
       "      <td>2018-07-31</td>\n",
       "    </tr>\n",
       "    <tr>\n",
       "      <th>67983</th>\n",
       "      <td>1246_2</td>\n",
       "      <td>1246</td>\n",
       "      <td>2018-07-14</td>\n",
       "      <td>4</td>\n",
       "      <td>7</td>\n",
       "      <td>ultimate</td>\n",
       "      <td>2018-07-31</td>\n",
       "    </tr>\n",
       "    <tr>\n",
       "      <th>67984</th>\n",
       "      <td>1246_3</td>\n",
       "      <td>1246</td>\n",
       "      <td>2018-05-06</td>\n",
       "      <td>0</td>\n",
       "      <td>5</td>\n",
       "      <td>ultimate</td>\n",
       "      <td>2018-07-31</td>\n",
       "    </tr>\n",
       "    <tr>\n",
       "      <th>67985</th>\n",
       "      <td>1246_4</td>\n",
       "      <td>1246</td>\n",
       "      <td>2018-08-11</td>\n",
       "      <td>14</td>\n",
       "      <td>8</td>\n",
       "      <td>surf</td>\n",
       "      <td>2018-07-31</td>\n",
       "    </tr>\n",
       "  </tbody>\n",
       "</table>\n",
       "</div>"
      ],
      "text/plain": [
       "           id  user_id  call_date  duration  month      plan churn_date\n",
       "67981  1246_0     1246 2018-08-24        10      8      surf 2018-07-31\n",
       "67982  1246_1     1246 2018-08-11        21      8      surf 2018-07-31\n",
       "67983  1246_2     1246 2018-07-14         4      7  ultimate 2018-07-31\n",
       "67984  1246_3     1246 2018-05-06         0      5  ultimate 2018-07-31\n",
       "67985  1246_4     1246 2018-08-11        14      8      surf 2018-07-31"
      ]
     },
     "execution_count": 22,
     "metadata": {},
     "output_type": "execute_result"
    }
   ],
   "source": [
    "# let's get the month\n",
    "calls['month'] = calls.call_date.dt.month\n",
    "\n",
    "#let's get the plan's name and churn date new columns\n",
    "calls['plan'] = calls.user_id.map(users_dictionary)\n",
    "calls['churn_date'] = calls.user_id.map(users_churn_dictionary)\n",
    "\n",
    "# check user 1246 before I'll changing plan's name\n",
    "calls[calls['user_id'] == 1246].head()\n",
    "\n",
    "# make a mask and change plan's name\n",
    "mask_calls_ultimate = (calls.call_date > calls.churn_date) & (calls.plan == 'ultimate')\n",
    "mask_calls_surf = (calls.call_date > calls.churn_date) & (calls.plan == 'surf')\n",
    "\n",
    "calls.loc[mask_calls_ultimate, 'plan'] = 'surf'\n",
    "calls.loc[mask_calls_surf, 'plan'] = 'ultimate'\n",
    "\n",
    "# check user 1246 after I changed plan's name\n",
    "calls[calls['user_id'] == 1246].head()"
   ]
  },
  {
   "cell_type": "markdown",
   "metadata": {},
   "source": [
    "## Messages"
   ]
  },
  {
   "cell_type": "code",
   "execution_count": 23,
   "metadata": {},
   "outputs": [
    {
     "data": {
      "text/html": [
       "<div>\n",
       "<style scoped>\n",
       "    .dataframe tbody tr th:only-of-type {\n",
       "        vertical-align: middle;\n",
       "    }\n",
       "\n",
       "    .dataframe tbody tr th {\n",
       "        vertical-align: top;\n",
       "    }\n",
       "\n",
       "    .dataframe thead th {\n",
       "        text-align: right;\n",
       "    }\n",
       "</style>\n",
       "<table border=\"1\" class=\"dataframe\">\n",
       "  <thead>\n",
       "    <tr style=\"text-align: right;\">\n",
       "      <th></th>\n",
       "      <th>count</th>\n",
       "      <th>mean</th>\n",
       "      <th>std</th>\n",
       "      <th>min</th>\n",
       "      <th>25%</th>\n",
       "      <th>50%</th>\n",
       "      <th>75%</th>\n",
       "      <th>max</th>\n",
       "    </tr>\n",
       "  </thead>\n",
       "  <tbody>\n",
       "    <tr>\n",
       "      <th>user_id</th>\n",
       "      <td>76051.0</td>\n",
       "      <td>1245.972768</td>\n",
       "      <td>139.843635</td>\n",
       "      <td>1000.0</td>\n",
       "      <td>1123.0</td>\n",
       "      <td>1251.0</td>\n",
       "      <td>1362.0</td>\n",
       "      <td>1497.0</td>\n",
       "    </tr>\n",
       "  </tbody>\n",
       "</table>\n",
       "</div>"
      ],
      "text/plain": [
       "           count         mean         std     min     25%     50%     75%  \\\n",
       "user_id  76051.0  1245.972768  139.843635  1000.0  1123.0  1251.0  1362.0   \n",
       "\n",
       "            max  \n",
       "user_id  1497.0  "
      ]
     },
     "execution_count": 23,
     "metadata": {},
     "output_type": "execute_result"
    },
    {
     "data": {
      "text/html": [
       "<div>\n",
       "<style scoped>\n",
       "    .dataframe tbody tr th:only-of-type {\n",
       "        vertical-align: middle;\n",
       "    }\n",
       "\n",
       "    .dataframe tbody tr th {\n",
       "        vertical-align: top;\n",
       "    }\n",
       "\n",
       "    .dataframe thead th {\n",
       "        text-align: right;\n",
       "    }\n",
       "</style>\n",
       "<table border=\"1\" class=\"dataframe\">\n",
       "  <thead>\n",
       "    <tr style=\"text-align: right;\">\n",
       "      <th></th>\n",
       "      <th>count</th>\n",
       "      <th>unique</th>\n",
       "      <th>top</th>\n",
       "      <th>freq</th>\n",
       "    </tr>\n",
       "  </thead>\n",
       "  <tbody>\n",
       "    <tr>\n",
       "      <th>id</th>\n",
       "      <td>76051</td>\n",
       "      <td>76051</td>\n",
       "      <td>1151_51</td>\n",
       "      <td>1</td>\n",
       "    </tr>\n",
       "    <tr>\n",
       "      <th>message_date</th>\n",
       "      <td>76051</td>\n",
       "      <td>351</td>\n",
       "      <td>2018-12-28</td>\n",
       "      <td>702</td>\n",
       "    </tr>\n",
       "  </tbody>\n",
       "</table>\n",
       "</div>"
      ],
      "text/plain": [
       "              count unique         top freq\n",
       "id            76051  76051     1151_51    1\n",
       "message_date  76051    351  2018-12-28  702"
      ]
     },
     "execution_count": 23,
     "metadata": {},
     "output_type": "execute_result"
    },
    {
     "data": {
      "text/plain": [
       "count     402.000000\n",
       "mean      189.181592\n",
       "std       192.207920\n",
       "min         1.000000\n",
       "25%        60.000000\n",
       "50%       126.500000\n",
       "75%       258.750000\n",
       "max      1288.000000\n",
       "Name: id, dtype: float64"
      ]
     },
     "execution_count": 23,
     "metadata": {},
     "output_type": "execute_result"
    }
   ],
   "source": [
    "# Print the general/summary information about the messages' DataFrame\n",
    "\n",
    "messages.describe().T\n",
    "messages.describe(include = 'object').T\n",
    "messages.groupby('user_id')['id'].agg('count').describe().T"
   ]
  },
  {
   "cell_type": "code",
   "execution_count": 24,
   "metadata": {},
   "outputs": [
    {
     "data": {
      "text/html": [
       "<div>\n",
       "<style scoped>\n",
       "    .dataframe tbody tr th:only-of-type {\n",
       "        vertical-align: middle;\n",
       "    }\n",
       "\n",
       "    .dataframe tbody tr th {\n",
       "        vertical-align: top;\n",
       "    }\n",
       "\n",
       "    .dataframe thead th {\n",
       "        text-align: right;\n",
       "    }\n",
       "</style>\n",
       "<table border=\"1\" class=\"dataframe\">\n",
       "  <thead>\n",
       "    <tr style=\"text-align: right;\">\n",
       "      <th></th>\n",
       "      <th>id</th>\n",
       "      <th>user_id</th>\n",
       "      <th>message_date</th>\n",
       "    </tr>\n",
       "  </thead>\n",
       "  <tbody>\n",
       "    <tr>\n",
       "      <th>0</th>\n",
       "      <td>1000_125</td>\n",
       "      <td>1000</td>\n",
       "      <td>2018-12-27</td>\n",
       "    </tr>\n",
       "    <tr>\n",
       "      <th>1</th>\n",
       "      <td>1000_160</td>\n",
       "      <td>1000</td>\n",
       "      <td>2018-12-31</td>\n",
       "    </tr>\n",
       "    <tr>\n",
       "      <th>2</th>\n",
       "      <td>1000_223</td>\n",
       "      <td>1000</td>\n",
       "      <td>2018-12-31</td>\n",
       "    </tr>\n",
       "    <tr>\n",
       "      <th>3</th>\n",
       "      <td>1000_251</td>\n",
       "      <td>1000</td>\n",
       "      <td>2018-12-27</td>\n",
       "    </tr>\n",
       "    <tr>\n",
       "      <th>4</th>\n",
       "      <td>1000_255</td>\n",
       "      <td>1000</td>\n",
       "      <td>2018-12-26</td>\n",
       "    </tr>\n",
       "  </tbody>\n",
       "</table>\n",
       "</div>"
      ],
      "text/plain": [
       "         id  user_id message_date\n",
       "0  1000_125     1000   2018-12-27\n",
       "1  1000_160     1000   2018-12-31\n",
       "2  1000_223     1000   2018-12-31\n",
       "3  1000_251     1000   2018-12-27\n",
       "4  1000_255     1000   2018-12-26"
      ]
     },
     "execution_count": 24,
     "metadata": {},
     "output_type": "execute_result"
    }
   ],
   "source": [
    "# Print a sample of data for messages\n",
    "\n",
    "messages.head()\n"
   ]
  },
  {
   "cell_type": "markdown",
   "metadata": {},
   "source": [
    "So, we see that clients sent from 1 to 1288 messages throughout the year, with average 189 and median of 126.5 messages (10 messages per month).\n",
    "\n",
    "Next, I'm going to change the data type in the message_date column, and change the name of the plan for clients from chorn_date to 2019-01-01."
   ]
  },
  {
   "cell_type": "markdown",
   "metadata": {},
   "source": [
    " "
   ]
  },
  {
   "cell_type": "markdown",
   "metadata": {},
   "source": [
    "### Fix data"
   ]
  },
  {
   "cell_type": "code",
   "execution_count": 25,
   "metadata": {},
   "outputs": [
    {
     "name": "stdout",
     "output_type": "stream",
     "text": [
      "<class 'pandas.core.frame.DataFrame'>\n",
      "RangeIndex: 76051 entries, 0 to 76050\n",
      "Data columns (total 3 columns):\n",
      " #   Column        Non-Null Count  Dtype         \n",
      "---  ------        --------------  -----         \n",
      " 0   id            76051 non-null  object        \n",
      " 1   user_id       76051 non-null  int64         \n",
      " 2   message_date  76051 non-null  datetime64[ns]\n",
      "dtypes: datetime64[ns](1), int64(1), object(1)\n",
      "memory usage: 1.7+ MB\n"
     ]
    }
   ],
   "source": [
    "#let's change the data type of the values in the column message_date\n",
    "messages.message_date = pd.to_datetime(messages.message_date, format = '%Y-%m-%d')\n",
    "messages.info()"
   ]
  },
  {
   "cell_type": "markdown",
   "metadata": {},
   "source": [
    "### Enrich data"
   ]
  },
  {
   "cell_type": "markdown",
   "metadata": {},
   "source": [
    "Fine.\n",
    "It remains to add a column with the month and change the name of the plan for the corresponding rows."
   ]
  },
  {
   "cell_type": "code",
   "execution_count": 26,
   "metadata": {},
   "outputs": [
    {
     "data": {
      "text/html": [
       "<div>\n",
       "<style scoped>\n",
       "    .dataframe tbody tr th:only-of-type {\n",
       "        vertical-align: middle;\n",
       "    }\n",
       "\n",
       "    .dataframe tbody tr th {\n",
       "        vertical-align: top;\n",
       "    }\n",
       "\n",
       "    .dataframe thead th {\n",
       "        text-align: right;\n",
       "    }\n",
       "</style>\n",
       "<table border=\"1\" class=\"dataframe\">\n",
       "  <thead>\n",
       "    <tr style=\"text-align: right;\">\n",
       "      <th></th>\n",
       "      <th>id</th>\n",
       "      <th>user_id</th>\n",
       "      <th>message_date</th>\n",
       "      <th>month</th>\n",
       "      <th>plan</th>\n",
       "      <th>churn_date</th>\n",
       "    </tr>\n",
       "  </thead>\n",
       "  <tbody>\n",
       "    <tr>\n",
       "      <th>36696</th>\n",
       "      <td>1246_0</td>\n",
       "      <td>1246</td>\n",
       "      <td>2018-06-22</td>\n",
       "      <td>6</td>\n",
       "      <td>ultimate</td>\n",
       "      <td>2018-07-31</td>\n",
       "    </tr>\n",
       "    <tr>\n",
       "      <th>36697</th>\n",
       "      <td>1246_1</td>\n",
       "      <td>1246</td>\n",
       "      <td>2018-08-02</td>\n",
       "      <td>8</td>\n",
       "      <td>ultimate</td>\n",
       "      <td>2018-07-31</td>\n",
       "    </tr>\n",
       "    <tr>\n",
       "      <th>36698</th>\n",
       "      <td>1246_2</td>\n",
       "      <td>1246</td>\n",
       "      <td>2018-02-06</td>\n",
       "      <td>2</td>\n",
       "      <td>ultimate</td>\n",
       "      <td>2018-07-31</td>\n",
       "    </tr>\n",
       "    <tr>\n",
       "      <th>36699</th>\n",
       "      <td>1246_3</td>\n",
       "      <td>1246</td>\n",
       "      <td>2018-05-29</td>\n",
       "      <td>5</td>\n",
       "      <td>ultimate</td>\n",
       "      <td>2018-07-31</td>\n",
       "    </tr>\n",
       "    <tr>\n",
       "      <th>36700</th>\n",
       "      <td>1246_4</td>\n",
       "      <td>1246</td>\n",
       "      <td>2018-02-04</td>\n",
       "      <td>2</td>\n",
       "      <td>ultimate</td>\n",
       "      <td>2018-07-31</td>\n",
       "    </tr>\n",
       "  </tbody>\n",
       "</table>\n",
       "</div>"
      ],
      "text/plain": [
       "           id  user_id message_date  month      plan churn_date\n",
       "36696  1246_0     1246   2018-06-22      6  ultimate 2018-07-31\n",
       "36697  1246_1     1246   2018-08-02      8  ultimate 2018-07-31\n",
       "36698  1246_2     1246   2018-02-06      2  ultimate 2018-07-31\n",
       "36699  1246_3     1246   2018-05-29      5  ultimate 2018-07-31\n",
       "36700  1246_4     1246   2018-02-04      2  ultimate 2018-07-31"
      ]
     },
     "execution_count": 26,
     "metadata": {},
     "output_type": "execute_result"
    },
    {
     "data": {
      "text/html": [
       "<div>\n",
       "<style scoped>\n",
       "    .dataframe tbody tr th:only-of-type {\n",
       "        vertical-align: middle;\n",
       "    }\n",
       "\n",
       "    .dataframe tbody tr th {\n",
       "        vertical-align: top;\n",
       "    }\n",
       "\n",
       "    .dataframe thead th {\n",
       "        text-align: right;\n",
       "    }\n",
       "</style>\n",
       "<table border=\"1\" class=\"dataframe\">\n",
       "  <thead>\n",
       "    <tr style=\"text-align: right;\">\n",
       "      <th></th>\n",
       "      <th>id</th>\n",
       "      <th>user_id</th>\n",
       "      <th>message_date</th>\n",
       "      <th>month</th>\n",
       "      <th>plan</th>\n",
       "      <th>churn_date</th>\n",
       "    </tr>\n",
       "  </thead>\n",
       "  <tbody>\n",
       "    <tr>\n",
       "      <th>36696</th>\n",
       "      <td>1246_0</td>\n",
       "      <td>1246</td>\n",
       "      <td>2018-06-22</td>\n",
       "      <td>6</td>\n",
       "      <td>ultimate</td>\n",
       "      <td>2018-07-31</td>\n",
       "    </tr>\n",
       "    <tr>\n",
       "      <th>36697</th>\n",
       "      <td>1246_1</td>\n",
       "      <td>1246</td>\n",
       "      <td>2018-08-02</td>\n",
       "      <td>8</td>\n",
       "      <td>surf</td>\n",
       "      <td>2018-07-31</td>\n",
       "    </tr>\n",
       "    <tr>\n",
       "      <th>36698</th>\n",
       "      <td>1246_2</td>\n",
       "      <td>1246</td>\n",
       "      <td>2018-02-06</td>\n",
       "      <td>2</td>\n",
       "      <td>ultimate</td>\n",
       "      <td>2018-07-31</td>\n",
       "    </tr>\n",
       "    <tr>\n",
       "      <th>36699</th>\n",
       "      <td>1246_3</td>\n",
       "      <td>1246</td>\n",
       "      <td>2018-05-29</td>\n",
       "      <td>5</td>\n",
       "      <td>ultimate</td>\n",
       "      <td>2018-07-31</td>\n",
       "    </tr>\n",
       "    <tr>\n",
       "      <th>36700</th>\n",
       "      <td>1246_4</td>\n",
       "      <td>1246</td>\n",
       "      <td>2018-02-04</td>\n",
       "      <td>2</td>\n",
       "      <td>ultimate</td>\n",
       "      <td>2018-07-31</td>\n",
       "    </tr>\n",
       "  </tbody>\n",
       "</table>\n",
       "</div>"
      ],
      "text/plain": [
       "           id  user_id message_date  month      plan churn_date\n",
       "36696  1246_0     1246   2018-06-22      6  ultimate 2018-07-31\n",
       "36697  1246_1     1246   2018-08-02      8      surf 2018-07-31\n",
       "36698  1246_2     1246   2018-02-06      2  ultimate 2018-07-31\n",
       "36699  1246_3     1246   2018-05-29      5  ultimate 2018-07-31\n",
       "36700  1246_4     1246   2018-02-04      2  ultimate 2018-07-31"
      ]
     },
     "execution_count": 26,
     "metadata": {},
     "output_type": "execute_result"
    }
   ],
   "source": [
    "# let's get the month\n",
    "messages['month'] = messages.message_date.dt.month\n",
    "\n",
    "#let's get the plan's name and churn date\n",
    "messages['plan'] = messages.user_id.map(users_dictionary)\n",
    "messages['churn_date'] = messages.user_id.map(users_churn_dictionary)\n",
    "\n",
    "# check user 1246 before I'll changing plan's name\n",
    "messages[messages['user_id'] == 1246].head()\n",
    "\n",
    "# make a mask and change plan's name\n",
    "mask_messages_ultimate = (messages.message_date > messages.churn_date) & (messages.plan == 'ultimate')\n",
    "mask_messages_surf = (messages.message_date > messages.churn_date) & (messages.plan == 'surf')\n",
    "\n",
    "messages.loc[mask_messages_ultimate, 'plan'] = 'surf'\n",
    "messages.loc[mask_messages_surf, 'plan'] = 'ultimate'\n",
    "\n",
    "# check user 1246 after I changed plan's name\n",
    "messages[messages['user_id'] == 1246].head()"
   ]
  },
  {
   "cell_type": "markdown",
   "metadata": {},
   "source": [
    "## Internet"
   ]
  },
  {
   "cell_type": "code",
   "execution_count": 27,
   "metadata": {},
   "outputs": [
    {
     "data": {
      "text/html": [
       "<div>\n",
       "<style scoped>\n",
       "    .dataframe tbody tr th:only-of-type {\n",
       "        vertical-align: middle;\n",
       "    }\n",
       "\n",
       "    .dataframe tbody tr th {\n",
       "        vertical-align: top;\n",
       "    }\n",
       "\n",
       "    .dataframe thead th {\n",
       "        text-align: right;\n",
       "    }\n",
       "</style>\n",
       "<table border=\"1\" class=\"dataframe\">\n",
       "  <thead>\n",
       "    <tr style=\"text-align: right;\">\n",
       "      <th></th>\n",
       "      <th>count</th>\n",
       "      <th>mean</th>\n",
       "      <th>std</th>\n",
       "      <th>min</th>\n",
       "      <th>25%</th>\n",
       "      <th>50%</th>\n",
       "      <th>75%</th>\n",
       "      <th>max</th>\n",
       "    </tr>\n",
       "  </thead>\n",
       "  <tbody>\n",
       "    <tr>\n",
       "      <th>user_id</th>\n",
       "      <td>104825.0</td>\n",
       "      <td>1242.496361</td>\n",
       "      <td>142.053913</td>\n",
       "      <td>1000.0</td>\n",
       "      <td>1122.00</td>\n",
       "      <td>1236.00</td>\n",
       "      <td>1367.00</td>\n",
       "      <td>1499.00</td>\n",
       "    </tr>\n",
       "    <tr>\n",
       "      <th>mb_used</th>\n",
       "      <td>104825.0</td>\n",
       "      <td>366.713701</td>\n",
       "      <td>277.170542</td>\n",
       "      <td>0.0</td>\n",
       "      <td>136.08</td>\n",
       "      <td>343.98</td>\n",
       "      <td>554.61</td>\n",
       "      <td>1693.47</td>\n",
       "    </tr>\n",
       "  </tbody>\n",
       "</table>\n",
       "</div>"
      ],
      "text/plain": [
       "            count         mean         std     min      25%      50%      75%  \\\n",
       "user_id  104825.0  1242.496361  142.053913  1000.0  1122.00  1236.00  1367.00   \n",
       "mb_used  104825.0   366.713701  277.170542     0.0   136.08   343.98   554.61   \n",
       "\n",
       "             max  \n",
       "user_id  1499.00  \n",
       "mb_used  1693.47  "
      ]
     },
     "execution_count": 27,
     "metadata": {},
     "output_type": "execute_result"
    },
    {
     "data": {
      "text/html": [
       "<div>\n",
       "<style scoped>\n",
       "    .dataframe tbody tr th:only-of-type {\n",
       "        vertical-align: middle;\n",
       "    }\n",
       "\n",
       "    .dataframe tbody tr th {\n",
       "        vertical-align: top;\n",
       "    }\n",
       "\n",
       "    .dataframe thead th {\n",
       "        text-align: right;\n",
       "    }\n",
       "</style>\n",
       "<table border=\"1\" class=\"dataframe\">\n",
       "  <thead>\n",
       "    <tr style=\"text-align: right;\">\n",
       "      <th></th>\n",
       "      <th>count</th>\n",
       "      <th>unique</th>\n",
       "      <th>top</th>\n",
       "      <th>freq</th>\n",
       "    </tr>\n",
       "  </thead>\n",
       "  <tbody>\n",
       "    <tr>\n",
       "      <th>id</th>\n",
       "      <td>104825</td>\n",
       "      <td>104825</td>\n",
       "      <td>1151_51</td>\n",
       "      <td>1</td>\n",
       "    </tr>\n",
       "    <tr>\n",
       "      <th>session_date</th>\n",
       "      <td>104825</td>\n",
       "      <td>351</td>\n",
       "      <td>2018-12-24</td>\n",
       "      <td>851</td>\n",
       "    </tr>\n",
       "  </tbody>\n",
       "</table>\n",
       "</div>"
      ],
      "text/plain": [
       "               count  unique         top freq\n",
       "id            104825  104825     1151_51    1\n",
       "session_date  104825     351  2018-12-24  851"
      ]
     },
     "execution_count": 27,
     "metadata": {},
     "output_type": "execute_result"
    },
    {
     "data": {
      "text/plain": [
       "count       489.000000\n",
       "mean      78610.968732\n",
       "std       61940.374028\n",
       "min          92.680000\n",
       "25%       29401.530000\n",
       "50%       62354.370000\n",
       "75%      115737.760000\n",
       "max      390159.350000\n",
       "Name: mb_used, dtype: float64"
      ]
     },
     "execution_count": 27,
     "metadata": {},
     "output_type": "execute_result"
    }
   ],
   "source": [
    "# Print the general/summary information about the internet DataFrame\n",
    "\n",
    "internet.describe().T\n",
    "internet.describe(include = 'object').T\n",
    "internet.groupby('user_id')['mb_used'].sum().describe().T"
   ]
  },
  {
   "cell_type": "code",
   "execution_count": 28,
   "metadata": {},
   "outputs": [
    {
     "data": {
      "text/html": [
       "<div>\n",
       "<style scoped>\n",
       "    .dataframe tbody tr th:only-of-type {\n",
       "        vertical-align: middle;\n",
       "    }\n",
       "\n",
       "    .dataframe tbody tr th {\n",
       "        vertical-align: top;\n",
       "    }\n",
       "\n",
       "    .dataframe thead th {\n",
       "        text-align: right;\n",
       "    }\n",
       "</style>\n",
       "<table border=\"1\" class=\"dataframe\">\n",
       "  <thead>\n",
       "    <tr style=\"text-align: right;\">\n",
       "      <th></th>\n",
       "      <th>id</th>\n",
       "      <th>user_id</th>\n",
       "      <th>session_date</th>\n",
       "      <th>mb_used</th>\n",
       "    </tr>\n",
       "  </thead>\n",
       "  <tbody>\n",
       "    <tr>\n",
       "      <th>0</th>\n",
       "      <td>1000_13</td>\n",
       "      <td>1000</td>\n",
       "      <td>2018-12-29</td>\n",
       "      <td>89.86</td>\n",
       "    </tr>\n",
       "    <tr>\n",
       "      <th>1</th>\n",
       "      <td>1000_204</td>\n",
       "      <td>1000</td>\n",
       "      <td>2018-12-31</td>\n",
       "      <td>0.00</td>\n",
       "    </tr>\n",
       "    <tr>\n",
       "      <th>2</th>\n",
       "      <td>1000_379</td>\n",
       "      <td>1000</td>\n",
       "      <td>2018-12-28</td>\n",
       "      <td>660.40</td>\n",
       "    </tr>\n",
       "    <tr>\n",
       "      <th>3</th>\n",
       "      <td>1000_413</td>\n",
       "      <td>1000</td>\n",
       "      <td>2018-12-26</td>\n",
       "      <td>270.99</td>\n",
       "    </tr>\n",
       "    <tr>\n",
       "      <th>4</th>\n",
       "      <td>1000_442</td>\n",
       "      <td>1000</td>\n",
       "      <td>2018-12-27</td>\n",
       "      <td>880.22</td>\n",
       "    </tr>\n",
       "  </tbody>\n",
       "</table>\n",
       "</div>"
      ],
      "text/plain": [
       "         id  user_id session_date  mb_used\n",
       "0   1000_13     1000   2018-12-29    89.86\n",
       "1  1000_204     1000   2018-12-31     0.00\n",
       "2  1000_379     1000   2018-12-28   660.40\n",
       "3  1000_413     1000   2018-12-26   270.99\n",
       "4  1000_442     1000   2018-12-27   880.22"
      ]
     },
     "execution_count": 28,
     "metadata": {},
     "output_type": "execute_result"
    }
   ],
   "source": [
    "# Print a sample of data for the internet traffic\n",
    "internet.head()"
   ]
  },
  {
   "cell_type": "markdown",
   "metadata": {},
   "source": [
    "So, we can see that users consume from 0 to 1693 mb with an average of 367 mb and a median of 344 mb.\n",
    "\n",
    "Next, I'm going to change the data type in the session_date field, add a column with the month value, and deal with the value in the plan column."
   ]
  },
  {
   "cell_type": "markdown",
   "metadata": {},
   "source": [
    " "
   ]
  },
  {
   "cell_type": "markdown",
   "metadata": {},
   "source": [
    "### Fix data"
   ]
  },
  {
   "cell_type": "code",
   "execution_count": 29,
   "metadata": {},
   "outputs": [
    {
     "name": "stdout",
     "output_type": "stream",
     "text": [
      "<class 'pandas.core.frame.DataFrame'>\n",
      "RangeIndex: 104825 entries, 0 to 104824\n",
      "Data columns (total 4 columns):\n",
      " #   Column        Non-Null Count   Dtype         \n",
      "---  ------        --------------   -----         \n",
      " 0   id            104825 non-null  object        \n",
      " 1   user_id       104825 non-null  int64         \n",
      " 2   session_date  104825 non-null  datetime64[ns]\n",
      " 3   mb_used       104825 non-null  float64       \n",
      "dtypes: datetime64[ns](1), float64(1), int64(1), object(1)\n",
      "memory usage: 3.2+ MB\n"
     ]
    }
   ],
   "source": [
    "#let's change the data type of the values in the column session_date\n",
    "internet.session_date = pd.to_datetime(internet.session_date, format = '%Y-%m-%d')\n",
    "\n",
    "internet.info()"
   ]
  },
  {
   "cell_type": "markdown",
   "metadata": {},
   "source": [
    "### Enrich data"
   ]
  },
  {
   "cell_type": "code",
   "execution_count": 30,
   "metadata": {},
   "outputs": [
    {
     "data": {
      "text/html": [
       "<div>\n",
       "<style scoped>\n",
       "    .dataframe tbody tr th:only-of-type {\n",
       "        vertical-align: middle;\n",
       "    }\n",
       "\n",
       "    .dataframe tbody tr th {\n",
       "        vertical-align: top;\n",
       "    }\n",
       "\n",
       "    .dataframe thead th {\n",
       "        text-align: right;\n",
       "    }\n",
       "</style>\n",
       "<table border=\"1\" class=\"dataframe\">\n",
       "  <thead>\n",
       "    <tr style=\"text-align: right;\">\n",
       "      <th></th>\n",
       "      <th>id</th>\n",
       "      <th>user_id</th>\n",
       "      <th>session_date</th>\n",
       "      <th>mb_used</th>\n",
       "      <th>month</th>\n",
       "      <th>plan</th>\n",
       "      <th>churn_date</th>\n",
       "    </tr>\n",
       "  </thead>\n",
       "  <tbody>\n",
       "    <tr>\n",
       "      <th>54580</th>\n",
       "      <td>1246_481</td>\n",
       "      <td>1246</td>\n",
       "      <td>2018-04-18</td>\n",
       "      <td>347.17</td>\n",
       "      <td>4</td>\n",
       "      <td>ultimate</td>\n",
       "      <td>2018-07-31</td>\n",
       "    </tr>\n",
       "    <tr>\n",
       "      <th>54581</th>\n",
       "      <td>1246_482</td>\n",
       "      <td>1246</td>\n",
       "      <td>2018-09-13</td>\n",
       "      <td>251.85</td>\n",
       "      <td>9</td>\n",
       "      <td>ultimate</td>\n",
       "      <td>2018-07-31</td>\n",
       "    </tr>\n",
       "    <tr>\n",
       "      <th>54582</th>\n",
       "      <td>1246_483</td>\n",
       "      <td>1246</td>\n",
       "      <td>2018-05-19</td>\n",
       "      <td>611.44</td>\n",
       "      <td>5</td>\n",
       "      <td>ultimate</td>\n",
       "      <td>2018-07-31</td>\n",
       "    </tr>\n",
       "    <tr>\n",
       "      <th>54583</th>\n",
       "      <td>1246_484</td>\n",
       "      <td>1246</td>\n",
       "      <td>2018-03-06</td>\n",
       "      <td>533.78</td>\n",
       "      <td>3</td>\n",
       "      <td>ultimate</td>\n",
       "      <td>2018-07-31</td>\n",
       "    </tr>\n",
       "    <tr>\n",
       "      <th>54584</th>\n",
       "      <td>1246_485</td>\n",
       "      <td>1246</td>\n",
       "      <td>2018-04-16</td>\n",
       "      <td>454.95</td>\n",
       "      <td>4</td>\n",
       "      <td>ultimate</td>\n",
       "      <td>2018-07-31</td>\n",
       "    </tr>\n",
       "  </tbody>\n",
       "</table>\n",
       "</div>"
      ],
      "text/plain": [
       "             id  user_id session_date  mb_used  month      plan churn_date\n",
       "54580  1246_481     1246   2018-04-18   347.17      4  ultimate 2018-07-31\n",
       "54581  1246_482     1246   2018-09-13   251.85      9  ultimate 2018-07-31\n",
       "54582  1246_483     1246   2018-05-19   611.44      5  ultimate 2018-07-31\n",
       "54583  1246_484     1246   2018-03-06   533.78      3  ultimate 2018-07-31\n",
       "54584  1246_485     1246   2018-04-16   454.95      4  ultimate 2018-07-31"
      ]
     },
     "execution_count": 30,
     "metadata": {},
     "output_type": "execute_result"
    },
    {
     "data": {
      "text/html": [
       "<div>\n",
       "<style scoped>\n",
       "    .dataframe tbody tr th:only-of-type {\n",
       "        vertical-align: middle;\n",
       "    }\n",
       "\n",
       "    .dataframe tbody tr th {\n",
       "        vertical-align: top;\n",
       "    }\n",
       "\n",
       "    .dataframe thead th {\n",
       "        text-align: right;\n",
       "    }\n",
       "</style>\n",
       "<table border=\"1\" class=\"dataframe\">\n",
       "  <thead>\n",
       "    <tr style=\"text-align: right;\">\n",
       "      <th></th>\n",
       "      <th>id</th>\n",
       "      <th>user_id</th>\n",
       "      <th>session_date</th>\n",
       "      <th>mb_used</th>\n",
       "      <th>month</th>\n",
       "      <th>plan</th>\n",
       "      <th>churn_date</th>\n",
       "    </tr>\n",
       "  </thead>\n",
       "  <tbody>\n",
       "    <tr>\n",
       "      <th>54580</th>\n",
       "      <td>1246_481</td>\n",
       "      <td>1246</td>\n",
       "      <td>2018-04-18</td>\n",
       "      <td>347.17</td>\n",
       "      <td>4</td>\n",
       "      <td>ultimate</td>\n",
       "      <td>2018-07-31</td>\n",
       "    </tr>\n",
       "    <tr>\n",
       "      <th>54581</th>\n",
       "      <td>1246_482</td>\n",
       "      <td>1246</td>\n",
       "      <td>2018-09-13</td>\n",
       "      <td>251.85</td>\n",
       "      <td>9</td>\n",
       "      <td>surf</td>\n",
       "      <td>2018-07-31</td>\n",
       "    </tr>\n",
       "    <tr>\n",
       "      <th>54582</th>\n",
       "      <td>1246_483</td>\n",
       "      <td>1246</td>\n",
       "      <td>2018-05-19</td>\n",
       "      <td>611.44</td>\n",
       "      <td>5</td>\n",
       "      <td>ultimate</td>\n",
       "      <td>2018-07-31</td>\n",
       "    </tr>\n",
       "    <tr>\n",
       "      <th>54583</th>\n",
       "      <td>1246_484</td>\n",
       "      <td>1246</td>\n",
       "      <td>2018-03-06</td>\n",
       "      <td>533.78</td>\n",
       "      <td>3</td>\n",
       "      <td>ultimate</td>\n",
       "      <td>2018-07-31</td>\n",
       "    </tr>\n",
       "    <tr>\n",
       "      <th>54584</th>\n",
       "      <td>1246_485</td>\n",
       "      <td>1246</td>\n",
       "      <td>2018-04-16</td>\n",
       "      <td>454.95</td>\n",
       "      <td>4</td>\n",
       "      <td>ultimate</td>\n",
       "      <td>2018-07-31</td>\n",
       "    </tr>\n",
       "  </tbody>\n",
       "</table>\n",
       "</div>"
      ],
      "text/plain": [
       "             id  user_id session_date  mb_used  month      plan churn_date\n",
       "54580  1246_481     1246   2018-04-18   347.17      4  ultimate 2018-07-31\n",
       "54581  1246_482     1246   2018-09-13   251.85      9      surf 2018-07-31\n",
       "54582  1246_483     1246   2018-05-19   611.44      5  ultimate 2018-07-31\n",
       "54583  1246_484     1246   2018-03-06   533.78      3  ultimate 2018-07-31\n",
       "54584  1246_485     1246   2018-04-16   454.95      4  ultimate 2018-07-31"
      ]
     },
     "execution_count": 30,
     "metadata": {},
     "output_type": "execute_result"
    }
   ],
   "source": [
    "# let's get the month\n",
    "internet['month'] = internet.session_date.dt.month\n",
    "\n",
    "#let's get the plan's name and churn date\n",
    "internet['plan'] = internet.user_id.map(users_dictionary)\n",
    "internet['churn_date'] = internet.user_id.map(users_churn_dictionary)\n",
    "\n",
    "# check user 1246 before I'll changing plan's name\n",
    "internet[internet['user_id'] == 1246].tail()\n",
    "\n",
    "# make a mask and change plan's name\n",
    "mask_internet_ultimate = (internet.session_date > internet.churn_date) & (internet.plan == 'ultimate')\n",
    "mask_internet_surf = (internet.session_date > internet.churn_date) & (internet.plan == 'surf')\n",
    "\n",
    "internet.loc[mask_internet_ultimate, 'plan'] = 'surf'\n",
    "internet.loc[mask_internet_surf, 'plan'] = 'ultimate'\n",
    "\n",
    "# check user 1246 after I changed plan's name\n",
    "internet[internet['user_id'] == 1246].tail()"
   ]
  },
  {
   "cell_type": "markdown",
   "metadata": {},
   "source": [
    "### Conclusion 1 \n",
    "\n",
    "So, at this stage of the project, we loaded 5 data frames and displayed general information and descriptive statistics for each. Identified values with the wrong data type in the data frames **users**, **calls**, **messages**, **Internet**, and later fixed it. We found the missing values in the **users** data frame, found out their nature, and filled in the calculated data. We also added a column with age categories for analysis.\\\n",
    "In date frames **calls**, **messages**, and **Internet** added columns with month, plan, and churn date.\\\n",
    "And of course, we checked the **users** date frame for duplicates.\n",
    "\n",
    "We found out that we have two plans **surf** and **ultimate**, and the monthly payment for **ultimate** is 3.5 times more than **surf**. I suppose this is the main reason why users of the surf and ultimate plans are represented in a 2:1 ratio. It is interesting to note that users who have churned plans are represented in the same proportion.\\\n",
    "Later, we found out that these users who churned plans continued to use the company's services, which was due to the transition of customers from one plan to another, and not an outflow.\n",
    "\n",
    "Also we get, what the company works with users aged 18 to 75 years. The average age of a user is 45.5 years, and the median is 46. Most often, the sample includes users in the category **26-35** years old, and least often in the category **under 25**. From the unusual - also not very often presented users in the category **36-45** years old. And this is not a small drawdown, but a dip between the **26-35** and **46-55** groups. Why this is so is impossible to say with the existing data set.\\\n",
    "Lastly, in terms of users, users from the sample are represented in 73 out of 384 MSAs, which is 19%.\n",
    "\n",
    "In terms of services consumed, users **on average**: make about 24 calls lasting about 7 minutes per month, write 16 messages per month (189 per year) and consume 6550 MB per month (78610 MB per year).\\\n",
    "The average for all three services exceed their respective median, making their distribution skewed to the right, which is generally typical.\n",
    "\n",
    "**What's next?**\\\n",
    "Next, for each user, I will calculate the duration of calls, their number, the number of messages, and the amount of Internet consumed (in MB and GB) and aggregated them monthly.\\\n",
    "After that, I will merge the aggregated data for calls, messages, the internet, and users. To merge, I need to use the **user_id**, **month**, and **plan** columns.\\\n",
    "!BUT\\\n",
    "This is a combination of three levels and it can give unexpected results. Therefore, we will go the long way.\n",
    "We will merge the data using the **user_id** and **month** columns, but we will create two tables. One for surf users and one for ultimate users. And then we will connect them to one another.\\\n",
    "And after that, I will calculate the revenue for each user by month."
   ]
  },
  {
   "cell_type": "markdown",
   "metadata": {},
   "source": [
    "## Study plan conditions"
   ]
  },
  {
   "cell_type": "code",
   "execution_count": 31,
   "metadata": {},
   "outputs": [
    {
     "data": {
      "text/html": [
       "<div>\n",
       "<style scoped>\n",
       "    .dataframe tbody tr th:only-of-type {\n",
       "        vertical-align: middle;\n",
       "    }\n",
       "\n",
       "    .dataframe tbody tr th {\n",
       "        vertical-align: top;\n",
       "    }\n",
       "\n",
       "    .dataframe thead th {\n",
       "        text-align: right;\n",
       "    }\n",
       "</style>\n",
       "<table border=\"1\" class=\"dataframe\">\n",
       "  <thead>\n",
       "    <tr style=\"text-align: right;\">\n",
       "      <th></th>\n",
       "      <th>messages_included</th>\n",
       "      <th>mb_per_month_included</th>\n",
       "      <th>minutes_included</th>\n",
       "      <th>usd_monthly_pay</th>\n",
       "      <th>usd_per_gb</th>\n",
       "      <th>usd_per_message</th>\n",
       "      <th>usd_per_minute</th>\n",
       "      <th>plan_name</th>\n",
       "    </tr>\n",
       "  </thead>\n",
       "  <tbody>\n",
       "    <tr>\n",
       "      <th>0</th>\n",
       "      <td>50</td>\n",
       "      <td>15360</td>\n",
       "      <td>500</td>\n",
       "      <td>20</td>\n",
       "      <td>10</td>\n",
       "      <td>0.03</td>\n",
       "      <td>0.03</td>\n",
       "      <td>surf</td>\n",
       "    </tr>\n",
       "    <tr>\n",
       "      <th>1</th>\n",
       "      <td>1000</td>\n",
       "      <td>30720</td>\n",
       "      <td>3000</td>\n",
       "      <td>70</td>\n",
       "      <td>7</td>\n",
       "      <td>0.01</td>\n",
       "      <td>0.01</td>\n",
       "      <td>ultimate</td>\n",
       "    </tr>\n",
       "  </tbody>\n",
       "</table>\n",
       "</div>"
      ],
      "text/plain": [
       "   messages_included  mb_per_month_included  minutes_included  \\\n",
       "0                 50                  15360               500   \n",
       "1               1000                  30720              3000   \n",
       "\n",
       "   usd_monthly_pay  usd_per_gb  usd_per_message  usd_per_minute plan_name  \n",
       "0               20          10             0.03            0.03      surf  \n",
       "1               70           7             0.01            0.01  ultimate  "
      ]
     },
     "execution_count": 31,
     "metadata": {},
     "output_type": "execute_result"
    }
   ],
   "source": [
    "# Print out the plan conditions and make sure they are clear for you\n",
    "\n",
    "plans"
   ]
  },
  {
   "cell_type": "markdown",
   "metadata": {},
   "source": [
    "## Aggregate data per user\n",
    "\n",
    "Now, as the data is clean, I'll aggregate data per user per period in order to have just one record per user per period. It should ease the further analysis a lot."
   ]
  },
  {
   "cell_type": "code",
   "execution_count": 32,
   "metadata": {},
   "outputs": [],
   "source": [
    "# Calculate the amount of minutes spent by each user per month. Save the result.\n",
    "\n",
    "calls_pt = calls.pivot_table(index = ['user_id', 'month', 'plan'], values = 'duration', aggfunc = ['sum', 'count'])\n",
    "calls_pt = calls_pt.reset_index()\n",
    "\n",
    "# rename the names of columns\n",
    "calls_pt.columns = ['user_id', 'month', 'plan', 'calls_duration', 'calls']"
   ]
  },
  {
   "cell_type": "code",
   "execution_count": 33,
   "metadata": {
    "scrolled": false
   },
   "outputs": [],
   "source": [
    "# Calculate the number of messages sent by each user per month. Save the result.\n",
    "\n",
    "messages_pt = messages.pivot_table(index = ['user_id', 'month', 'plan'], values = 'id', aggfunc = 'count')\n",
    "messages_pt = messages_pt.reset_index()\n",
    "messages_pt.rename(columns = {'id': 'messages'}, inplace = True)\n",
    "\n",
    "# change the order of the columns to simplify the next slicing data\n",
    "messages_pt = messages_pt.reindex(columns = ['user_id','month', 'messages', 'plan'])\n",
    "\n",
    "#don't like a long string of code, for this reason making slices for the next merge\n",
    "messages_pt_surf = messages_pt.loc[messages_pt.plan == \"surf\",'user_id':'messages']\n",
    "messages_pt_ultimate = messages_pt.loc[messages_pt.plan == \"ultimate\",'user_id':'messages']"
   ]
  },
  {
   "cell_type": "code",
   "execution_count": 34,
   "metadata": {
    "scrolled": false
   },
   "outputs": [],
   "source": [
    "# Calculate the volume of internet traffic used by each user per month. Save the result.\n",
    "mb_to_gb = 0.001\n",
    "internet_pt = internet.pivot_table(index = ['user_id', 'month', 'plan'], values = 'mb_used', aggfunc = 'sum')\n",
    "internet_pt['gb_used'] = internet_pt.mb_used * mb_to_gb\n",
    "internet_pt.gb_used = [math.ceil(number) for number in internet_pt.gb_used]\n",
    "internet_pt = internet_pt.reset_index()\n",
    "\n",
    "# change the order of the columns to simplify the next slicing data\n",
    "internet_pt = internet_pt.reindex(columns =['user_id', 'month', 'mb_used', 'gb_used', 'plan'])\n",
    "\n",
    "#don't like a long string of code, for this reason making slices for the next merge\n",
    "internet_pt_surf = internet_pt.loc[internet_pt.plan == \"surf\", 'user_id':'gb_used']\n",
    "internet_pt_ultimate = internet_pt.loc[internet_pt.plan == \"ultimate\", 'user_id':'gb_used']"
   ]
  },
  {
   "cell_type": "markdown",
   "metadata": {},
   "source": [
    "What's next?\n",
    "\n",
    "I'm using data frame **calls** as the base for the merge. I will add messages, Internet, and personal data of users to it.\\\n",
    "After, I will fill in the missing values."
   ]
  },
  {
   "cell_type": "code",
   "execution_count": 35,
   "metadata": {
    "scrolled": false
   },
   "outputs": [
    {
     "data": {
      "text/html": [
       "<div>\n",
       "<style scoped>\n",
       "    .dataframe tbody tr th:only-of-type {\n",
       "        vertical-align: middle;\n",
       "    }\n",
       "\n",
       "    .dataframe tbody tr th {\n",
       "        vertical-align: top;\n",
       "    }\n",
       "\n",
       "    .dataframe thead th {\n",
       "        text-align: right;\n",
       "    }\n",
       "</style>\n",
       "<table border=\"1\" class=\"dataframe\">\n",
       "  <thead>\n",
       "    <tr style=\"text-align: right;\">\n",
       "      <th></th>\n",
       "      <th>user_id</th>\n",
       "      <th>month</th>\n",
       "      <th>plan</th>\n",
       "      <th>calls_duration</th>\n",
       "      <th>calls</th>\n",
       "      <th>messages</th>\n",
       "      <th>mb_used</th>\n",
       "      <th>gb_used</th>\n",
       "      <th>first_name</th>\n",
       "      <th>last_name</th>\n",
       "      <th>age</th>\n",
       "      <th>age_group</th>\n",
       "      <th>city</th>\n",
       "    </tr>\n",
       "  </thead>\n",
       "  <tbody>\n",
       "    <tr>\n",
       "      <th>1560</th>\n",
       "      <td>1194</td>\n",
       "      <td>12</td>\n",
       "      <td>surf</td>\n",
       "      <td>0.0</td>\n",
       "      <td>0.0</td>\n",
       "      <td>56.0</td>\n",
       "      <td>31088.49</td>\n",
       "      <td>32.0</td>\n",
       "      <td>Robert</td>\n",
       "      <td>Mclean</td>\n",
       "      <td>40</td>\n",
       "      <td>36-45</td>\n",
       "      <td>San Jose-Sunnyvale-Santa Clara, CA MSA</td>\n",
       "    </tr>\n",
       "    <tr>\n",
       "      <th>1561</th>\n",
       "      <td>1349</td>\n",
       "      <td>10</td>\n",
       "      <td>surf</td>\n",
       "      <td>0.0</td>\n",
       "      <td>0.0</td>\n",
       "      <td>76.0</td>\n",
       "      <td>13093.55</td>\n",
       "      <td>14.0</td>\n",
       "      <td>Florentina</td>\n",
       "      <td>Diaz</td>\n",
       "      <td>69</td>\n",
       "      <td>above 65</td>\n",
       "      <td>Boston-Cambridge-Newton, MA-NH MSA</td>\n",
       "    </tr>\n",
       "    <tr>\n",
       "      <th>1562</th>\n",
       "      <td>1349</td>\n",
       "      <td>11</td>\n",
       "      <td>surf</td>\n",
       "      <td>0.0</td>\n",
       "      <td>0.0</td>\n",
       "      <td>72.0</td>\n",
       "      <td>17128.26</td>\n",
       "      <td>18.0</td>\n",
       "      <td>Florentina</td>\n",
       "      <td>Diaz</td>\n",
       "      <td>69</td>\n",
       "      <td>above 65</td>\n",
       "      <td>Boston-Cambridge-Newton, MA-NH MSA</td>\n",
       "    </tr>\n",
       "    <tr>\n",
       "      <th>1563</th>\n",
       "      <td>1349</td>\n",
       "      <td>12</td>\n",
       "      <td>surf</td>\n",
       "      <td>0.0</td>\n",
       "      <td>0.0</td>\n",
       "      <td>61.0</td>\n",
       "      <td>13039.91</td>\n",
       "      <td>14.0</td>\n",
       "      <td>Florentina</td>\n",
       "      <td>Diaz</td>\n",
       "      <td>69</td>\n",
       "      <td>above 65</td>\n",
       "      <td>Boston-Cambridge-Newton, MA-NH MSA</td>\n",
       "    </tr>\n",
       "    <tr>\n",
       "      <th>1564</th>\n",
       "      <td>1361</td>\n",
       "      <td>5</td>\n",
       "      <td>surf</td>\n",
       "      <td>0.0</td>\n",
       "      <td>0.0</td>\n",
       "      <td>2.0</td>\n",
       "      <td>1519.69</td>\n",
       "      <td>2.0</td>\n",
       "      <td>Jacelyn</td>\n",
       "      <td>Hoffman</td>\n",
       "      <td>45</td>\n",
       "      <td>36-45</td>\n",
       "      <td>Birmingham-Hoover, AL MSA</td>\n",
       "    </tr>\n",
       "  </tbody>\n",
       "</table>\n",
       "</div>"
      ],
      "text/plain": [
       "      user_id  month  plan  calls_duration  calls  messages   mb_used  \\\n",
       "1560     1194     12  surf             0.0    0.0      56.0  31088.49   \n",
       "1561     1349     10  surf             0.0    0.0      76.0  13093.55   \n",
       "1562     1349     11  surf             0.0    0.0      72.0  17128.26   \n",
       "1563     1349     12  surf             0.0    0.0      61.0  13039.91   \n",
       "1564     1361      5  surf             0.0    0.0       2.0   1519.69   \n",
       "\n",
       "      gb_used  first_name last_name  age age_group  \\\n",
       "1560     32.0      Robert    Mclean   40     36-45   \n",
       "1561     14.0  Florentina      Diaz   69  above 65   \n",
       "1562     18.0  Florentina      Diaz   69  above 65   \n",
       "1563     14.0  Florentina      Diaz   69  above 65   \n",
       "1564      2.0     Jacelyn   Hoffman   45     36-45   \n",
       "\n",
       "                                        city  \n",
       "1560  San Jose-Sunnyvale-Santa Clara, CA MSA  \n",
       "1561      Boston-Cambridge-Newton, MA-NH MSA  \n",
       "1562      Boston-Cambridge-Newton, MA-NH MSA  \n",
       "1563      Boston-Cambridge-Newton, MA-NH MSA  \n",
       "1564               Birmingham-Hoover, AL MSA  "
      ]
     },
     "execution_count": 35,
     "metadata": {},
     "output_type": "execute_result"
    },
    {
     "data": {
      "text/html": [
       "<div>\n",
       "<style scoped>\n",
       "    .dataframe tbody tr th:only-of-type {\n",
       "        vertical-align: middle;\n",
       "    }\n",
       "\n",
       "    .dataframe tbody tr th {\n",
       "        vertical-align: top;\n",
       "    }\n",
       "\n",
       "    .dataframe thead th {\n",
       "        text-align: right;\n",
       "    }\n",
       "</style>\n",
       "<table border=\"1\" class=\"dataframe\">\n",
       "  <thead>\n",
       "    <tr style=\"text-align: right;\">\n",
       "      <th></th>\n",
       "      <th>user_id</th>\n",
       "      <th>month</th>\n",
       "      <th>plan</th>\n",
       "      <th>calls_duration</th>\n",
       "      <th>calls</th>\n",
       "      <th>messages</th>\n",
       "      <th>mb_used</th>\n",
       "      <th>gb_used</th>\n",
       "      <th>first_name</th>\n",
       "      <th>last_name</th>\n",
       "      <th>age</th>\n",
       "      <th>age_group</th>\n",
       "      <th>city</th>\n",
       "    </tr>\n",
       "  </thead>\n",
       "  <tbody>\n",
       "    <tr>\n",
       "      <th>748</th>\n",
       "      <td>1204</td>\n",
       "      <td>12</td>\n",
       "      <td>ultimate</td>\n",
       "      <td>0.0</td>\n",
       "      <td>0.0</td>\n",
       "      <td>78.0</td>\n",
       "      <td>36730.05</td>\n",
       "      <td>37.0</td>\n",
       "      <td>Sherly</td>\n",
       "      <td>Levy</td>\n",
       "      <td>44</td>\n",
       "      <td>36-45</td>\n",
       "      <td>Chicago-Naperville-Elgin, IL-IN-WI MSA</td>\n",
       "    </tr>\n",
       "    <tr>\n",
       "      <th>749</th>\n",
       "      <td>1224</td>\n",
       "      <td>6</td>\n",
       "      <td>ultimate</td>\n",
       "      <td>0.0</td>\n",
       "      <td>0.0</td>\n",
       "      <td>5.0</td>\n",
       "      <td>2966.21</td>\n",
       "      <td>3.0</td>\n",
       "      <td>Kelly</td>\n",
       "      <td>Cole</td>\n",
       "      <td>74</td>\n",
       "      <td>above 65</td>\n",
       "      <td>Atlanta-Sandy Springs-Roswell, GA MSA</td>\n",
       "    </tr>\n",
       "    <tr>\n",
       "      <th>750</th>\n",
       "      <td>1482</td>\n",
       "      <td>10</td>\n",
       "      <td>ultimate</td>\n",
       "      <td>0.0</td>\n",
       "      <td>0.0</td>\n",
       "      <td>2.0</td>\n",
       "      <td>0.00</td>\n",
       "      <td>0.0</td>\n",
       "      <td>Armand</td>\n",
       "      <td>Glenn</td>\n",
       "      <td>70</td>\n",
       "      <td>above 65</td>\n",
       "      <td>New York-Newark-Jersey City, NY-NJ-PA MSA</td>\n",
       "    </tr>\n",
       "    <tr>\n",
       "      <th>751</th>\n",
       "      <td>1108</td>\n",
       "      <td>12</td>\n",
       "      <td>ultimate</td>\n",
       "      <td>0.0</td>\n",
       "      <td>0.0</td>\n",
       "      <td>0.0</td>\n",
       "      <td>233.17</td>\n",
       "      <td>1.0</td>\n",
       "      <td>Porfirio</td>\n",
       "      <td>Kane</td>\n",
       "      <td>45</td>\n",
       "      <td>36-45</td>\n",
       "      <td>Salt Lake City, UT MSA</td>\n",
       "    </tr>\n",
       "    <tr>\n",
       "      <th>752</th>\n",
       "      <td>1311</td>\n",
       "      <td>6</td>\n",
       "      <td>ultimate</td>\n",
       "      <td>0.0</td>\n",
       "      <td>0.0</td>\n",
       "      <td>0.0</td>\n",
       "      <td>1498.83</td>\n",
       "      <td>2.0</td>\n",
       "      <td>Cherlyn</td>\n",
       "      <td>Saunders</td>\n",
       "      <td>69</td>\n",
       "      <td>above 65</td>\n",
       "      <td>Memphis, TN-MS-AR MSA</td>\n",
       "    </tr>\n",
       "  </tbody>\n",
       "</table>\n",
       "</div>"
      ],
      "text/plain": [
       "     user_id  month      plan  calls_duration  calls  messages   mb_used  \\\n",
       "748     1204     12  ultimate             0.0    0.0      78.0  36730.05   \n",
       "749     1224      6  ultimate             0.0    0.0       5.0   2966.21   \n",
       "750     1482     10  ultimate             0.0    0.0       2.0      0.00   \n",
       "751     1108     12  ultimate             0.0    0.0       0.0    233.17   \n",
       "752     1311      6  ultimate             0.0    0.0       0.0   1498.83   \n",
       "\n",
       "     gb_used first_name last_name  age age_group  \\\n",
       "748     37.0     Sherly      Levy   44     36-45   \n",
       "749      3.0      Kelly      Cole   74  above 65   \n",
       "750      0.0     Armand     Glenn   70  above 65   \n",
       "751      1.0   Porfirio      Kane   45     36-45   \n",
       "752      2.0    Cherlyn  Saunders   69  above 65   \n",
       "\n",
       "                                          city  \n",
       "748     Chicago-Naperville-Elgin, IL-IN-WI MSA  \n",
       "749      Atlanta-Sandy Springs-Roswell, GA MSA  \n",
       "750  New York-Newark-Jersey City, NY-NJ-PA MSA  \n",
       "751                     Salt Lake City, UT MSA  \n",
       "752                      Memphis, TN-MS-AR MSA  "
      ]
     },
     "execution_count": 35,
     "metadata": {},
     "output_type": "execute_result"
    }
   ],
   "source": [
    "# make two set with the source for the merge\n",
    "data_surf = [calls_pt.query('plan == \"surf\"'), messages_pt_surf, internet_pt_surf]\n",
    "data_ultimate = [calls_pt.query('plan == \"ultimate\"'), messages_pt_ultimate, internet_pt_ultimate]\n",
    "\n",
    "# merge the surfs plan data\n",
    "used_surf = reduce(lambda left, right:pd.merge(left, right, on = ['user_id', 'month'], how = 'outer'), data_surf)\n",
    "\n",
    "# make the set for merge surfs plan data and users data  \n",
    "data_users_surf = [used_surf, users.loc[:, 'user_id':'city']]\n",
    "\n",
    "#merge surfs plan data and users data  \n",
    "users_used_surf = reduce(lambda left, right:pd.merge(left, right, on = ['user_id'], how = 'left'), data_users_surf)\n",
    "\n",
    "# merge the ultimate plan data\n",
    "used_ultimate = reduce(lambda left, right:pd.merge(left, right, on = ['user_id', 'month'], how = 'outer'), data_ultimate)\n",
    "\n",
    "# make the set for merge ultimates plan data and users data \n",
    "data_users_ultimate = [used_ultimate, users.loc[:, 'user_id':'city']]\n",
    "\n",
    "#merge ultimates plan data and users data\n",
    "users_used_ultimate = reduce(lambda left, right:pd.merge(left, right, on = ['user_id'], how = 'left'), data_users_ultimate)\n",
    "\n",
    "# filling the missing value in the column \"plan\" at both data frames\n",
    "users_used_surf.plan.fillna(value = 'surf', inplace = True)\n",
    "users_used_ultimate.plan.fillna(value = 'ultimate', inplace = True)\n",
    "\n",
    "# filling the missing value by 0 at both data frames\n",
    "users_used_surf.fillna(value = 0, inplace = True)\n",
    "users_used_ultimate.fillna(value = 0, inplace = True)\n",
    "\n",
    "# print the samples of both data frames\n",
    "users_used_surf.tail()\n",
    "users_used_ultimate.tail()"
   ]
  },
  {
   "cell_type": "code",
   "execution_count": 36,
   "metadata": {},
   "outputs": [
    {
     "data": {
      "text/html": [
       "<div>\n",
       "<style scoped>\n",
       "    .dataframe tbody tr th:only-of-type {\n",
       "        vertical-align: middle;\n",
       "    }\n",
       "\n",
       "    .dataframe tbody tr th {\n",
       "        vertical-align: top;\n",
       "    }\n",
       "\n",
       "    .dataframe thead th {\n",
       "        text-align: right;\n",
       "    }\n",
       "</style>\n",
       "<table border=\"1\" class=\"dataframe\">\n",
       "  <thead>\n",
       "    <tr style=\"text-align: right;\">\n",
       "      <th></th>\n",
       "      <th>messages_included</th>\n",
       "      <th>mb_per_month_included</th>\n",
       "      <th>minutes_included</th>\n",
       "      <th>usd_monthly_pay</th>\n",
       "      <th>usd_per_gb</th>\n",
       "      <th>usd_per_message</th>\n",
       "      <th>usd_per_minute</th>\n",
       "      <th>plan_name</th>\n",
       "    </tr>\n",
       "  </thead>\n",
       "  <tbody>\n",
       "    <tr>\n",
       "      <th>0</th>\n",
       "      <td>50</td>\n",
       "      <td>15360</td>\n",
       "      <td>500</td>\n",
       "      <td>20</td>\n",
       "      <td>10</td>\n",
       "      <td>0.03</td>\n",
       "      <td>0.03</td>\n",
       "      <td>surf</td>\n",
       "    </tr>\n",
       "    <tr>\n",
       "      <th>1</th>\n",
       "      <td>1000</td>\n",
       "      <td>30720</td>\n",
       "      <td>3000</td>\n",
       "      <td>70</td>\n",
       "      <td>7</td>\n",
       "      <td>0.01</td>\n",
       "      <td>0.01</td>\n",
       "      <td>ultimate</td>\n",
       "    </tr>\n",
       "  </tbody>\n",
       "</table>\n",
       "</div>"
      ],
      "text/plain": [
       "   messages_included  mb_per_month_included  minutes_included  \\\n",
       "0                 50                  15360               500   \n",
       "1               1000                  30720              3000   \n",
       "\n",
       "   usd_monthly_pay  usd_per_gb  usd_per_message  usd_per_minute plan_name  \n",
       "0               20          10             0.03            0.03      surf  \n",
       "1               70           7             0.01            0.01  ultimate  "
      ]
     },
     "execution_count": 36,
     "metadata": {},
     "output_type": "execute_result"
    }
   ],
   "source": [
    "# Add the plan information\n",
    "\n",
    "plans"
   ]
  },
  {
   "cell_type": "markdown",
   "metadata": {},
   "source": [
    "I'm going to calculate the monthly revenue from each user. To finish this I'll make a function, subtracting the free package limit from the total number of calls, text messages, and data. After this, it will multiply the result by the calling plan value, and add the monthly charge depending on the calling plan."
   ]
  },
  {
   "cell_type": "code",
   "execution_count": 37,
   "metadata": {
    "scrolled": false
   },
   "outputs": [
    {
     "data": {
      "text/html": [
       "<div>\n",
       "<style scoped>\n",
       "    .dataframe tbody tr th:only-of-type {\n",
       "        vertical-align: middle;\n",
       "    }\n",
       "\n",
       "    .dataframe tbody tr th {\n",
       "        vertical-align: top;\n",
       "    }\n",
       "\n",
       "    .dataframe thead th {\n",
       "        text-align: right;\n",
       "    }\n",
       "</style>\n",
       "<table border=\"1\" class=\"dataframe\">\n",
       "  <thead>\n",
       "    <tr style=\"text-align: right;\">\n",
       "      <th></th>\n",
       "      <th>user_id</th>\n",
       "      <th>month</th>\n",
       "      <th>plan</th>\n",
       "      <th>calls_duration</th>\n",
       "      <th>calls</th>\n",
       "      <th>messages</th>\n",
       "      <th>mb_used</th>\n",
       "      <th>gb_used</th>\n",
       "      <th>first_name</th>\n",
       "      <th>last_name</th>\n",
       "      <th>age</th>\n",
       "      <th>age_group</th>\n",
       "      <th>city</th>\n",
       "      <th>total_cost</th>\n",
       "    </tr>\n",
       "  </thead>\n",
       "  <tbody>\n",
       "    <tr>\n",
       "      <th>0</th>\n",
       "      <td>1001</td>\n",
       "      <td>8</td>\n",
       "      <td>surf</td>\n",
       "      <td>182.0</td>\n",
       "      <td>27.0</td>\n",
       "      <td>30.0</td>\n",
       "      <td>6919.15</td>\n",
       "      <td>7.0</td>\n",
       "      <td>Mickey</td>\n",
       "      <td>Wilkerson</td>\n",
       "      <td>28</td>\n",
       "      <td>26-35</td>\n",
       "      <td>Seattle-Tacoma-Bellevue, WA MSA</td>\n",
       "      <td>20.00</td>\n",
       "    </tr>\n",
       "    <tr>\n",
       "      <th>1</th>\n",
       "      <td>1001</td>\n",
       "      <td>9</td>\n",
       "      <td>surf</td>\n",
       "      <td>315.0</td>\n",
       "      <td>49.0</td>\n",
       "      <td>44.0</td>\n",
       "      <td>13314.82</td>\n",
       "      <td>14.0</td>\n",
       "      <td>Mickey</td>\n",
       "      <td>Wilkerson</td>\n",
       "      <td>28</td>\n",
       "      <td>26-35</td>\n",
       "      <td>Seattle-Tacoma-Bellevue, WA MSA</td>\n",
       "      <td>20.00</td>\n",
       "    </tr>\n",
       "    <tr>\n",
       "      <th>2</th>\n",
       "      <td>1001</td>\n",
       "      <td>10</td>\n",
       "      <td>surf</td>\n",
       "      <td>393.0</td>\n",
       "      <td>65.0</td>\n",
       "      <td>53.0</td>\n",
       "      <td>22330.49</td>\n",
       "      <td>23.0</td>\n",
       "      <td>Mickey</td>\n",
       "      <td>Wilkerson</td>\n",
       "      <td>28</td>\n",
       "      <td>26-35</td>\n",
       "      <td>Seattle-Tacoma-Bellevue, WA MSA</td>\n",
       "      <td>100.09</td>\n",
       "    </tr>\n",
       "    <tr>\n",
       "      <th>3</th>\n",
       "      <td>1001</td>\n",
       "      <td>11</td>\n",
       "      <td>surf</td>\n",
       "      <td>426.0</td>\n",
       "      <td>64.0</td>\n",
       "      <td>36.0</td>\n",
       "      <td>18504.30</td>\n",
       "      <td>19.0</td>\n",
       "      <td>Mickey</td>\n",
       "      <td>Wilkerson</td>\n",
       "      <td>28</td>\n",
       "      <td>26-35</td>\n",
       "      <td>Seattle-Tacoma-Bellevue, WA MSA</td>\n",
       "      <td>60.00</td>\n",
       "    </tr>\n",
       "    <tr>\n",
       "      <th>4</th>\n",
       "      <td>1001</td>\n",
       "      <td>12</td>\n",
       "      <td>surf</td>\n",
       "      <td>412.0</td>\n",
       "      <td>56.0</td>\n",
       "      <td>44.0</td>\n",
       "      <td>19369.18</td>\n",
       "      <td>20.0</td>\n",
       "      <td>Mickey</td>\n",
       "      <td>Wilkerson</td>\n",
       "      <td>28</td>\n",
       "      <td>26-35</td>\n",
       "      <td>Seattle-Tacoma-Bellevue, WA MSA</td>\n",
       "      <td>70.00</td>\n",
       "    </tr>\n",
       "  </tbody>\n",
       "</table>\n",
       "</div>"
      ],
      "text/plain": [
       "   user_id  month  plan  calls_duration  calls  messages   mb_used  gb_used  \\\n",
       "0     1001      8  surf           182.0   27.0      30.0   6919.15      7.0   \n",
       "1     1001      9  surf           315.0   49.0      44.0  13314.82     14.0   \n",
       "2     1001     10  surf           393.0   65.0      53.0  22330.49     23.0   \n",
       "3     1001     11  surf           426.0   64.0      36.0  18504.30     19.0   \n",
       "4     1001     12  surf           412.0   56.0      44.0  19369.18     20.0   \n",
       "\n",
       "  first_name  last_name  age age_group                             city  \\\n",
       "0     Mickey  Wilkerson   28     26-35  Seattle-Tacoma-Bellevue, WA MSA   \n",
       "1     Mickey  Wilkerson   28     26-35  Seattle-Tacoma-Bellevue, WA MSA   \n",
       "2     Mickey  Wilkerson   28     26-35  Seattle-Tacoma-Bellevue, WA MSA   \n",
       "3     Mickey  Wilkerson   28     26-35  Seattle-Tacoma-Bellevue, WA MSA   \n",
       "4     Mickey  Wilkerson   28     26-35  Seattle-Tacoma-Bellevue, WA MSA   \n",
       "\n",
       "   total_cost  \n",
       "0       20.00  \n",
       "1       20.00  \n",
       "2      100.09  \n",
       "3       60.00  \n",
       "4       70.00  "
      ]
     },
     "execution_count": 37,
     "metadata": {},
     "output_type": "execute_result"
    },
    {
     "data": {
      "text/html": [
       "<div>\n",
       "<style scoped>\n",
       "    .dataframe tbody tr th:only-of-type {\n",
       "        vertical-align: middle;\n",
       "    }\n",
       "\n",
       "    .dataframe tbody tr th {\n",
       "        vertical-align: top;\n",
       "    }\n",
       "\n",
       "    .dataframe thead th {\n",
       "        text-align: right;\n",
       "    }\n",
       "</style>\n",
       "<table border=\"1\" class=\"dataframe\">\n",
       "  <thead>\n",
       "    <tr style=\"text-align: right;\">\n",
       "      <th></th>\n",
       "      <th>user_id</th>\n",
       "      <th>month</th>\n",
       "      <th>plan</th>\n",
       "      <th>calls_duration</th>\n",
       "      <th>calls</th>\n",
       "      <th>messages</th>\n",
       "      <th>mb_used</th>\n",
       "      <th>gb_used</th>\n",
       "      <th>first_name</th>\n",
       "      <th>last_name</th>\n",
       "      <th>age</th>\n",
       "      <th>age_group</th>\n",
       "      <th>city</th>\n",
       "      <th>total_cost</th>\n",
       "    </tr>\n",
       "  </thead>\n",
       "  <tbody>\n",
       "    <tr>\n",
       "      <th>0</th>\n",
       "      <td>1000</td>\n",
       "      <td>12</td>\n",
       "      <td>ultimate</td>\n",
       "      <td>124.0</td>\n",
       "      <td>16.0</td>\n",
       "      <td>11.0</td>\n",
       "      <td>1901.47</td>\n",
       "      <td>2.0</td>\n",
       "      <td>Anamaria</td>\n",
       "      <td>Bauer</td>\n",
       "      <td>45</td>\n",
       "      <td>36-45</td>\n",
       "      <td>Atlanta-Sandy Springs-Roswell, GA MSA</td>\n",
       "      <td>70.0</td>\n",
       "    </tr>\n",
       "    <tr>\n",
       "      <th>1</th>\n",
       "      <td>1006</td>\n",
       "      <td>11</td>\n",
       "      <td>ultimate</td>\n",
       "      <td>10.0</td>\n",
       "      <td>2.0</td>\n",
       "      <td>15.0</td>\n",
       "      <td>2068.37</td>\n",
       "      <td>3.0</td>\n",
       "      <td>Jesusa</td>\n",
       "      <td>Bradford</td>\n",
       "      <td>73</td>\n",
       "      <td>above 65</td>\n",
       "      <td>San Francisco-Oakland-Berkeley, CA MSA</td>\n",
       "      <td>70.0</td>\n",
       "    </tr>\n",
       "    <tr>\n",
       "      <th>2</th>\n",
       "      <td>1006</td>\n",
       "      <td>12</td>\n",
       "      <td>ultimate</td>\n",
       "      <td>36.0</td>\n",
       "      <td>7.0</td>\n",
       "      <td>89.0</td>\n",
       "      <td>20267.44</td>\n",
       "      <td>21.0</td>\n",
       "      <td>Jesusa</td>\n",
       "      <td>Bradford</td>\n",
       "      <td>73</td>\n",
       "      <td>above 65</td>\n",
       "      <td>San Francisco-Oakland-Berkeley, CA MSA</td>\n",
       "      <td>70.0</td>\n",
       "    </tr>\n",
       "    <tr>\n",
       "      <th>3</th>\n",
       "      <td>1008</td>\n",
       "      <td>10</td>\n",
       "      <td>ultimate</td>\n",
       "      <td>476.0</td>\n",
       "      <td>71.0</td>\n",
       "      <td>21.0</td>\n",
       "      <td>17106.99</td>\n",
       "      <td>18.0</td>\n",
       "      <td>Emely</td>\n",
       "      <td>Hoffman</td>\n",
       "      <td>53</td>\n",
       "      <td>46-55</td>\n",
       "      <td>Orlando-Kissimmee-Sanford, FL MSA</td>\n",
       "      <td>70.0</td>\n",
       "    </tr>\n",
       "    <tr>\n",
       "      <th>4</th>\n",
       "      <td>1008</td>\n",
       "      <td>11</td>\n",
       "      <td>ultimate</td>\n",
       "      <td>446.0</td>\n",
       "      <td>63.0</td>\n",
       "      <td>37.0</td>\n",
       "      <td>23676.72</td>\n",
       "      <td>24.0</td>\n",
       "      <td>Emely</td>\n",
       "      <td>Hoffman</td>\n",
       "      <td>53</td>\n",
       "      <td>46-55</td>\n",
       "      <td>Orlando-Kissimmee-Sanford, FL MSA</td>\n",
       "      <td>70.0</td>\n",
       "    </tr>\n",
       "  </tbody>\n",
       "</table>\n",
       "</div>"
      ],
      "text/plain": [
       "   user_id  month      plan  calls_duration  calls  messages   mb_used  \\\n",
       "0     1000     12  ultimate           124.0   16.0      11.0   1901.47   \n",
       "1     1006     11  ultimate            10.0    2.0      15.0   2068.37   \n",
       "2     1006     12  ultimate            36.0    7.0      89.0  20267.44   \n",
       "3     1008     10  ultimate           476.0   71.0      21.0  17106.99   \n",
       "4     1008     11  ultimate           446.0   63.0      37.0  23676.72   \n",
       "\n",
       "   gb_used first_name last_name  age age_group  \\\n",
       "0      2.0   Anamaria     Bauer   45     36-45   \n",
       "1      3.0     Jesusa  Bradford   73  above 65   \n",
       "2     21.0     Jesusa  Bradford   73  above 65   \n",
       "3     18.0      Emely   Hoffman   53     46-55   \n",
       "4     24.0      Emely   Hoffman   53     46-55   \n",
       "\n",
       "                                     city  total_cost  \n",
       "0   Atlanta-Sandy Springs-Roswell, GA MSA        70.0  \n",
       "1  San Francisco-Oakland-Berkeley, CA MSA        70.0  \n",
       "2  San Francisco-Oakland-Berkeley, CA MSA        70.0  \n",
       "3       Orlando-Kissimmee-Sanford, FL MSA        70.0  \n",
       "4       Orlando-Kissimmee-Sanford, FL MSA        70.0  "
      ]
     },
     "execution_count": 37,
     "metadata": {},
     "output_type": "execute_result"
    }
   ],
   "source": [
    "# Calculate the monthly revenue for each user\n",
    "\n",
    "def cost(row):\n",
    "    # definitions of variable values\n",
    "    duration = row['calls_duration']\n",
    "    message = row['messages']\n",
    "    gb_used = row['gb_used']\n",
    "    mb_used = row['mb_used']\n",
    "    plan = row['plan']\n",
    "    # make counters\n",
    "    plan_cost = 0\n",
    "    calls_cost = 0\n",
    "    message_cost = 0\n",
    "    internet_cost = 0\n",
    "    total_cost = 0\n",
    "    # get limits of the internet by plans\n",
    "    gb_included_ultimate = 30\n",
    "    gb_included_surf = 15\n",
    "    # loops for ultimate plan\n",
    "    if plan == 'ultimate':\n",
    "        plan_cost = plans.usd_monthly_pay.max()\n",
    "        calls_cost = np.where(duration< plans.minutes_included.max(), 0, (duration - plans.minutes_included.max())*plans.usd_per_minute.min())\n",
    "        message_cost = np.where(message < plans.messages_included.max(), 0, (message - plans.messages_included.max())*plans.usd_per_message.min())\n",
    "        internet_cost = np.where(mb_used < plans.mb_per_month_included.max(), 0, (gb_used - gb_included_ultimate)*plans.usd_per_gb.min())\n",
    "    #loops for surf plan\n",
    "    if plan == 'surf':\n",
    "        plan_cost = plans.usd_monthly_pay.min()\n",
    "        calls_cost = np.where(duration< plans.minutes_included.min(), 0, (duration - plans.minutes_included.min())*plans.usd_per_minute.max())\n",
    "        message_cost = np.where(message < plans.messages_included.min(), 0, (message - plans.messages_included.min())*plans.usd_per_message.max())\n",
    "        internet_cost = np.where(mb_used < plans.mb_per_month_included.min(), 0, (gb_used - gb_included_surf)*plans.usd_per_gb.max())\n",
    "    total_cost = plan_cost + calls_cost + message_cost + internet_cost\n",
    "    return total_cost\n",
    "\n",
    "#add calculations to the new columns \"total_cost\"\n",
    "users_used_surf['total_cost'] = users_used_surf.apply(cost, axis = 1)\n",
    "users_used_ultimate['total_cost'] = users_used_ultimate.apply(cost, axis = 1)\n",
    "\n",
    "#print samples of data frames\n",
    "users_used_surf.head()\n",
    "users_used_ultimate.head()\n",
    "\n",
    "#concating data frames to one \"user_used\"\n",
    "users_used = pd.concat([users_used_surf, users_used_ultimate])"
   ]
  },
  {
   "cell_type": "markdown",
   "metadata": {},
   "source": [
    "### Conclusion 2\n",
    "\n",
    "At this stage of the project we:\\\n",
    "For each of the data frames: calls, messages, Internet - we created a pivot table, where we aggregated data by client and month. Where it was necessary - changed the names of the columns and reset the index.\\\n",
    "In the created tables messages_pt and internet_pt, we changed the arrangement of the columns and created slices for each plan separately.\\\n",
    "Using the redux function, we merged three tables and added personal data from the user's data frame.\\\n",
    "We filled in all the empty values in the plan column, in accordance with the plan for which the table was compiled. After that, all remaining missing values were filled in with zero.\\\n",
    "Next, we created a function for calculating revenue from each user and calculated it.\\\n",
    "Well, after that concating data frames to one \"user_used\"."
   ]
  },
  {
   "cell_type": "markdown",
   "metadata": {},
   "source": [
    "## Study user behaviour"
   ]
  },
  {
   "cell_type": "markdown",
   "metadata": {},
   "source": [
    "At this stage, I plan to calculate the indicators of mathematical expectation, standard deviation, as well as the coefficient of variation for each plan, for each service (communication, messages, Internet). Also, I’ll look at the graphs to see how the averages are distributed and what volume of services users of different plans used.\\\n",
    "In the end, I want to build a correlation graph. Let's get started."
   ]
  },
  {
   "cell_type": "markdown",
   "metadata": {},
   "source": [
    "### Calls"
   ]
  },
  {
   "cell_type": "code",
   "execution_count": 38,
   "metadata": {},
   "outputs": [
    {
     "data": {
      "text/plain": [
       "<matplotlib.lines.Line2D at 0x255195e0e20>"
      ]
     },
     "execution_count": 38,
     "metadata": {},
     "output_type": "execute_result"
    },
    {
     "data": {
      "text/plain": [
       "<matplotlib.legend.Legend at 0x255194a79d0>"
      ]
     },
     "execution_count": 38,
     "metadata": {},
     "output_type": "execute_result"
    },
    {
     "data": {
      "image/png": "[encoded data removed]",
      "text/plain": [
       "<Figure size 576x504 with 1 Axes>"
      ]
     },
     "metadata": {
      "needs_background": "light"
     },
     "output_type": "display_data"
    }
   ],
   "source": [
    "# Compare average duration of calls per each plan per each distinct month. Plot a bar plat to visualize it.\n",
    "\n",
    "calls_avg_duration_monthly = pd.DataFrame(users_used.groupby(['plan','month'])['calls_duration'].mean()).reset_index()\n",
    "fig, ax = plt.subplots(figsize=(8,7))\n",
    "ax = sns.barplot(data = calls_avg_duration_monthly, x='month', y='calls_duration', hue = 'plan').set(title=\"The average duration of calls is below the plan's limit duration included.\", xlabel = 'month', ylabel='duration')\n",
    "plt.axhline(y=500, xmin=0, xmax=13, c=\"red\", label= 'plan \"surf\" minutes included')\n",
    "plt.legend(loc='center left', bbox_to_anchor=(1, 0.5))\n",
    "plt.show()"
   ]
  },
  {
   "cell_type": "code",
   "execution_count": 39,
   "metadata": {},
   "outputs": [
    {
     "data": {
      "text/plain": [
       "[Text(0, 0.5, 'number of users')]"
      ]
     },
     "execution_count": 39,
     "metadata": {},
     "output_type": "execute_result"
    },
    {
     "data": {
      "text/plain": [
       "[Text(0.5, 1.0, 'The duration of calls is increased to the proportion of an increasing number of users.'),\n",
       " Text(0.5, 0, 'month'),\n",
       " Text(0, 0.5, 'duration')]"
      ]
     },
     "execution_count": 39,
     "metadata": {},
     "output_type": "execute_result"
    },
    {
     "data": {
      "image/png": "[encoded data removed]",
      "text/plain": [
       "<Figure size 1152x576 with 2 Axes>"
      ]
     },
     "metadata": {
      "needs_background": "light"
     },
     "output_type": "display_data"
    }
   ],
   "source": [
    "# Compare the calls duration users of each plan require each month. Plot a barchart.\n",
    "calls_monthly_pt = users_used.pivot_table(index = ['plan', 'month'], values=['calls_duration', 'user_id'],aggfunc = {'calls_duration':'sum', 'user_id':'count'}).reset_index()\n",
    "calls_monthly_pt.month = calls_monthly_pt.month.astype('str')\n",
    "\n",
    "#calls_monthly_pt\n",
    "fig, ax1 = plt.subplots(figsize=(16,8))\n",
    "sns.lineplot(data=calls_monthly_pt, x='month', y='user_id',marker = 'o',hue = 'plan', sort = False, ax=ax1).set(ylabel = 'number of users')\n",
    "ax2 = ax1.twinx()\n",
    "sns.barplot(data = calls_monthly_pt, x='month', y='calls_duration', hue = 'plan', alpha=0.8, ax=ax2).set(title = 'The duration of calls is increased to the proportion of an increasing number of users.', xlabel = 'month', ylabel = 'duration')\n",
    "plt.show()"
   ]
  },
  {
   "cell_type": "code",
   "execution_count": 40,
   "metadata": {},
   "outputs": [
    {
     "data": {
      "image/png": "[encoded data removed]",
      "text/plain": [
       "<Figure size 576x504 with 1 Axes>"
      ]
     },
     "metadata": {
      "needs_background": "light"
     },
     "output_type": "display_data"
    }
   ],
   "source": [
    "# Looks at the distribution of the number the calls by plans. Plot a boxplot.\n",
    "\n",
    "# grouped the data for building the boxplot\n",
    "calls_number = pd.DataFrame(users_used.groupby(['plan','month'])['calls'].mean()).reset_index()\n",
    "\n",
    "#ploting\n",
    "fig, ax = plt.subplots(figsize=(8,7))\n",
    "ax = sns.boxplot(data = calls_number, x ='plan', y='calls', showfliers = False).set(title = 'Distribution of the number of calls for the ultimate plan has less IQR.', xlabel='plans', ylabel='number')\n",
    "plt.show()"
   ]
  },
  {
   "cell_type": "markdown",
   "metadata": {},
   "source": [
    "Now, I'm going to calculate the mean, the variable of the call duration, and the coefficient of variation to look at whether users on the different plans have different behaviors for their calls."
   ]
  },
  {
   "cell_type": "code",
   "execution_count": 41,
   "metadata": {},
   "outputs": [
    {
     "data": {
      "text/plain": [
       "[Text(0.5, 1.0, 'Disrtibution of calls duration by plans'),\n",
       " Text(0.5, 0, 'duration'),\n",
       " Text(0, 0.5, 'frequency')]"
      ]
     },
     "execution_count": 41,
     "metadata": {},
     "output_type": "execute_result"
    },
    {
     "data": {
      "text/plain": [
       "[Text(0.5, 1.0, 'Disrtibution of calls duration by plans'),\n",
       " Text(0.5, 0, 'plans'),\n",
       " Text(0, 0.5, 'duration')]"
      ]
     },
     "execution_count": 41,
     "metadata": {},
     "output_type": "execute_result"
    },
    {
     "data": {
      "image/png": "[encoded data removed]",
      "text/plain": [
       "<Figure size 1152x576 with 2 Axes>"
      ]
     },
     "metadata": {
      "needs_background": "light"
     },
     "output_type": "display_data"
    },
    {
     "name": "stdout",
     "output_type": "stream",
     "text": [
      "\n"
     ]
    },
    {
     "data": {
      "text/html": [
       "<div>\n",
       "<style scoped>\n",
       "    .dataframe tbody tr th:only-of-type {\n",
       "        vertical-align: middle;\n",
       "    }\n",
       "\n",
       "    .dataframe tbody tr th {\n",
       "        vertical-align: top;\n",
       "    }\n",
       "\n",
       "    .dataframe thead th {\n",
       "        text-align: right;\n",
       "    }\n",
       "</style>\n",
       "<table border=\"1\" class=\"dataframe\">\n",
       "  <thead>\n",
       "    <tr style=\"text-align: right;\">\n",
       "      <th>plan</th>\n",
       "      <th>surf</th>\n",
       "      <th>ultimate</th>\n",
       "    </tr>\n",
       "  </thead>\n",
       "  <tbody>\n",
       "    <tr>\n",
       "      <th>mean</th>\n",
       "      <td>425.140575</td>\n",
       "      <td>423.641434</td>\n",
       "    </tr>\n",
       "    <tr>\n",
       "      <th>var</th>\n",
       "      <td>55410.023704</td>\n",
       "      <td>57766.740940</td>\n",
       "    </tr>\n",
       "    <tr>\n",
       "      <th>std</th>\n",
       "      <td>235.393338</td>\n",
       "      <td>240.347126</td>\n",
       "    </tr>\n",
       "  </tbody>\n",
       "</table>\n",
       "</div>"
      ],
      "text/plain": [
       "plan          surf      ultimate\n",
       "mean    425.140575    423.641434\n",
       "var   55410.023704  57766.740940\n",
       "std     235.393338    240.347126"
      ]
     },
     "execution_count": 41,
     "metadata": {},
     "output_type": "execute_result"
    },
    {
     "name": "stdout",
     "output_type": "stream",
     "text": [
      "----------------------------------------\n",
      "For plan Surf\n",
      "\n",
      "Average is  425.14\n",
      "Centered around average\n",
      "Most of the data can be found in range: 0 -  1130.0\n",
      "----------------------------------------\n",
      "\n",
      "For plan Ultimate\n",
      "\n",
      "Average is  423.64\n",
      "Centered around average\n",
      "Most of the data can be found in range: 0 - 1144.0\n",
      "----------------------------------------\n"
     ]
    }
   ],
   "source": [
    "# Calculate the mean and the variance of the monthly call duration\n",
    "\n",
    "fig, axes = plt.subplots(1, 2, figsize=(16, 8))\n",
    "sns.histplot(users_used, x='calls_duration', hue=\"plan\", ax=axes[0]).set(title ='Disrtibution of calls duration by plans', xlabel='duration', ylabel='frequency' )\n",
    "sns.boxplot(data = users_used, x ='plan', y='calls_duration', showfliers = False, ax=axes[1]).set(title ='Disrtibution of calls duration by plans', xlabel='plans', ylabel='duration' )\n",
    "plt.show()\n",
    "print()\n",
    "plans_stat_calls = users_used.groupby('plan')['calls_duration'].agg(['mean', 'var', 'std']).T\n",
    "plans_stat_calls\n",
    "print('----------------------------------------')\n",
    "print('For plan Surf')\n",
    "print()\n",
    "print(f'Average is ', plans_stat_calls.iloc[0, 0].round(2))\n",
    "cv_calls_surf = users_used.loc[users_used.plan == 'surf', 'calls_duration'].std()/users_used.loc[users_used.plan == 'surf', 'calls_duration'].mean()\n",
    "if cv_calls_surf>1:\n",
    "    print(\"Varies a lot\")\n",
    "else:\n",
    "    print('Centered around average')\n",
    "    \n",
    "if (plans_stat_calls.iloc[0, 0] - 3*plans_stat_calls.iloc[2, 0]) < 0:\n",
    "    print(f'Most of the data can be found in range: 0 - ', plans_stat_calls.iloc[0, 0].round(0) + 3*plans_stat_calls.iloc[2, 0].round(0))\n",
    "else:\n",
    "    print(f'Most of the data can be found in range: ', (plans_stat_calls.iloc[0, 0].round(0) - 3*plans_stat_calls.iloc[2, 0].round(0), plans_stat_calls.iloc[0, 0].round(0) + 3*plans_stat_calls.iloc[2, 0].round(0)))\n",
    "print('----------------------------------------')\n",
    "print()\n",
    "print('For plan Ultimate')\n",
    "print()\n",
    "print(f'Average is ', plans_stat_calls.iloc[0, -1].round(2))\n",
    "cv_calls_ultimate = users_used.loc[users_used.plan == 'ultimate', 'calls_duration'].std()/users_used.loc[users_used.plan == 'ultimate', 'calls_duration'].mean()\n",
    "if cv_calls_ultimate>1:\n",
    "    print(\"Varies a lot\")\n",
    "else:\n",
    "    print('Centered around average')\n",
    "    \n",
    "if (plans_stat_calls.iloc[0, -1] - 3*plans_stat_calls.iloc[2, -1]) < 0:\n",
    "    print(f'Most of the data can be found in range: 0 - {plans_stat_calls.iloc[0, -1].round(0) + 3*plans_stat_calls.iloc[2, -1].round(0)}')\n",
    "else:\n",
    "    print(f'Most of the data can be found in range: {(plans_stat_calls.iloc[0, -1].round(0) - 3*plans_stat_calls.iloc[2, -1].round(0), plans_stat_calls.iloc[0, -1].round(0) + 3*plans_stat_calls.iloc[2, -1].round(0))}')\n",
    "print('----------------------------------------')"
   ]
  },
  {
   "cell_type": "markdown",
   "metadata": {},
   "source": [
    "So, we see that the average call duration for users of both plans grew more often over 12 months, but did not even reach the limit for the surf plan **(500 minutes)**, since May it has remained in **the range of 400 - 450 minutes**. Wherein most of the user surf's plan can be found in the range of 0 -  1130.0, for the user ultimate's plan in the range of 0 - 1144.0.\\\n",
    "The total duration of calls also grew but grew in proportion to the growth in the number of users.\\\n",
    "Calculations and the distribution graph showed that the mathematical expectation of the users of the ultimate plan **(424 minutes)** is very close to the mathematical expectation of the surf plan **(425 minutes)**. Also, for users of both plans, the coefficient of variation is less than one, which means that in both distributions, the variations are centered around the average.\\\n",
    "What makes the users of these plans slightly different is the distribution of the number of calls. Although the main indicators (mathematical expectation, standard deviation) also do not differ much, users of the surf plan have less IQR, which tells us that the data is more densely distributed (users behave more similarly).\\\n",
    "To sum up - users of the ultimate plan and the surf plan on average have similar call duration, but users of the ultimate plan call more often. But this service is not critical for users, the number of minutes provided monthly even in terms of surf is enough not just for users of the surf, but for users of the ultimate too."
   ]
  },
  {
   "cell_type": "markdown",
   "metadata": {},
   "source": [
    " "
   ]
  },
  {
   "cell_type": "markdown",
   "metadata": {},
   "source": [
    "### Messages"
   ]
  },
  {
   "cell_type": "code",
   "execution_count": 42,
   "metadata": {},
   "outputs": [
    {
     "data": {
      "image/png": "[encoded data removed]",
      "text/plain": [
       "<Figure size 576x504 with 1 Axes>"
      ]
     },
     "metadata": {
      "needs_background": "light"
     },
     "output_type": "display_data"
    }
   ],
   "source": [
    "# Compare the average number of messages users of each plan tend to send each month\n",
    "messagess_avg_number_monthly = pd.DataFrame(users_used.groupby(['plan','month'])['messages'].mean()).reset_index()\n",
    "\n",
    "fig, ax = plt.subplots(figsize=(8,7))\n",
    "ax = sns.barplot(data = messagess_avg_number_monthly, x='month', y='messages', hue = 'plan').set(title=\"The average number of messages is below the plan's limit messages included.\", xlabel= 'month', ylabel='messages')\n",
    "plt.axhline(y=50, xmin=0, xmax=13, c=\"red\", label= 'plan \"surf\" messages included')\n",
    "plt.legend(loc='center left', bbox_to_anchor=(1, 0.5))\n",
    "plt.show();\n"
   ]
  },
  {
   "cell_type": "code",
   "execution_count": 43,
   "metadata": {},
   "outputs": [
    {
     "data": {
      "image/png": "[encoded data removed]",
      "text/plain": [
       "<Figure size 1152x576 with 2 Axes>"
      ]
     },
     "metadata": {
      "needs_background": "light"
     },
     "output_type": "display_data"
    }
   ],
   "source": [
    "# Compare the number of messages users of each plan require each month. Plot a barchart.\n",
    "message_monthly_pt = users_used.pivot_table(index = ['plan', 'month'], values=['messages', 'user_id'],aggfunc = 'count').reset_index()\n",
    "message_monthly_pt.month = message_monthly_pt.month.astype('str')\n",
    "\n",
    "fig, ax1 = plt.subplots(figsize=(16,8))\n",
    "sns.lineplot(data=message_monthly_pt, x='month', y='user_id',marker = 'o',hue = 'plan', sort = False, ax=ax1).set(ylabel = 'number of users')\n",
    "ax2 = ax1.twinx()\n",
    "sns.barplot(data = message_monthly_pt, x='month', y='messages', hue = 'plan', alpha=0.8, ax=ax2).set(title = 'The number of messages is increased to the proportion of an increasing number of users.', xlabel = 'month', ylabel = 'messages')\n",
    "plt.show();"
   ]
  },
  {
   "cell_type": "code",
   "execution_count": 44,
   "metadata": {
    "scrolled": false
   },
   "outputs": [
    {
     "data": {
      "text/plain": [
       "[Text(0.5, 1.0, 'Disrtibution of messages by plans'),\n",
       " Text(0.5, 0, 'number of messages'),\n",
       " Text(0, 0.5, 'frequency')]"
      ]
     },
     "execution_count": 44,
     "metadata": {},
     "output_type": "execute_result"
    },
    {
     "data": {
      "text/plain": [
       "[Text(0.5, 1.0, 'Disrtibution of messages by plans'),\n",
       " Text(0.5, 0, 'plans'),\n",
       " Text(0, 0.5, 'number of messages')]"
      ]
     },
     "execution_count": 44,
     "metadata": {},
     "output_type": "execute_result"
    },
    {
     "data": {
      "image/png": "[encoded data removed]",
      "text/plain": [
       "<Figure size 1152x576 with 2 Axes>"
      ]
     },
     "metadata": {
      "needs_background": "light"
     },
     "output_type": "display_data"
    },
    {
     "name": "stdout",
     "output_type": "stream",
     "text": [
      "\n"
     ]
    },
    {
     "data": {
      "text/html": [
       "<div>\n",
       "<style scoped>\n",
       "    .dataframe tbody tr th:only-of-type {\n",
       "        vertical-align: middle;\n",
       "    }\n",
       "\n",
       "    .dataframe tbody tr th {\n",
       "        vertical-align: top;\n",
       "    }\n",
       "\n",
       "    .dataframe thead th {\n",
       "        text-align: right;\n",
       "    }\n",
       "</style>\n",
       "<table border=\"1\" class=\"dataframe\">\n",
       "  <thead>\n",
       "    <tr style=\"text-align: right;\">\n",
       "      <th>plan</th>\n",
       "      <th>surf</th>\n",
       "      <th>ultimate</th>\n",
       "    </tr>\n",
       "  </thead>\n",
       "  <tbody>\n",
       "    <tr>\n",
       "      <th>mean</th>\n",
       "      <td>30.827476</td>\n",
       "      <td>36.926959</td>\n",
       "    </tr>\n",
       "    <tr>\n",
       "      <th>var</th>\n",
       "      <td>1116.887096</td>\n",
       "      <td>1184.280562</td>\n",
       "    </tr>\n",
       "    <tr>\n",
       "      <th>std</th>\n",
       "      <td>33.419861</td>\n",
       "      <td>34.413378</td>\n",
       "    </tr>\n",
       "  </tbody>\n",
       "</table>\n",
       "</div>"
      ],
      "text/plain": [
       "plan         surf     ultimate\n",
       "mean    30.827476    36.926959\n",
       "var   1116.887096  1184.280562\n",
       "std     33.419861    34.413378"
      ]
     },
     "execution_count": 44,
     "metadata": {},
     "output_type": "execute_result"
    },
    {
     "name": "stdout",
     "output_type": "stream",
     "text": [
      "----------------------------------------\n",
      "For plan Surf\n",
      "\n",
      "Average is  30.83\n",
      "Varies a lot\n",
      "Most of the data can be found in range: 0 -  130.0\n",
      "----------------------------------------\n",
      "\n",
      "For plan Ultimate\n",
      "\n",
      "Average is  36.93\n",
      "Centered around average\n",
      "Most of the data can be found in range: 0 -  139.0\n",
      "----------------------------------------\n"
     ]
    }
   ],
   "source": [
    "# Calculate the mean and the variance of the monthly number of messages\n",
    "\n",
    "fig, axes = plt.subplots(1, 2, figsize=(16, 8))\n",
    "sns.histplot(users_used, x='messages', hue=\"plan\", ax=axes[0]).set(title ='Disrtibution of messages by plans', xlabel='number of messages', ylabel='frequency' )\n",
    "sns.boxplot(data = users_used, x ='plan', y='messages', showfliers = False, ax=axes[1]).set(title ='Disrtibution of messages by plans', xlabel='plans', ylabel='number of messages' )\n",
    "plt.show()\n",
    "print()\n",
    "plans_stat_messages = users_used.groupby('plan')['messages'].agg(['mean', 'var', 'std']).T\n",
    "plans_stat_messages\n",
    "print('----------------------------------------')\n",
    "print('For plan Surf')\n",
    "print()\n",
    "print(f'Average is ', plans_stat_messages.iloc[0, 0].round(2))\n",
    "cv_messages_surf = users_used.loc[users_used.plan == 'surf', 'messages'].std()/users_used.loc[users_used.plan == 'surf', 'messages'].mean()\n",
    "if cv_messages_surf>1:\n",
    "    print(\"Varies a lot\")\n",
    "else:\n",
    "    print('Centered around average')\n",
    "    \n",
    "if (plans_stat_messages.iloc[0, 0] - 3*plans_stat_messages.iloc[2, 0]) < 0:\n",
    "    print(f'Most of the data can be found in range: 0 - ', plans_stat_messages.iloc[0, 0].round(0) + 3*plans_stat_messages.iloc[2, 0].round(0))\n",
    "else:\n",
    "    print(f'Most of the data can be found in range: ', (plans_stat_messages.iloc[0, 0].round(0) - 3*plans_stat_messages.iloc[2, 0].round(0), plans_stat_messages.iloc[0, 0].round(0) + 3*plans_stat_messages.iloc[2, 0].round(0)))\n",
    "print('----------------------------------------')\n",
    "print()\n",
    "print('For plan Ultimate')\n",
    "print()\n",
    "print(f'Average is ', plans_stat_messages.iloc[0, -1].round(2))\n",
    "cv_messages_ultimate = users_used.loc[users_used.plan == 'ultimate', 'messages'].std()/users_used.loc[users_used.plan == 'ultimate', 'messages'].mean()\n",
    "if cv_messages_ultimate>1:\n",
    "    print(\"Varies a lot\")\n",
    "else:\n",
    "    print('Centered around average')\n",
    "    \n",
    "if (plans_stat_messages.iloc[0, -1] - 3*plans_stat_messages.iloc[2, -1]) < 0:\n",
    "    print(f'Most of the data can be found in range: 0 - ', plans_stat_messages.iloc[0, -1].round(0) + 3*plans_stat_messages.iloc[2, -1].round(0))\n",
    "else:\n",
    "    print(f'Most of the data can be found in range: ', (plans_stat_messages.iloc[0, -1].round(0) - 3*plans_stat_messages.iloc[2, -1].round(0), plans_stat_messages.iloc[0, -1].round(0) + 3*plans_stat_messages.iloc[2, -1].round(0)))\n",
    "print('----------------------------------------')"
   ]
  },
  {
   "cell_type": "markdown",
   "metadata": {},
   "source": [
    "So we can see that ultra **(37)** plan users, on average, sent more messages than **(31)** surf plan users. Wherein most of the user surf's plan can be found in the range of 0 -  130.0, for the user ultimate's plan in the range of 0 - 139.0.\\\n",
    "The total number of messages grew in proportion to the growth in the number of users, except for December. In December, we see a strong increase in the number of messages among users of the Ultra platform. I guess this is temporary.\\\n",
    "What is interesting is the large standard deviation for both plans, which in turn makes the coefficient of variation reading close to 1.\n",
    "The ultimate plan is 0.93 and the surf plan is 1.08, which tells us that the deviation range is very large.\\\n",
    "In a nutshell - ultra plan users send messages more often than surf plan users, but judging by the high coefficient of variation - this service is not the most popular service for users of both plans. This is also evidenced by the fact that the limit on the number of messages per month has not been fully taken by users of any plan."
   ]
  },
  {
   "cell_type": "markdown",
   "metadata": {},
   "source": [
    " "
   ]
  },
  {
   "cell_type": "markdown",
   "metadata": {},
   "source": [
    "### Internet"
   ]
  },
  {
   "cell_type": "code",
   "execution_count": 45,
   "metadata": {},
   "outputs": [
    {
     "data": {
      "image/png": "[encoded data removed]",
      "text/plain": [
       "<Figure size 576x504 with 1 Axes>"
      ]
     },
     "metadata": {
      "needs_background": "light"
     },
     "output_type": "display_data"
    }
   ],
   "source": [
    "# Compare the average values of megabute used of each plan tend to used each month\n",
    "internet_avg_value_monthly = pd.DataFrame(users_used.groupby(['plan','month'])['mb_used'].mean()).reset_index()\n",
    "\n",
    "fig, ax = plt.subplots(figsize=(8,7))\n",
    "ax = sns.barplot(data = internet_avg_value_monthly, x='month', y='mb_used', hue = 'plan').set(title = 'From July the average value of megabytes used monthly for both plans is above the limit plan \"surf\" megabytes included.', xlabel='month', ylabel='mb used')\n",
    "plt.axhline(y=15360, xmin=0, xmax=13, c=\"red\", label= 'plan \"surf\" megabyte included')\n",
    "plt.legend(loc='center left', bbox_to_anchor=(1, 0.5))\n",
    "plt.show();"
   ]
  },
  {
   "cell_type": "code",
   "execution_count": 46,
   "metadata": {},
   "outputs": [
    {
     "data": {
      "image/png": "[encoded data removed]",
      "text/plain": [
       "<Figure size 1152x576 with 2 Axes>"
      ]
     },
     "metadata": {
      "needs_background": "light"
     },
     "output_type": "display_data"
    }
   ],
   "source": [
    "# Compare the values of megabute used of each plan require each month. Plot a barchart.\n",
    "megabyte_monthly_pt = users_used.pivot_table(index = ['plan', 'month'], values=['mb_used', 'user_id'],aggfunc = {'mb_used':'sum', 'user_id':'count'}).reset_index()\n",
    "megabyte_monthly_pt.month = megabyte_monthly_pt.month.astype('str')\n",
    "\n",
    "fig, ax1 = plt.subplots(figsize=(16,8))\n",
    "sns.lineplot(data=megabyte_monthly_pt, x='month', y='user_id',marker = 'o',hue = 'plan', sort = False, ax=ax1).set(ylabel = 'number of users')\n",
    "ax2 = ax1.twinx()\n",
    "sns.barplot(data = megabyte_monthly_pt, x='month', y='mb_used', hue = 'plan', alpha=0.8, ax=ax2).set(title = 'The value of megabyte used by month is increased to the proportion of an increasing number of users.', xlabel = 'month', ylabel = 'megabyte used')\n",
    "plt.show();"
   ]
  },
  {
   "cell_type": "code",
   "execution_count": 47,
   "metadata": {
    "scrolled": false
   },
   "outputs": [
    {
     "data": {
      "text/plain": [
       "[Text(0.5, 1.0, 'Disrtibution of megabyte by plans'),\n",
       " Text(0.5, 0, 'values of megabyte used'),\n",
       " Text(0, 0.5, 'frequency')]"
      ]
     },
     "execution_count": 47,
     "metadata": {},
     "output_type": "execute_result"
    },
    {
     "data": {
      "text/plain": [
       "[Text(0.5, 1.0, 'Disrtibution of megabyte by plans'),\n",
       " Text(0.5, 0, 'plans'),\n",
       " Text(0, 0.5, 'values of megabyte used')]"
      ]
     },
     "execution_count": 47,
     "metadata": {},
     "output_type": "execute_result"
    },
    {
     "data": {
      "image/png": "[encoded data removed]",
      "text/plain": [
       "<Figure size 1152x576 with 2 Axes>"
      ]
     },
     "metadata": {
      "needs_background": "light"
     },
     "output_type": "display_data"
    },
    {
     "name": "stdout",
     "output_type": "stream",
     "text": [
      "\n"
     ]
    },
    {
     "data": {
      "text/html": [
       "<div>\n",
       "<style scoped>\n",
       "    .dataframe tbody tr th:only-of-type {\n",
       "        vertical-align: middle;\n",
       "    }\n",
       "\n",
       "    .dataframe tbody tr th {\n",
       "        vertical-align: top;\n",
       "    }\n",
       "\n",
       "    .dataframe thead th {\n",
       "        text-align: right;\n",
       "    }\n",
       "</style>\n",
       "<table border=\"1\" class=\"dataframe\">\n",
       "  <thead>\n",
       "    <tr style=\"text-align: right;\">\n",
       "      <th>plan</th>\n",
       "      <th>surf</th>\n",
       "      <th>ultimate</th>\n",
       "    </tr>\n",
       "  </thead>\n",
       "  <tbody>\n",
       "    <tr>\n",
       "      <th>mean</th>\n",
       "      <td>16434.0</td>\n",
       "      <td>16895.0</td>\n",
       "    </tr>\n",
       "    <tr>\n",
       "      <th>var</th>\n",
       "      <td>64317716.0</td>\n",
       "      <td>64117818.0</td>\n",
       "    </tr>\n",
       "    <tr>\n",
       "      <th>std</th>\n",
       "      <td>8020.0</td>\n",
       "      <td>8007.0</td>\n",
       "    </tr>\n",
       "  </tbody>\n",
       "</table>\n",
       "</div>"
      ],
      "text/plain": [
       "plan        surf    ultimate\n",
       "mean     16434.0     16895.0\n",
       "var   64317716.0  64117818.0\n",
       "std       8020.0      8007.0"
      ]
     },
     "execution_count": 47,
     "metadata": {},
     "output_type": "execute_result"
    },
    {
     "name": "stdout",
     "output_type": "stream",
     "text": [
      "----------------------------------------\n",
      "For plan Surf\n",
      "\n",
      "Average is  16433.69\n",
      "Centered around average\n",
      "Most of the data can be found in range: 0 -  40494.0\n",
      "----------------------------------------\n",
      "\n",
      "For plan Ultimate\n",
      "\n",
      "Average is  16895.14\n",
      "Centered around average\n",
      "Most of the data can be found in range: 0 -  40916.0\n",
      "----------------------------------------\n"
     ]
    }
   ],
   "source": [
    "# Calculate the mean and the variance of the monthly values of megabyte\n",
    "\n",
    "fig, axes = plt.subplots(1, 2, figsize=(16, 8))\n",
    "sns.histplot(users_used, x='mb_used', hue=\"plan\", ax=axes[0]).set(title ='Disrtibution of megabyte by plans', xlabel='values of megabyte used', ylabel='frequency' )\n",
    "sns.boxplot(data = users_used, x ='plan', y='mb_used', showfliers = False, ax=axes[1]).set(title ='Disrtibution of megabyte by plans', xlabel='plans', ylabel='values of megabyte used' );\n",
    "plt.show()\n",
    "print()\n",
    "plans_stat_mb = users_used.groupby('plan')['mb_used'].agg(['mean', 'var', 'std']).T\n",
    "plans_stat_mb.round(0)\n",
    "print('----------------------------------------')\n",
    "print('For plan Surf')\n",
    "print()\n",
    "print(f'Average is ', plans_stat_mb.iloc[0, 0].round(2))\n",
    "cv_mb_surf = users_used.loc[users_used.plan == 'surf', 'mb_used'].std()/users_used.loc[users_used.plan == 'surf', 'mb_used'].mean()\n",
    "if cv_mb_surf>1:\n",
    "    print(\"Varies a lot\")\n",
    "else:\n",
    "    print('Centered around average')\n",
    "    \n",
    "if (plans_stat_mb.iloc[0, 0] - 3*plans_stat_mb.iloc[2, 0]) < 0:\n",
    "    print(f'Most of the data can be found in range: 0 - ', plans_stat_mb.iloc[0, 0].round(0) + 3*plans_stat_mb.iloc[2, 0].round(0))\n",
    "else:\n",
    "    print(f'Most of the data can be found in range: ', (plans_stat_mb.iloc[0, 0].round(0) - 3*plans_stat_mb.iloc[2, 0].round(0), plans_stat_mb.iloc[0, 0].round(0) + 3*plans_stat_mb.iloc[2, 0].round(0)))\n",
    "print('----------------------------------------')\n",
    "print()\n",
    "print('For plan Ultimate')\n",
    "print()\n",
    "print(f'Average is ', plans_stat_mb.iloc[0, -1].round(2))\n",
    "cv_mb_ultimate = users_used.loc[users_used.plan == 'ultimate', 'mb_used'].std()/users_used.loc[users_used.plan == 'ultimate', 'mb_used'].mean()\n",
    "if cv_mb_ultimate>1:\n",
    "    print(\"Varies a lot\")\n",
    "else:\n",
    "    print('Centered around average')\n",
    "    \n",
    "if (plans_stat_mb.iloc[0, -1] - 3*plans_stat_mb.iloc[2, -1]) < 0:\n",
    "    print(f'Most of the data can be found in range: 0 - ', plans_stat_mb.iloc[0, -1].round(0) + 3*plans_stat_mb.iloc[2, -1].round(0))\n",
    "else:\n",
    "    print(f'Most of the data can be found in range: ', (plans_stat_mb.iloc[0, -1].round(0) - 3*plans_stat_mb.iloc[2, -1].round(0), plans_stat_mb.iloc[0, -1].round(0) + 3*plans_stat_mb.iloc[2, -1].round(0)))\n",
    "print('----------------------------------------')"
   ]
  },
  {
   "cell_type": "markdown",
   "metadata": {},
   "source": [
    "Well. We can see that ultra plan users and surf plan users, on average, used almost equal values of megabytes: 16895 and 16433 responsibly. Wherein most of the user ultimate's plan can be found in the range of 0 -  40916.0, for the user surf's plan is in the range of 0 - 40494.0.\\\n",
    "With the increase in the total value of used megabytes - again no one is surprised. They grew in proportion to the growth in the number of users.\\\n",
    "The distribution showed that Internet consumption is practically the same for users of both plans.\n",
    "The short story tells: consumers of both plans consume approximately the same amount of megabytes, and it is above the monthly consumption limit for the surf plan. This is the only service whose consumption has exceeded at least one limit, which indicates its popularity among users."
   ]
  },
  {
   "cell_type": "markdown",
   "metadata": {},
   "source": [
    " "
   ]
  },
  {
   "cell_type": "markdown",
   "metadata": {},
   "source": [
    "## Revenue"
   ]
  },
  {
   "cell_type": "code",
   "execution_count": 48,
   "metadata": {
    "scrolled": false
   },
   "outputs": [
    {
     "data": {
      "image/png": "[encoded data removed]",
      "text/plain": [
       "<Figure size 576x504 with 1 Axes>"
      ]
     },
     "metadata": {
      "needs_background": "light"
     },
     "output_type": "display_data"
    }
   ],
   "source": [
    "# Compare the average values of revenue gets from each plan.\n",
    "revenue_avg_value_monthly = pd.DataFrame(users_used.groupby(['plan','month'])['total_cost'].mean()).reset_index()\n",
    "\n",
    "fig, ax = plt.subplots(figsize=(8,7))\n",
    "ax = sns.barplot(data = revenue_avg_value_monthly, x='month', y='total_cost', hue = 'plan').set(title = 'The average value of revenue is above of monthly payments for every plan', xlabel='month', ylabel='monthly pay')\n",
    "plt.axhline(y=20, xmin=0, xmax=13, c=\"red\", label= 'plan \"surf\" monthly pay')\n",
    "plt.axhline(y=70, xmin=0, xmax=13,  label= 'plan \"ultimate\" monthly pay')\n",
    "plt.legend(loc='center left', bbox_to_anchor=(1, 0.5));\n"
   ]
  },
  {
   "cell_type": "code",
   "execution_count": 49,
   "metadata": {},
   "outputs": [
    {
     "data": {
      "image/png": "[encoded data removed]",
      "text/plain": [
       "<Figure size 1152x576 with 2 Axes>"
      ]
     },
     "metadata": {
      "needs_background": "light"
     },
     "output_type": "display_data"
    }
   ],
   "source": [
    "# Compare the values of revenue each plan gets each month. Plot a bar chart.\n",
    "revenue_monthly_pt = users_used.pivot_table(index = ['plan', 'month'], values=['total_cost', 'user_id'],aggfunc = {'total_cost':'sum', 'user_id':'count'}).reset_index()\n",
    "revenue_monthly_pt.month = revenue_monthly_pt.month.astype('str')\n",
    "\n",
    "fig, ax1 = plt.subplots(figsize=(16,8))\n",
    "sns.lineplot(data=revenue_monthly_pt, x='month', y='user_id',marker = 'o',hue = 'plan', sort = False, ax=ax1).set(ylabel = 'number of users')\n",
    "ax2 = ax1.twinx()\n",
    "sns.barplot(data = revenue_monthly_pt, x='month', y='total_cost', hue = 'plan', alpha=0.8, ax=ax2).set(title = 'The amount of revenue by month.', xlabel = 'month', ylabel = 'revenue')\n",
    "plt.show();"
   ]
  },
  {
   "cell_type": "code",
   "execution_count": 50,
   "metadata": {},
   "outputs": [
    {
     "data": {
      "text/plain": [
       "[Text(0.5, 1.0, 'Disrtibution of amount of revenue by plans'),\n",
       " Text(0.5, 0, 'amount of revenue'),\n",
       " Text(0, 0.5, 'frequency')]"
      ]
     },
     "execution_count": 50,
     "metadata": {},
     "output_type": "execute_result"
    },
    {
     "data": {
      "text/plain": [
       "[Text(0.5, 1.0, 'Disrtibution of amount of revenue by plans'),\n",
       " Text(0.5, 0, 'plans'),\n",
       " Text(0, 0.5, 'amount of revenue')]"
      ]
     },
     "execution_count": 50,
     "metadata": {},
     "output_type": "execute_result"
    },
    {
     "data": {
      "image/png": "[encoded data removed]",
      "text/plain": [
       "<Figure size 1152x576 with 2 Axes>"
      ]
     },
     "metadata": {
      "needs_background": "light"
     },
     "output_type": "display_data"
    },
    {
     "name": "stdout",
     "output_type": "stream",
     "text": [
      "\n"
     ]
    },
    {
     "data": {
      "text/html": [
       "<div>\n",
       "<style scoped>\n",
       "    .dataframe tbody tr th:only-of-type {\n",
       "        vertical-align: middle;\n",
       "    }\n",
       "\n",
       "    .dataframe tbody tr th {\n",
       "        vertical-align: top;\n",
       "    }\n",
       "\n",
       "    .dataframe thead th {\n",
       "        text-align: right;\n",
       "    }\n",
       "</style>\n",
       "<table border=\"1\" class=\"dataframe\">\n",
       "  <thead>\n",
       "    <tr style=\"text-align: right;\">\n",
       "      <th>plan</th>\n",
       "      <th>surf</th>\n",
       "      <th>ultimate</th>\n",
       "    </tr>\n",
       "  </thead>\n",
       "  <tbody>\n",
       "    <tr>\n",
       "      <th>mean</th>\n",
       "      <td>62.600083</td>\n",
       "      <td>72.565737</td>\n",
       "    </tr>\n",
       "    <tr>\n",
       "      <th>var</th>\n",
       "      <td>3293.610959</td>\n",
       "      <td>155.394942</td>\n",
       "    </tr>\n",
       "    <tr>\n",
       "      <th>std</th>\n",
       "      <td>57.389990</td>\n",
       "      <td>12.465751</td>\n",
       "    </tr>\n",
       "  </tbody>\n",
       "</table>\n",
       "</div>"
      ],
      "text/plain": [
       "plan         surf    ultimate\n",
       "mean    62.600083   72.565737\n",
       "var   3293.610959  155.394942\n",
       "std     57.389990   12.465751"
      ]
     },
     "execution_count": 50,
     "metadata": {},
     "output_type": "execute_result"
    },
    {
     "name": "stdout",
     "output_type": "stream",
     "text": [
      "----------------------------------------\n",
      "For plan Surf\n",
      "\n",
      "Average is  62.6\n",
      "Centered around average\n",
      "Most of the data can be found in range: 0 -  234.0\n",
      "----------------------------------------\n",
      "\n",
      "For plan Ultimate\n",
      "\n",
      "Average is  72.57\n",
      "Centered around average\n",
      "Most of the data can be found in range: 37.0 - 109.0\n",
      "----------------------------------------\n"
     ]
    }
   ],
   "source": [
    "# Calculate the mean and the variance of the monthly revenue.\n",
    "\n",
    "fig, axes = plt.subplots(1, 2, figsize=(16, 8))\n",
    "sns.histplot(users_used, x='total_cost', hue=\"plan\", ax=axes[0]).set(title ='Disrtibution of amount of revenue by plans', xlabel='amount of revenue', ylabel='frequency' )\n",
    "sns.boxplot(data = users_used, x ='plan', y='total_cost', showfliers = False, ax=axes[1]).set(title ='Disrtibution of amount of revenue by plans', xlabel='plans', ylabel='amount of revenue' )\n",
    "plt.show()\n",
    "print()\n",
    "plans_stat_rev = users_used.groupby('plan')['total_cost'].agg(['mean', 'var', 'std']).T\n",
    "plans_stat_rev\n",
    "print('----------------------------------------')\n",
    "print('For plan Surf')\n",
    "print()\n",
    "print(f'Average is ', plans_stat_rev.iloc[0, 0].round(2))\n",
    "cv_rev_surf = users_used.loc[users_used.plan == 'surf', 'total_cost'].std()/users_used.loc[users_used.plan == 'surf', 'total_cost'].mean()\n",
    "if cv_rev_surf>1:\n",
    "    print(\"Varies a lot\")\n",
    "else:\n",
    "    print('Centered around average')\n",
    "    \n",
    "if (plans_stat_rev.iloc[0, 0] - 3*plans_stat_rev.iloc[2, 0]) < 0:\n",
    "    print(f'Most of the data can be found in range: 0 - ', plans_stat_rev.iloc[0, 0].round(0) + 3*plans_stat_rev.iloc[2, 0].round(0))\n",
    "else:\n",
    "    print(f'Most of the data can be found in range: ', (plans_stat_rev.iloc[0, 0].round(0) - 3*plans_stat_rev.iloc[2, 0].round(0), plans_stat_rev.iloc[0, 0].round(0) + 3*plans_stat_rev.iloc[2, 0].round(0)))\n",
    "print('----------------------------------------')\n",
    "print()\n",
    "print('For plan Ultimate')\n",
    "print()\n",
    "print(f'Average is ', plans_stat_rev.iloc[0, -1].round(2))\n",
    "cv_rev_ultimate = users_used.loc[users_used.plan == 'ultimate', 'total_cost'].std()/users_used.loc[users_used.plan == 'ultimate', 'total_cost'].mean()\n",
    "if cv_rev_ultimate>1:\n",
    "    print(\"Varies a lot\")\n",
    "else:\n",
    "    print('Centered around average')\n",
    "    \n",
    "if (plans_stat_rev.iloc[0, -1] - 3*plans_stat_rev.iloc[2, -1]) < 0:\n",
    "    print(f'Most of the data can be found in range: 0 - {plans_stat_rev.iloc[0, -1].round(0) + 3*plans_stat_rev.iloc[2, -1].round(0)}')\n",
    "else:\n",
    "    print(f'Most of the data can be found in range: {plans_stat_rev.iloc[0, -1].round(0) - 3*plans_stat_rev.iloc[2, -1].round(0)} - {plans_stat_rev.iloc[0, -1].round(0) + 3*plans_stat_rev.iloc[2, -1].round(0)}')\n",
    "print('----------------------------------------')"
   ]
  },
  {
   "cell_type": "code",
   "execution_count": 51,
   "metadata": {},
   "outputs": [
    {
     "data": {
      "image/png": "[encoded data removed]",
      "text/plain": [
       "<Figure size 1600x900 with 2 Axes>"
      ]
     },
     "metadata": {
      "needs_background": "light"
     },
     "output_type": "display_data"
    }
   ],
   "source": [
    "users_used['plan_id'] = users_used.plan.map(plans_dictionary)\n",
    "figure(figsize=(16, 9), dpi=100)\n",
    "heatmap = sns.heatmap(users_used[['calls_duration', 'calls', 'messages', 'gb_used', 'total_cost', 'plan_id']].corr(), vmin=-1, vmax=1, annot=True) \n",
    "heatmap.set_title('Correlation Heatmap', fontdict={'fontsize':12}, pad=12);"
   ]
  },
  {
   "cell_type": "markdown",
   "metadata": {},
   "source": [
    "So we got to the most interesting - revenue.\\\n",
    "We see that the average revenue for each plan exceeds the corresponding monthly payment, but the question is how much? The surf plan is three times the excess (**62** with a monthly payment of **20**). The ultimate plan costs users **73** on average with a monthly payment of **70**. From this, I will conclude that for the ultimate, exceeding the limit is rather an accident, but for users of the surf plan, this is a systemic character.\\\n",
    "Total revenue grew along with the number of users, no surprises here.\n",
    "The distribution plot shows that this is a normal distribution with positive kurtosis and right-hand skewness.\\\n",
    "The heat map of the correlation showed that revenue has a strong correlation with the Internet consumption indicator.\\\n",
    "Summing up.\\\n",
    "The average user payment for the surf plan is **62.6**, which is almost equal to the monthly payment for the ultimate plan. At the same time, users of the ultimate plan pay a little extra. Prima facie, it is worth changing the plan from the surf to the ultimate.\\\n",
    "!But\\\n",
    "We're looking at averages, so we need to take a closer look. The main factor that leads to this is the amount of Internet consumed.\\\n",
    "So let's count.\\\n",
    "The difference between the ultimate plan and the surf plan is 70 - 20 = 50 dollars. With the price for plan-surf 1 GB - 10 dollars - this is an additional 5 GB of traffic.\\\n",
    "For all users whose average consumption is more than 20 GB / month, it is more profitable to switch to the ultimate plan. Accordingly, for all users, whose monthly Internet consumption is below 20 GB, it is better to switch to the surf plan and not overpay."
   ]
  },
  {
   "cell_type": "code",
   "execution_count": 52,
   "metadata": {},
   "outputs": [
    {
     "name": "stdout",
     "output_type": "stream",
     "text": [
      "It would be better to change a plan to another one for 64 surf's plan users and 141 ultimate's plan users. This is 18.77%  and 80.11% of their number respectively.\n"
     ]
    }
   ],
   "source": [
    "# make a slices for surf's plan users\n",
    "check_users_surf = users_used.query('plan == \"surf\"').groupby(['user_id'])['gb_used'].mean().reset_index()\n",
    "check_users_surf_20 = check_users_surf.query('gb_used > 20')\n",
    "\n",
    "# make a slices for ultimate's plan users\n",
    "check_users_ultimate = users_used.query('plan == \"ultimate\"').groupby(['user_id'])['gb_used'].mean().reset_index()\n",
    "check_users_ultimate_20 = check_users_ultimate.query('gb_used <= 20')\n",
    "\n",
    "#print conclusion\n",
    "print(f\"It would be better to change a plan to another one for {len(check_users_surf_20)} surf's plan users\\\n",
    " and {len(check_users_ultimate_20)} ultimate's plan users. This is {len(check_users_surf_20)/len(check_users_surf):.2%}\\\n",
    "  and {len(check_users_ultimate_20)/len(check_users_ultimate):.2%} of their number respectively.\")"
   ]
  },
  {
   "cell_type": "markdown",
   "metadata": {},
   "source": [
    "Well, we see that 80% (141 users) of the users of the ultimate plan are overpaying. At the same time, among the users of the surf plan, there are only 18% of them (64 users). Obviously, given the structure of consumption, the surf plan turned out to be more profitable for users."
   ]
  },
  {
   "cell_type": "markdown",
   "metadata": {},
   "source": [
    " "
   ]
  },
  {
   "cell_type": "markdown",
   "metadata": {},
   "source": [
    "## Test statistical hypotheses"
   ]
  },
  {
   "cell_type": "markdown",
   "metadata": {},
   "source": [
    "**Test_1**\\\n",
    "**The hypothesis that the average revenue from users of the Ultimate and Surf calling plans differs.**"
   ]
  },
  {
   "cell_type": "markdown",
   "metadata": {},
   "source": [
    "*Null Hypothesis:* There is no difference between the average revenue from users of Ultimate and Surf calling plans.\n",
    "\n",
    "*Alternative hypothesis:* Average revenue per month for ultimate users is not the same as the average revenue per month for surf users.\n",
    "\n",
    "*Critical statistical significance level* = 0.05\n",
    "\n",
    "As that depends it is used to compare the means of two groups in order to determine whether two groups are different from one another we will use a *t-test*. "
   ]
  },
  {
   "cell_type": "code",
   "execution_count": 53,
   "metadata": {},
   "outputs": [
    {
     "name": "stdout",
     "output_type": "stream",
     "text": [
      "Reject H0: average of sample 1 is not equal to average of sample 2\n",
      "P-value is 7.166961131078659e-11\n",
      "Average revenue of surf is 62.60008306709256\n",
      "Average revenue of ultimate is 72.56573705179282\n"
     ]
    }
   ],
   "source": [
    "# At first, make the function with levene test for recognizing equal of variance and with t-test\n",
    "def t_test(sample1,sample2,alpha=0.05):\n",
    "    p_value_levene=st.levene(sample1, sample2).pvalue\n",
    "    if p_value_levene<alpha:\n",
    "        option_var=False\n",
    "    else:\n",
    "        option_var=True\n",
    "    p_value=st.ttest_ind(sample1, sample2,nan_policy='omit',equal_var=option_var).pvalue\n",
    "    if p_value<alpha:\n",
    "        print(f'Reject H0: average of sample 1 is not equal to average of sample 2')\n",
    "    else:\n",
    "        print( \"Fail to Reject H0: We don't have enough evidence to say that averages of sample 1 \\\n",
    "  and sample 2 are not the same\")\n",
    "    print(f'P-value is {p_value}')\n",
    "        \n",
    "# let's make two sample\n",
    "rev_surf = users_used.loc[users_used.plan == 'surf', 'total_cost']\n",
    "rev_ultimate = users_used.loc[users_used.plan == 'ultimate', 'total_cost']\n",
    "\n",
    "# let's make a test\n",
    "t_test(rev_surf, rev_ultimate)\n",
    "print(f'Average revenue of surf is {rev_surf.mean()}')\n",
    "print(f'Average revenue of ultimate is {rev_ultimate.mean()}')\n"
   ]
  },
  {
   "cell_type": "markdown",
   "metadata": {},
   "source": [
    "**Conclusion.**\\\n",
    "I formulated the null hypothesis that there is no difference between the average revenue of users of the surf plan and the ultimate plan. I used a significance level of 0.05. The test gave a much smaller p-value, so I reject the null hypothesis.\\\n",
    "**The average revenue from the surf and the ultimate users is different.**"
   ]
  },
  {
   "cell_type": "markdown",
   "metadata": {},
   "source": [
    "**Test_2**\\\n",
    "**The hypothesis that the average revenue from users in the NY-NJ area is different from that of the users from the other regions.**"
   ]
  },
  {
   "cell_type": "markdown",
   "metadata": {},
   "source": [
    "*Null Hypothesis:* There is no difference between the average revenue from users in the NY-NJ area and the users from the other regions.\n",
    "\n",
    "*Alternative hypothesis:* Average revenue from users in the NY-NJ area is not the same as from the users from the other regions.\n",
    "\n",
    "*Critical statistical significance level* = 0.05\n",
    "\n",
    "As that depends it is used to compare the means of two groups in order to determine whether two groups are different from one another we will use a *t-test*. "
   ]
  },
  {
   "cell_type": "code",
   "execution_count": 54,
   "metadata": {},
   "outputs": [
    {
     "name": "stdout",
     "output_type": "stream",
     "text": [
      "Fail to Reject H0: We don't have enough evidence to say that averages of sample 1   and sample 2 are not the same\n",
      "P-value is 0.080875776174523\n",
      "Average revenue of NY-NJ-PA MSA is 61.932898172323796\n",
      "Average revenue of other MSA is 66.61024806201549\n"
     ]
    }
   ],
   "source": [
    "# Test the hypotheses\n",
    "\n",
    "rev_ny = users_used.loc[users_used.city == 'New York-Newark-Jersey City, NY-NJ-PA MSA', 'total_cost']\n",
    "rev_not_ny = users_used.loc[users_used.city != 'New York-Newark-Jersey City, NY-NJ-PA MSA', 'total_cost']\n",
    "\n",
    "t_test(rev_ny, rev_not_ny)\n",
    "print(f'Average revenue of NY-NJ-PA MSA is {rev_ny.mean()}')\n",
    "print(f'Average revenue of other MSA is {rev_not_ny.mean()}')\n"
   ]
  },
  {
   "cell_type": "markdown",
   "metadata": {},
   "source": [
    "**Conclusion.**\\\n",
    "I formulated the null hypothesis that there is no difference between the average revenue from users in the NY-NJ area and the users from the other regions. I used a significance level of 0.05. The test gave a greater p-value, so I fail to reject the null hypothesis.\\\n",
    "**The average revenue from users in the NY-NJ area and the users from the other regions are not different.**"
   ]
  },
  {
   "cell_type": "markdown",
   "metadata": {},
   "source": [
    "## General conclusion\n",
    "\n",
    "During the project, we loaded 5 date frames, filled in the missing values, changed the data type for data related to dates. We found out that some users changed the plan during the year, therefore, columns with dates and the plan were added to the data frames. We calculated the monthly consumption of calls, messages and the Internet for each user, and based on this, we already calculated the monthly revenue.\n",
    "\n",
    "After that, we conducted exploratory and statistical analyzes and found that, if measured by the average, the behavior of users of both plans regarding **calls** is very similar. Surf plan users make an average of 54 calls, with an average duration of 425 minutes. Users of the ultimate plan also make 54 calls on average, but with an average duration of 424 minutes. But at the same time, users of the ultimate plan have more dispersion of the call duration, which indicates their freer behavior.\n",
    "\n",
    "In terms of **messages**, on average, users of the surf plan send fewer messages than users of the ultimate plan, 31 messages versus 37 messages respectively. But the dispersion turned out to be stronger among the users of the surf plan, showing a coefficient of variation greater than one (1.08). True, even for the users of the ultimate plan, he almost almost reached one unit (0.93). In general, I would say that users of both plans do not pay attention to how they consume this service.\n",
    "\n",
    "**Internet.**\\\n",
    "Like calls, the averages differ little - 16GB for surf users, and 17GB for users of the ultimate plan. The standard deviation also does not delight us with a big diversity: 8020 at the surf and 8007 at the ultimate. \n",
    "\n",
    "**Revenue.**\\\n",
    "If you look at the nominal average revenue, then here it is more for users of the ultimate plan - 73 dollars, against 63 dollars for users of the surf plan. But I would rate it differently. I would ask the question - how much, on average, additional revenue (revenue over the monthly payment) is brought by users of each plan. And those users of the surf plan are far ahead - $43, against $3 for users of the ultimate plan.\n",
    "\n",
    "We then carried out statistical tests.\n",
    "In the first test, we checked whether the average revenue differs between users of the surf and ultimate plugins. The resulting p_value turned out to be lower than the critical statistical significance level = 0.05 , and we had to reject the null hypothesis that the average revenues are equal.\n",
    "In the second test, we checked whether the average revenue differs between users in the NY-NJ area and other regions. In this test, p_value turned out to be higher than the critical statistical significance level = 0.05, and we could not reject the null hypothesis that the average revenue for them is equal.\n",
    "!BUT\n",
    "Here it is worth clarifying that we compared the NY-NJ area and the totality of ALL other regions. Do not think that the average revenue is equal for all regions.\n",
    "\n",
    "Summing up the research, I want to say:\n",
    "- I didn't find any **significant** differences in user behavior between the two plans. Perhaps an analysis by age category will give us more understanding of their differences.\n",
    "- Only the indicator of consumed Internet showed a strong correlation with revenue. It is the consumption of Internet that brings the company additional revenue.\n",
    "- About 41% of users overpay for the company's services (either paying a lot for the Internet, or paying a lot for a plan). I would approach users with a proposal to change the plan, and an explanation of why. This should increase user confidence in our company.\n",
    "- It is worth doing more research why we have a drop in the number of users in the 26-35 age group.\n"
   ]
  }
 ],
 "metadata": {
  "ExecuteTimeLog": [
   {
    "duration": 828,
    "start_time": "2021-11-16T09:21:11.304Z"
   },
   {
    "duration": 893,
    "start_time": "2021-11-16T09:21:17.728Z"
   },
   {
    "duration": 1150,
    "start_time": "2021-11-16T09:21:29.568Z"
   },
   {
    "duration": 3,
    "start_time": "2021-11-16T09:24:14.495Z"
   },
   {
    "duration": 120,
    "start_time": "2021-11-16T09:24:46.630Z"
   },
   {
    "duration": 3,
    "start_time": "2021-11-16T09:28:27.882Z"
   },
   {
    "duration": 4,
    "start_time": "2021-11-16T09:29:54.281Z"
   },
   {
    "duration": 3,
    "start_time": "2021-11-16T09:30:45.936Z"
   },
   {
    "duration": 4,
    "start_time": "2021-11-16T09:31:06.300Z"
   },
   {
    "duration": 113,
    "start_time": "2021-11-16T09:31:37.208Z"
   },
   {
    "duration": 143,
    "start_time": "2021-11-16T09:31:48.656Z"
   },
   {
    "duration": 98,
    "start_time": "2021-11-16T09:31:55.678Z"
   },
   {
    "duration": 3,
    "start_time": "2021-11-16T09:32:08.535Z"
   },
   {
    "duration": 111,
    "start_time": "2021-11-16T09:32:10.120Z"
   },
   {
    "duration": 3,
    "start_time": "2021-11-16T09:32:15.732Z"
   },
   {
    "duration": 4,
    "start_time": "2021-11-16T09:32:29.423Z"
   },
   {
    "duration": 3,
    "start_time": "2021-11-16T10:03:03.074Z"
   },
   {
    "duration": 3,
    "start_time": "2021-11-16T10:10:01.288Z"
   },
   {
    "duration": 3,
    "start_time": "2021-11-16T10:10:46.923Z"
   },
   {
    "duration": 121,
    "start_time": "2021-11-16T10:37:46.494Z"
   },
   {
    "duration": 125,
    "start_time": "2021-11-16T10:38:20.632Z"
   },
   {
    "duration": 112,
    "start_time": "2021-11-16T10:46:53.001Z"
   },
   {
    "duration": 110,
    "start_time": "2021-11-16T10:48:25.775Z"
   },
   {
    "duration": 3,
    "start_time": "2021-11-16T10:50:18.720Z"
   },
   {
    "duration": 4,
    "start_time": "2021-11-16T10:50:37.649Z"
   },
   {
    "duration": 2,
    "start_time": "2021-11-16T10:50:51.884Z"
   },
   {
    "duration": 3,
    "start_time": "2021-11-16T10:51:56.237Z"
   },
   {
    "duration": 101,
    "start_time": "2021-11-16T10:53:13.791Z"
   },
   {
    "duration": 3,
    "start_time": "2021-11-16T10:55:59.186Z"
   },
   {
    "duration": 3,
    "start_time": "2021-11-16T10:56:10.751Z"
   },
   {
    "duration": 3,
    "start_time": "2021-11-16T10:56:49.038Z"
   },
   {
    "duration": 3,
    "start_time": "2021-11-16T10:56:49.174Z"
   },
   {
    "duration": 4,
    "start_time": "2021-11-16T10:56:49.414Z"
   },
   {
    "duration": 3,
    "start_time": "2021-11-16T10:56:49.680Z"
   },
   {
    "duration": 3,
    "start_time": "2021-11-16T10:56:50.370Z"
   },
   {
    "duration": 114,
    "start_time": "2021-11-16T10:59:34.518Z"
   },
   {
    "duration": 3,
    "start_time": "2021-11-16T11:01:41.201Z"
   },
   {
    "duration": 116,
    "start_time": "2021-11-16T11:01:48.754Z"
   },
   {
    "duration": 3,
    "start_time": "2021-11-16T11:02:16.685Z"
   },
   {
    "duration": 3,
    "start_time": "2021-11-16T11:02:19.479Z"
   },
   {
    "duration": 3,
    "start_time": "2021-11-16T11:02:47.067Z"
   },
   {
    "duration": 3,
    "start_time": "2021-11-16T11:02:49.353Z"
   },
   {
    "duration": 3,
    "start_time": "2021-11-16T11:03:07.835Z"
   },
   {
    "duration": 3,
    "start_time": "2021-11-16T11:03:07.953Z"
   },
   {
    "duration": 112,
    "start_time": "2021-11-16T11:07:52.072Z"
   },
   {
    "duration": 187,
    "start_time": "2021-11-16T11:09:23.468Z"
   },
   {
    "duration": 4,
    "start_time": "2021-11-16T11:10:01.455Z"
   },
   {
    "duration": 3,
    "start_time": "2021-11-16T11:10:05.069Z"
   },
   {
    "duration": 4,
    "start_time": "2021-11-16T11:10:13.376Z"
   },
   {
    "duration": 3,
    "start_time": "2021-11-16T11:10:14.434Z"
   },
   {
    "duration": 3,
    "start_time": "2021-11-16T11:10:22.853Z"
   },
   {
    "duration": 4,
    "start_time": "2021-11-16T11:27:29.279Z"
   },
   {
    "duration": 4,
    "start_time": "2021-11-16T11:29:08.919Z"
   },
   {
    "duration": 118,
    "start_time": "2021-11-16T11:29:46.703Z"
   },
   {
    "duration": 437,
    "start_time": "2021-11-16T11:36:02.181Z"
   },
   {
    "duration": 157,
    "start_time": "2021-11-16T11:36:14.388Z"
   },
   {
    "duration": 207,
    "start_time": "2021-11-16T11:47:15.898Z"
   },
   {
    "duration": 3,
    "start_time": "2021-11-16T11:53:52.092Z"
   },
   {
    "duration": 3,
    "start_time": "2021-11-16T11:53:52.236Z"
   },
   {
    "duration": 3,
    "start_time": "2021-11-16T11:59:12.005Z"
   },
   {
    "duration": 112,
    "start_time": "2021-11-16T12:00:33.446Z"
   },
   {
    "duration": 3,
    "start_time": "2021-11-16T12:02:14.453Z"
   },
   {
    "duration": 3,
    "start_time": "2021-11-16T12:02:39.512Z"
   },
   {
    "duration": 106,
    "start_time": "2021-11-16T12:03:03.460Z"
   },
   {
    "duration": 3,
    "start_time": "2021-11-17T20:37:21.139Z"
   },
   {
    "duration": 3,
    "start_time": "2021-11-17T20:37:22.229Z"
   },
   {
    "duration": 3,
    "start_time": "2021-11-17T20:38:38.806Z"
   },
   {
    "duration": 3,
    "start_time": "2021-11-17T20:38:41.958Z"
   },
   {
    "duration": 3,
    "start_time": "2021-11-17T20:43:46.551Z"
   },
   {
    "duration": 4,
    "start_time": "2021-11-17T20:58:21.835Z"
   },
   {
    "duration": 3,
    "start_time": "2021-11-17T20:59:21.872Z"
   },
   {
    "duration": 4,
    "start_time": "2021-11-17T20:59:45.352Z"
   },
   {
    "duration": 4,
    "start_time": "2021-11-17T20:59:49.646Z"
   },
   {
    "duration": 159,
    "start_time": "2021-11-17T21:02:26.949Z"
   },
   {
    "duration": 3,
    "start_time": "2021-11-17T21:03:53.461Z"
   },
   {
    "duration": 3,
    "start_time": "2021-11-17T21:03:53.694Z"
   },
   {
    "duration": 3,
    "start_time": "2021-11-17T21:05:28.145Z"
   },
   {
    "duration": 116,
    "start_time": "2021-11-17T21:05:57.787Z"
   },
   {
    "duration": 3,
    "start_time": "2021-11-17T21:06:37.993Z"
   },
   {
    "duration": 3,
    "start_time": "2021-11-17T21:06:38.261Z"
   },
   {
    "duration": 3,
    "start_time": "2021-11-17T21:11:54.358Z"
   },
   {
    "duration": 3,
    "start_time": "2021-11-17T21:12:43.846Z"
   },
   {
    "duration": 4,
    "start_time": "2021-11-17T21:13:08.773Z"
   },
   {
    "duration": 3,
    "start_time": "2021-11-17T21:14:44.441Z"
   },
   {
    "duration": 3,
    "start_time": "2021-11-17T21:15:42.059Z"
   },
   {
    "duration": 4,
    "start_time": "2021-11-17T21:15:51.995Z"
   },
   {
    "duration": 3,
    "start_time": "2021-11-17T21:15:53.923Z"
   },
   {
    "duration": 3,
    "start_time": "2021-11-17T21:15:55.282Z"
   },
   {
    "duration": 3,
    "start_time": "2021-11-17T21:16:28.492Z"
   },
   {
    "duration": 3,
    "start_time": "2021-11-17T21:16:32.603Z"
   },
   {
    "duration": 3,
    "start_time": "2021-11-17T21:17:06.941Z"
   },
   {
    "duration": 98,
    "start_time": "2021-11-17T21:18:05.733Z"
   },
   {
    "duration": 4,
    "start_time": "2021-11-17T21:21:35.255Z"
   },
   {
    "duration": 3,
    "start_time": "2021-11-17T21:21:37.804Z"
   },
   {
    "duration": 4,
    "start_time": "2021-11-17T21:23:06.071Z"
   },
   {
    "duration": 3,
    "start_time": "2021-11-17T21:23:24.799Z"
   },
   {
    "duration": 3,
    "start_time": "2021-11-17T21:23:32.591Z"
   },
   {
    "duration": 98,
    "start_time": "2021-11-17T21:28:31.559Z"
   },
   {
    "duration": 3,
    "start_time": "2021-11-17T21:28:45.448Z"
   },
   {
    "duration": 3,
    "start_time": "2021-11-17T21:29:17.303Z"
   },
   {
    "duration": 3,
    "start_time": "2021-11-17T21:29:29.617Z"
   },
   {
    "duration": 3,
    "start_time": "2021-11-17T21:29:32.681Z"
   },
   {
    "duration": 3,
    "start_time": "2021-11-17T21:36:11.474Z"
   },
   {
    "duration": 3,
    "start_time": "2021-11-17T21:36:14.791Z"
   },
   {
    "duration": 3,
    "start_time": "2021-11-17T21:36:53.943Z"
   },
   {
    "duration": 3,
    "start_time": "2021-11-17T21:36:56.165Z"
   },
   {
    "duration": 4,
    "start_time": "2021-11-17T21:37:16.590Z"
   },
   {
    "duration": 3,
    "start_time": "2021-11-17T21:37:22.702Z"
   },
   {
    "duration": 4,
    "start_time": "2021-11-17T21:38:03.479Z"
   },
   {
    "duration": 3,
    "start_time": "2021-11-17T21:38:08.601Z"
   },
   {
    "duration": 3,
    "start_time": "2021-11-17T21:38:12.928Z"
   },
   {
    "duration": 3,
    "start_time": "2021-11-17T21:38:48.896Z"
   },
   {
    "duration": 2,
    "start_time": "2021-11-17T21:38:49.171Z"
   },
   {
    "duration": 4,
    "start_time": "2021-11-17T21:39:57.889Z"
   },
   {
    "duration": 3,
    "start_time": "2021-11-17T21:39:58.057Z"
   },
   {
    "duration": 3,
    "start_time": "2021-11-17T21:41:20.108Z"
   },
   {
    "duration": 3,
    "start_time": "2021-11-17T21:41:20.629Z"
   },
   {
    "duration": 3,
    "start_time": "2021-11-17T21:42:49.136Z"
   },
   {
    "duration": 3,
    "start_time": "2021-11-17T21:43:15.137Z"
   },
   {
    "duration": 4,
    "start_time": "2021-11-17T21:43:16.766Z"
   },
   {
    "duration": 4,
    "start_time": "2021-11-17T21:43:31.711Z"
   },
   {
    "duration": 3,
    "start_time": "2021-11-17T21:43:36.312Z"
   },
   {
    "duration": 4,
    "start_time": "2021-11-17T21:45:08.825Z"
   },
   {
    "duration": 4,
    "start_time": "2021-11-17T21:45:10.119Z"
   },
   {
    "duration": 4,
    "start_time": "2021-11-17T21:45:13.748Z"
   },
   {
    "duration": 3,
    "start_time": "2021-11-17T21:45:22.219Z"
   },
   {
    "duration": 3,
    "start_time": "2021-11-17T21:45:33.412Z"
   },
   {
    "duration": 2,
    "start_time": "2021-11-17T21:46:01.885Z"
   },
   {
    "duration": 3,
    "start_time": "2021-11-17T21:46:03.628Z"
   },
   {
    "duration": 107,
    "start_time": "2021-11-17T21:47:32.512Z"
   },
   {
    "duration": 103,
    "start_time": "2021-11-17T21:50:36.243Z"
   },
   {
    "duration": 3,
    "start_time": "2021-11-18T06:28:31.440Z"
   },
   {
    "duration": 3,
    "start_time": "2021-11-18T06:29:00.168Z"
   },
   {
    "duration": 3,
    "start_time": "2021-11-18T06:31:27.008Z"
   },
   {
    "duration": 2,
    "start_time": "2021-11-18T06:35:34.288Z"
   },
   {
    "duration": 2,
    "start_time": "2021-11-18T06:38:04.527Z"
   }
  ],
  "kernelspec": {
   "display_name": "Python 3",
   "language": "python",
   "name": "python3"
  },
  "language_info": {
   "codemirror_mode": {
    "name": "ipython",
    "version": 3
   },
   "file_extension": ".py",
   "mimetype": "text/x-python",
   "name": "python",
   "nbconvert_exporter": "python",
   "pygments_lexer": "ipython3",
   "version": "3.8.8"
  },
  "toc": {
   "base_numbering": 1,
   "nav_menu": {},
   "number_sections": true,
   "sideBar": true,
   "skip_h1_title": false,
   "title_cell": "Table of Contents",
   "title_sidebar": "Contents",
   "toc_cell": false,
   "toc_position": {},
   "toc_section_display": true,
   "toc_window_display": false
  }
 },
 "nbformat": 4,
 "nbformat_minor": 2
}
